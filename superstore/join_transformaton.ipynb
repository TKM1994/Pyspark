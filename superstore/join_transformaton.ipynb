{
 "cells": [
  {
   "cell_type": "code",
   "execution_count": 2,
   "metadata": {},
   "outputs": [],
   "source": [
    "from pyspark.sql import SparkSession\n",
    "spark = SparkSession.builder.appName(\"Join\").getOrCreate()"
   ]
  },
  {
   "cell_type": "code",
   "execution_count": 3,
   "metadata": {},
   "outputs": [
    {
     "data": {
      "text/html": [
       "\n",
       "            <div>\n",
       "                <p><b>SparkSession - in-memory</b></p>\n",
       "                \n",
       "        <div>\n",
       "            <p><b>SparkContext</b></p>\n",
       "\n",
       "            <p><a href=\"http://HP:4040\">Spark UI</a></p>\n",
       "\n",
       "            <dl>\n",
       "              <dt>Version</dt>\n",
       "                <dd><code>v3.4.3</code></dd>\n",
       "              <dt>Master</dt>\n",
       "                <dd><code>local[*]</code></dd>\n",
       "              <dt>AppName</dt>\n",
       "                <dd><code>Join</code></dd>\n",
       "            </dl>\n",
       "        </div>\n",
       "        \n",
       "            </div>\n",
       "        "
      ],
      "text/plain": [
       "<pyspark.sql.session.SparkSession at 0x20f1620f710>"
      ]
     },
     "execution_count": 3,
     "metadata": {},
     "output_type": "execute_result"
    }
   ],
   "source": [
    "spark"
   ]
  },
  {
   "cell_type": "code",
   "execution_count": 4,
   "metadata": {},
   "outputs": [],
   "source": [
    "orders_rdd = spark.sparkContext.textFile(\"hdfs://localhost:9000/user/tkm/data/sample_superstore/orders.csv\")"
   ]
  },
  {
   "cell_type": "code",
   "execution_count": 5,
   "metadata": {},
   "outputs": [
    {
     "data": {
      "text/plain": [
       "['Row ID,Order ID,Order Date,Ship Date,Ship Mode,Customer ID,Customer Name,Segment,Country,City,State,Postal Code,Region,Product ID,Category,Sub-Category,Product Name,Sales,Quantity,Discount,Profit',\n",
       " '1,CA-2016-152156,11/8/2016,11/11/2016,Second Class,CG-12520,Claire Gute,Consumer,United States,Henderson,Kentucky,42420,South,FUR-BO-10001798,Furniture,Bookcases,Bush Somerset Collection Bookcase,261.96,2,0,41.9136',\n",
       " '2,CA-2016-152156,11/8/2016,11/11/2016,Second Class,CG-12520,Claire Gute,Consumer,United States,Henderson,Kentucky,42420,South,FUR-CH-10000454,Furniture,Chairs,\"Hon Deluxe Fabric Upholstered Stacking Chairs, Rounded Back\",731.94,3,0,219.582']"
      ]
     },
     "execution_count": 5,
     "metadata": {},
     "output_type": "execute_result"
    }
   ],
   "source": [
    "orders_rdd.take(3)"
   ]
  },
  {
   "cell_type": "code",
   "execution_count": 14,
   "metadata": {},
   "outputs": [],
   "source": [
    "returns_rdd =spark.sparkContext.textFile(\"hdfs://localhost:9000/user/tkm/data/sample_superstore/returns.csv\")"
   ]
  },
  {
   "cell_type": "code",
   "execution_count": 7,
   "metadata": {},
   "outputs": [
    {
     "data": {
      "text/plain": [
       "['Returned,Order ID', 'Yes,CA-2017-153822', 'Yes,CA-2017-129707']"
      ]
     },
     "execution_count": 7,
     "metadata": {},
     "output_type": "execute_result"
    }
   ],
   "source": [
    "returns_rdd.take(3)"
   ]
  },
  {
   "cell_type": "code",
   "execution_count": 10,
   "metadata": {},
   "outputs": [
    {
     "data": {
      "text/plain": [
       "['1,CA-2016-152156,11/8/2016,11/11/2016,Second Class,CG-12520,Claire Gute,Consumer,United States,Henderson,Kentucky,42420,South,FUR-BO-10001798,Furniture,Bookcases,Bush Somerset Collection Bookcase,261.96,2,0,41.9136',\n",
       " '2,CA-2016-152156,11/8/2016,11/11/2016,Second Class,CG-12520,Claire Gute,Consumer,United States,Henderson,Kentucky,42420,South,FUR-CH-10000454,Furniture,Chairs,\"Hon Deluxe Fabric Upholstered Stacking Chairs, Rounded Back\",731.94,3,0,219.582',\n",
       " '3,CA-2016-138688,6/12/2016,6/16/2016,Second Class,DV-13045,Darrin Van Huff,Corporate,United States,Los Angeles,California,90036,West,OFF-LA-10000240,Office Supplies,Labels,Self-Adhesive Address Labels for Typewriters by Universal,14.62,2,0,6.8714']"
      ]
     },
     "execution_count": 10,
     "metadata": {},
     "output_type": "execute_result"
    }
   ],
   "source": [
    "header_orders =  orders_rdd.first()\n",
    "orders_filtered_rdd = orders_rdd.filter(lambda x : (x!=header_orders))\n",
    "orders_filtered_rdd.take(3)"
   ]
  },
  {
   "cell_type": "code",
   "execution_count": 11,
   "metadata": {},
   "outputs": [
    {
     "data": {
      "text/plain": [
       "['Yes,CA-2017-153822', 'Yes,CA-2017-129707', 'Yes,CA-2014-152345']"
      ]
     },
     "execution_count": 11,
     "metadata": {},
     "output_type": "execute_result"
    }
   ],
   "source": [
    "header_returns =  returns_rdd.first()\n",
    "returns_filtered_rdd = returns_rdd.filter(lambda x : (x!=header_returns))\n",
    "returns_filtered_rdd.take(3)"
   ]
  },
  {
   "cell_type": "code",
   "execution_count": 12,
   "metadata": {},
   "outputs": [
    {
     "data": {
      "text/plain": [
       "2"
      ]
     },
     "execution_count": 12,
     "metadata": {},
     "output_type": "execute_result"
    }
   ],
   "source": [
    "orders_filtered_rdd.getNumPartitions()"
   ]
  },
  {
   "cell_type": "code",
   "execution_count": 13,
   "metadata": {},
   "outputs": [
    {
     "data": {
      "text/plain": [
       "2"
      ]
     },
     "execution_count": 13,
     "metadata": {},
     "output_type": "execute_result"
    }
   ],
   "source": [
    "returns_filtered_rdd.getNumPartitions()"
   ]
  },
  {
   "cell_type": "code",
   "execution_count": 17,
   "metadata": {},
   "outputs": [],
   "source": [
    "mapped_orders_filtered_rdd = orders_filtered_rdd.map(lambda x : ((x.split(\",\")[1]),(x.split(\",\")[15])))"
   ]
  },
  {
   "cell_type": "code",
   "execution_count": 18,
   "metadata": {},
   "outputs": [
    {
     "data": {
      "text/plain": [
       "[('CA-2016-152156', 'Bookcases'),\n",
       " ('CA-2016-152156', 'Chairs'),\n",
       " ('CA-2016-138688', 'Labels')]"
      ]
     },
     "execution_count": 18,
     "metadata": {},
     "output_type": "execute_result"
    }
   ],
   "source": [
    "mapped_orders_filtered_rdd.take(3)"
   ]
  },
  {
   "cell_type": "code",
   "execution_count": 19,
   "metadata": {},
   "outputs": [],
   "source": [
    "mapped_returns_filtered_rddd = returns_filtered_rdd.map(lambda x :((x.split(\",\")[1]),(x.split(\",\")[0])))"
   ]
  },
  {
   "cell_type": "code",
   "execution_count": 20,
   "metadata": {},
   "outputs": [
    {
     "data": {
      "text/plain": [
       "[('CA-2017-153822', 'Yes'),\n",
       " ('CA-2017-129707', 'Yes'),\n",
       " ('CA-2014-152345', 'Yes')]"
      ]
     },
     "execution_count": 20,
     "metadata": {},
     "output_type": "execute_result"
    }
   ],
   "source": [
    "mapped_returns_filtered_rddd.take(3)"
   ]
  },
  {
   "cell_type": "code",
   "execution_count": 21,
   "metadata": {},
   "outputs": [],
   "source": [
    "joined_rdd = mapped_orders_filtered_rdd.join(mapped_returns_filtered_rddd)"
   ]
  },
  {
   "cell_type": "code",
   "execution_count": 22,
   "metadata": {},
   "outputs": [
    {
     "data": {
      "text/plain": [
       "[('CA-2014-143336', ('Art', 'Yes')),\n",
       " ('CA-2014-143336', ('Phones', 'Yes')),\n",
       " ('CA-2014-143336', ('Binders', 'Yes')),\n",
       " ('CA-2015-146262', ('Labels', 'Yes')),\n",
       " ('CA-2015-146262', ('Bookcases', 'Yes')),\n",
       " ('CA-2015-146262', ('Phones', 'Yes')),\n",
       " ('CA-2015-146262', ('Machines', 'Yes')),\n",
       " ('CA-2015-146262', ('Accessories', 'Yes')),\n",
       " ('CA-2016-148796', ('Chairs', 'Yes')),\n",
       " ('CA-2016-109869', ('Furnishings', 'Yes'))]"
      ]
     },
     "execution_count": 22,
     "metadata": {},
     "output_type": "execute_result"
    }
   ],
   "source": [
    "joined_rdd.take(10)"
   ]
  },
  {
   "cell_type": "code",
   "execution_count": 26,
   "metadata": {},
   "outputs": [],
   "source": [
    "spark.stop()"
   ]
  },
  {
   "cell_type": "code",
   "execution_count": 28,
   "metadata": {},
   "outputs": [],
   "source": [
    "from pyspark.sql import SparkSession\n",
    "spark = SparkSession.builder.appName(\"Join\").getOrCreate()\n",
    "\n",
    "orders_rdd = spark.sparkContext.textFile(\"hdfs://localhost:9000/user/tkm/data/sample_superstore/orders.csv\")\n",
    "returns_rdd =spark.sparkContext.textFile(\"hdfs://localhost:9000/user/tkm/data/sample_superstore/returns.csv\")\n",
    "\n",
    "header_orders =  orders_rdd.first()\n",
    "header_returns =  returns_rdd.first() #these two are action but create a single default stage and 1 task  \n",
    "\n",
    "\n",
    "#narrow transformation\n",
    "orders_filtered_rdd = orders_rdd.filter(lambda x : (x!=header_orders))\n",
    "returns_filtered_rdd = returns_rdd.filter(lambda x : (x!=header_returns)) #narrow transformation\n",
    "\n",
    "#narrow transformation\n",
    "mapped_orders_filtered_rdd = orders_filtered_rdd.map(lambda x : ((x.split(\",\")[1]),(x.split(\",\")[15])))\n",
    "mapped_returns_filtered_rddd = returns_filtered_rdd.map(lambda x :((x.split(\",\")[1]),(x.split(\",\")[0])))\n",
    "\n",
    "\n",
    "#wide transformation\n",
    "joined_rdd = mapped_orders_filtered_rdd.join(mapped_returns_filtered_rddd)\n",
    "\n",
    "#action\n",
    "joined_rdd.saveAsTextFile(\"C:\\\\Users\\\\TARUN\\\\Desktop\\\\Pyspark\\\\superstore\\\\joined_results\")"
   ]
  }
 ],
 "metadata": {
  "kernelspec": {
   "display_name": "base",
   "language": "python",
   "name": "python3"
  },
  "language_info": {
   "codemirror_mode": {
    "name": "ipython",
    "version": 3
   },
   "file_extension": ".py",
   "mimetype": "text/x-python",
   "name": "python",
   "nbconvert_exporter": "python",
   "pygments_lexer": "ipython3",
   "version": "3.11.3"
  }
 },
 "nbformat": 4,
 "nbformat_minor": 2
}
