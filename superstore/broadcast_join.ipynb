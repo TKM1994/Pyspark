{
 "cells": [
  {
   "cell_type": "code",
   "execution_count": 1,
   "metadata": {},
   "outputs": [],
   "source": [
    "from pyspark.sql import SparkSession\n",
    "spark = SparkSession.builder.appName(\"broadcast_join\").getOrCreate()\n",
    "\n",
    "orders_rdd = spark.sparkContext.textFile(\"hdfs://localhost:9000/user/tkm/data/sample_superstore/orders.csv\")\n",
    "returns_rdd =spark.sparkContext.textFile(\"hdfs://localhost:9000/user/tkm/data/sample_superstore/returns.csv\")\n",
    "\n",
    "header_orders =  orders_rdd.first()\n",
    "header_returns =  returns_rdd.first() #these two are action but create a single default stage and 1 task  \n",
    "\n",
    "\n",
    "#narrow transformation\n",
    "orders_filtered_rdd = orders_rdd.filter(lambda x : (x!=header_orders))\n",
    "returns_filtered_rdd = returns_rdd.filter(lambda x : (x!=header_returns)) #narrow transformation\n",
    "\n",
    "#narrow transformation\n",
    "mapped_orders_filtered_rdd = orders_filtered_rdd.map(lambda x : ((x.split(\",\")[1]),(x.split(\",\")[15])))\n",
    "mapped_returns_filtered_rddd = returns_filtered_rdd.map(lambda x :((x.split(\",\")[1]),(x.split(\",\")[0])))\n"
   ]
  },
  {
   "cell_type": "code",
   "execution_count": 2,
   "metadata": {},
   "outputs": [],
   "source": [
    "mapped_return_broadcast = spark.sparkContext.broadcast(mapped_returns_filtered_rddd.collect())"
   ]
  },
  {
   "cell_type": "code",
   "execution_count": null,
   "metadata": {},
   "outputs": [],
   "source": [
    "mapped_return_broadcast.take()"
   ]
  },
  {
   "cell_type": "code",
   "execution_count": 3,
   "metadata": {},
   "outputs": [],
   "source": [
    "def status(order_id):\n",
    "    try:\n",
    "        return mapped_return_broadcast.value[order_id]\n",
    "    except:\n",
    "        return -1"
   ]
  },
  {
   "cell_type": "code",
   "execution_count": null,
   "metadata": {},
   "outputs": [],
   "source": [
    "#wide transformation\n",
    "joined_rdd = mapped_orders_filtered_rdd.map(lambda x : (x[0], x[1], ( status( int(x[0]) ) )    )    )\n",
    "\n",
    "#action\n",
    "joined_rdd.saveAsTextFile(\"C:\\\\Users\\\\TARUN\\\\Desktop\\\\Pyspark\\\\superstore\\\\broadcast_join_results\")"
   ]
  }
 ],
 "metadata": {
  "kernelspec": {
   "display_name": "base",
   "language": "python",
   "name": "python3"
  },
  "language_info": {
   "codemirror_mode": {
    "name": "ipython",
    "version": 3
   },
   "file_extension": ".py",
   "mimetype": "text/x-python",
   "name": "python",
   "nbconvert_exporter": "python",
   "pygments_lexer": "ipython3",
   "version": "3.11.3"
  }
 },
 "nbformat": 4,
 "nbformat_minor": 2
}
