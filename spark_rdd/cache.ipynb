{
 "cells": [
  {
   "cell_type": "code",
   "execution_count": 1,
   "metadata": {},
   "outputs": [
    {
     "data": {
      "text/plain": [
       "[('CLOSED', 341), ('COMPLETE', 341), ('PENDING', 318)]"
      ]
     },
     "execution_count": 1,
     "metadata": {},
     "output_type": "execute_result"
    }
   ],
   "source": [
    "from pyspark.sql import SparkSession\n",
    "spark = SparkSession.builder.appName(\"job_stage_task\").getOrCreate()\n",
    "\n",
    "orders_rdd = spark.sparkContext.textFile(\"hdfs://localhost:9000/user/tkm/data/orders.csv\")\n",
    "\n",
    "header = orders_rdd.first()  #fist job\n",
    "\n",
    "data_rdd = orders_rdd.filter(lambda x : x != header)\n",
    "\n",
    "status_rdd = data_rdd.map(lambda x : (x.split(\",\")[4] , 1))\n",
    "\n",
    "result = status_rdd.reduceByKey(lambda x,y : x+y) #2nd stage in job 2\n",
    "\n",
    "result.collect()"
   ]
  },
  {
   "cell_type": "code",
   "execution_count": 2,
   "metadata": {},
   "outputs": [
    {
     "data": {
      "text/plain": [
       "[('CLOSED', 341), ('COMPLETE', 341), ('PENDING', 318)]"
      ]
     },
     "execution_count": 2,
     "metadata": {},
     "output_type": "execute_result"
    }
   ],
   "source": [
    "result.collect()"
   ]
  },
  {
   "cell_type": "code",
   "execution_count": 3,
   "metadata": {},
   "outputs": [
    {
     "data": {
      "text/plain": [
       "[('CLOSED', 341), ('COMPLETE', 341), ('PENDING', 318)]"
      ]
     },
     "execution_count": 3,
     "metadata": {},
     "output_type": "execute_result"
    }
   ],
   "source": [
    "result.collect()"
   ]
  },
  {
   "cell_type": "code",
   "execution_count": 5,
   "metadata": {},
   "outputs": [],
   "source": [
    "spark.stop()"
   ]
  },
  {
   "cell_type": "markdown",
   "metadata": {},
   "source": [
    "caching"
   ]
  },
  {
   "cell_type": "code",
   "execution_count": 6,
   "metadata": {},
   "outputs": [
    {
     "data": {
      "text/plain": [
       "[('CLOSED', 341), ('COMPLETE', 341), ('PENDING', 318)]"
      ]
     },
     "execution_count": 6,
     "metadata": {},
     "output_type": "execute_result"
    }
   ],
   "source": [
    "from pyspark.sql import SparkSession\n",
    "spark = SparkSession.builder.appName(\"job_stage_task\").getOrCreate()\n",
    "\n",
    "orders_rdd = spark.sparkContext.textFile(\"hdfs://localhost:9000/user/tkm/data/orders.csv\")\n",
    "\n",
    "header = orders_rdd.first()  #fist job\n",
    "\n",
    "data_rdd = orders_rdd.filter(lambda x : x != header)\n",
    "\n",
    "status_rdd = data_rdd.map(lambda x : (x.split(\",\")[4] , 1))\n",
    "\n",
    "result = status_rdd.reduceByKey(lambda x,y : x+y) #2nd stage in job 2\n",
    "\n",
    "result.cache()\n",
    "\n",
    "result.collect()"
   ]
  },
  {
   "cell_type": "code",
   "execution_count": 7,
   "metadata": {},
   "outputs": [
    {
     "data": {
      "text/plain": [
       "[('CLOSED', 341), ('COMPLETE', 341), ('PENDING', 318)]"
      ]
     },
     "execution_count": 7,
     "metadata": {},
     "output_type": "execute_result"
    }
   ],
   "source": [
    "result.collect()"
   ]
  },
  {
   "cell_type": "code",
   "execution_count": 8,
   "metadata": {},
   "outputs": [],
   "source": [
    "spark.stop()"
   ]
  }
 ],
 "metadata": {
  "kernelspec": {
   "display_name": "base",
   "language": "python",
   "name": "python3"
  },
  "language_info": {
   "codemirror_mode": {
    "name": "ipython",
    "version": 3
   },
   "file_extension": ".py",
   "mimetype": "text/x-python",
   "name": "python",
   "nbconvert_exporter": "python",
   "pygments_lexer": "ipython3",
   "version": "3.11.3"
  }
 },
 "nbformat": 4,
 "nbformat_minor": 2
}
