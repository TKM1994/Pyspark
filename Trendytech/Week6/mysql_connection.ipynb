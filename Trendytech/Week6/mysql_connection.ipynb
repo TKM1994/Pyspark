{
 "cells": [
  {
   "cell_type": "code",
   "execution_count": 2,
   "id": "3bbf68a1",
   "metadata": {},
   "outputs": [],
   "source": [
    "from pyspark.sql import SparkSession\n",
    "spark = SparkSession.builder.appName(\"mysql\").getOrCreate()"
   ]
  },
  {
   "cell_type": "code",
   "execution_count": 1,
   "id": "b643024a",
   "metadata": {},
   "outputs": [
    {
     "name": "stderr",
     "output_type": "stream",
     "text": [
      "C:\\Users\\TARUN\\AppData\\Local\\Temp\\ipykernel_6676\\3939164298.py:9: UserWarning: pandas only supports SQLAlchemy connectable (engine/connection) or database string URI or sqlite3 DBAPI2 connection. Other DBAPI2 objects are not tested. Please consider using SQLAlchemy.\n",
      "  df = pd.read_sql_query(\"SELECT * FROM college\" , conn)\n"
     ]
    },
    {
     "data": {
      "text/html": [
       "<div>\n",
       "<style scoped>\n",
       "    .dataframe tbody tr th:only-of-type {\n",
       "        vertical-align: middle;\n",
       "    }\n",
       "\n",
       "    .dataframe tbody tr th {\n",
       "        vertical-align: top;\n",
       "    }\n",
       "\n",
       "    .dataframe thead th {\n",
       "        text-align: right;\n",
       "    }\n",
       "</style>\n",
       "<table border=\"1\" class=\"dataframe\">\n",
       "  <thead>\n",
       "    <tr style=\"text-align: right;\">\n",
       "      <th></th>\n",
       "      <th>Year</th>\n",
       "      <th>State</th>\n",
       "      <th>Type</th>\n",
       "      <th>Length</th>\n",
       "      <th>Expense</th>\n",
       "      <th>Value</th>\n",
       "    </tr>\n",
       "  </thead>\n",
       "  <tbody>\n",
       "    <tr>\n",
       "      <th>0</th>\n",
       "      <td>2013</td>\n",
       "      <td>Alabama</td>\n",
       "      <td>Private</td>\n",
       "      <td>4-year</td>\n",
       "      <td>Fees/Tuition</td>\n",
       "      <td>13983</td>\n",
       "    </tr>\n",
       "    <tr>\n",
       "      <th>1</th>\n",
       "      <td>2013</td>\n",
       "      <td>Alabama</td>\n",
       "      <td>Private</td>\n",
       "      <td>4-year</td>\n",
       "      <td>Room/Board</td>\n",
       "      <td>8503</td>\n",
       "    </tr>\n",
       "    <tr>\n",
       "      <th>2</th>\n",
       "      <td>2013</td>\n",
       "      <td>Alabama</td>\n",
       "      <td>Public In-State</td>\n",
       "      <td>2-year</td>\n",
       "      <td>Fees/Tuition</td>\n",
       "      <td>4048</td>\n",
       "    </tr>\n",
       "    <tr>\n",
       "      <th>3</th>\n",
       "      <td>2013</td>\n",
       "      <td>Alabama</td>\n",
       "      <td>Public In-State</td>\n",
       "      <td>4-year</td>\n",
       "      <td>Fees/Tuition</td>\n",
       "      <td>8073</td>\n",
       "    </tr>\n",
       "    <tr>\n",
       "      <th>4</th>\n",
       "      <td>2013</td>\n",
       "      <td>Alabama</td>\n",
       "      <td>Public In-State</td>\n",
       "      <td>4-year</td>\n",
       "      <td>Room/Board</td>\n",
       "      <td>8473</td>\n",
       "    </tr>\n",
       "  </tbody>\n",
       "</table>\n",
       "</div>"
      ],
      "text/plain": [
       "   Year    State             Type  Length       Expense  Value\n",
       "0  2013  Alabama          Private  4-year  Fees/Tuition  13983\n",
       "1  2013  Alabama          Private  4-year    Room/Board   8503\n",
       "2  2013  Alabama  Public In-State  2-year  Fees/Tuition   4048\n",
       "3  2013  Alabama  Public In-State  4-year  Fees/Tuition   8073\n",
       "4  2013  Alabama  Public In-State  4-year    Room/Board   8473"
      ]
     },
     "execution_count": 1,
     "metadata": {},
     "output_type": "execute_result"
    }
   ],
   "source": [
    "import pandas as pd\n",
    "import mysql.connector\n",
    "\n",
    "conn = mysql.connector.connect(host = \"localhost\",user=\"root\",\n",
    "                               password='1994',\n",
    "                               database='campusx',\n",
    "                               ssl_disabled=True)\n",
    "\n",
    "df = pd.read_sql_query(\"SELECT * FROM college\" , conn)\n",
    "\n",
    "conn.close()\n",
    "\n",
    "df.head()"
   ]
  },
  {
   "cell_type": "code",
   "execution_count": 3,
   "id": "bfeb931f",
   "metadata": {},
   "outputs": [
    {
     "name": "stdout",
     "output_type": "stream",
     "text": [
      "+----+-------+-------------------+------+------------+-----+\n",
      "|Year|  State|               Type|Length|     Expense|Value|\n",
      "+----+-------+-------------------+------+------------+-----+\n",
      "|2013|Alabama|            Private|4-year|Fees/Tuition|13983|\n",
      "|2013|Alabama|            Private|4-year|  Room/Board| 8503|\n",
      "|2013|Alabama|    Public In-State|2-year|Fees/Tuition| 4048|\n",
      "|2013|Alabama|    Public In-State|4-year|Fees/Tuition| 8073|\n",
      "|2013|Alabama|    Public In-State|4-year|  Room/Board| 8473|\n",
      "|2013|Alabama|Public Out-of-State|2-year|Fees/Tuition| 7736|\n",
      "|2013|Alabama|Public Out-of-State|4-year|Fees/Tuition|20380|\n",
      "|2013|Alabama|Public Out-of-State|4-year|  Room/Board| 8473|\n",
      "|2013| Alaska|            Private|4-year|Fees/Tuition|21496|\n",
      "|2013| Alaska|            Private|4-year|  Room/Board| 8923|\n",
      "|2013| Alaska|    Public In-State|2-year|Fees/Tuition| 3972|\n",
      "|2013| Alaska|    Public In-State|4-year|Fees/Tuition| 6317|\n",
      "|2013| Alaska|    Public In-State|4-year|  Room/Board| 9098|\n",
      "|2013| Alaska|Public Out-of-State|2-year|Fees/Tuition| 4150|\n",
      "|2013| Alaska|Public Out-of-State|4-year|Fees/Tuition|18790|\n",
      "|2013| Alaska|Public Out-of-State|4-year|  Room/Board| 9098|\n",
      "|2013|Arizona|            Private|4-year|Fees/Tuition|11650|\n",
      "|2013|Arizona|            Private|4-year|  Room/Board| 8744|\n",
      "|2013|Arizona|    Public In-State|2-year|Fees/Tuition| 1842|\n",
      "|2013|Arizona|    Public In-State|4-year|Fees/Tuition| 9694|\n",
      "+----+-------+-------------------+------+------------+-----+\n",
      "only showing top 20 rows\n",
      "\n"
     ]
    }
   ],
   "source": [
    "spark_df = spark.createDataFrame(df)\n",
    "spark_df.show()"
   ]
  },
  {
   "cell_type": "code",
   "execution_count": 4,
   "id": "8ef69175",
   "metadata": {},
   "outputs": [
    {
     "name": "stdout",
     "output_type": "stream",
     "text": [
      "root\n",
      " |-- Year: long (nullable = true)\n",
      " |-- State: string (nullable = true)\n",
      " |-- Type: string (nullable = true)\n",
      " |-- Length: string (nullable = true)\n",
      " |-- Expense: string (nullable = true)\n",
      " |-- Value: long (nullable = true)\n",
      "\n"
     ]
    }
   ],
   "source": [
    "spark_df.printSchema()"
   ]
  },
  {
   "cell_type": "code",
   "execution_count": 6,
   "id": "832a58a7",
   "metadata": {},
   "outputs": [],
   "source": [
    "spark.stop()"
   ]
  }
 ],
 "metadata": {
  "kernelspec": {
   "display_name": "Python 3 (ipykernel)",
   "language": "python",
   "name": "python3"
  },
  "language_info": {
   "codemirror_mode": {
    "name": "ipython",
    "version": 3
   },
   "file_extension": ".py",
   "mimetype": "text/x-python",
   "name": "python",
   "nbconvert_exporter": "python",
   "pygments_lexer": "ipython3",
   "version": "3.11.3"
  }
 },
 "nbformat": 4,
 "nbformat_minor": 5
}
