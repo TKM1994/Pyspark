{
 "cells": [
  {
   "cell_type": "code",
   "execution_count": 1,
   "metadata": {},
   "outputs": [],
   "source": [
    "from pyspark.sql import SparkSession\n",
    "spark = SparkSession.builder.appName(\"transformations\").getOrCreate()"
   ]
  },
  {
   "cell_type": "code",
   "execution_count": 4,
   "metadata": {},
   "outputs": [
    {
     "name": "stdout",
     "output_type": "stream",
     "text": [
      "Found 6 items\n",
      "-rw-r--r--   1 TARUN supergroup       1029 2024-05-06 13:31 /user/tkm/retail_db/categories.csv\n",
      "-rw-r--r--   1 TARUN supergroup     953719 2024-05-06 13:31 /user/tkm/retail_db/customers.csv\n",
      "-rw-r--r--   1 TARUN supergroup         60 2024-05-06 13:31 /user/tkm/retail_db/departments.csv\n",
      "-rw-r--r--   1 TARUN supergroup    5408880 2024-05-06 13:31 /user/tkm/retail_db/order_items.csv\n",
      "-rw-r--r--   1 TARUN supergroup    2999944 2024-05-06 13:31 /user/tkm/retail_db/orders.csv\n",
      "-rw-r--r--   1 TARUN supergroup     174155 2024-05-06 13:31 /user/tkm/retail_db/products.csv\n"
     ]
    }
   ],
   "source": [
    "! hadoop fs -ls /user/tkm/retail_db"
   ]
  },
  {
   "cell_type": "code",
   "execution_count": 5,
   "metadata": {},
   "outputs": [
    {
     "name": "stdout",
     "output_type": "stream",
     "text": [
      "1,1,957,1,299.98,299.98\n",
      "2,2,1073,1,199.99,199.99\n",
      "3,2,502,5,250.0,50.0\n",
      "4,2,403,1,129.99,129.99\n",
      "5,4,897,2,49.98,24.99\n",
      "6,4,365,5,299.95,59.99\n",
      "7,4,502,3,150.0,50.0\n",
      "8,4,1014,4,199.92,49.98\n",
      "9,5,957,1,299.98,299.98\n",
      "10,5,365,5,299.95,59.99\n",
      "11,5,1014,2,99.96,49.98\n",
      "12,5,957,1,299.98,299.98\n",
      "13,5,403,1,129.99,129.99\n",
      "14,7,1073,1,199.99,199.99\n",
      "15,7,957,1,299.98,299.98\n",
      "16,7,926,5,79.95,15.99\n",
      "17,8,365,3,179.97,59.99\n",
      "18,8,365,5,299.95,59.99\n",
      "19,8,1014,4,199.92,49.98\n",
      "20,8,502,1,50.0,50.0\n",
      "21,9,191,2,199.98,99.99\n",
      "22,9,1073,1,199.99,199.99\n",
      "23,9,1073,1,199.99,199.99\n",
      "24,10,1073,1,199.99,199.99\n",
      "25,10,1014,2,99.96,49.98\n",
      "26,10,403,1,129.99,129.99\n",
      "27,10,917,1,21.99,21.99\n",
      "28,10,1073,1,199.99,199.99\n",
      "29,11,365,1,59.99,59.99\n",
      "30,11,627,4,159.96,39.99\n",
      "31,11,1014,1,49.98,49.98\n",
      "32,11,191,4,399.96,99.99\n",
      "33,11,1014,5,249.9,49.98\n",
      "34,12,957,1,299.98,299.98\n",
      "35,12,134,4,100.0,25.0\n",
      "36,12,1014,3,149.94,49.98\n",
      "37,12,191,5,499.95,99.99\n",
      "38,12,502,5,250.0,50.0\n",
      "39,13,276,4,127.96,31.99\n",
      "40,14,1004,1,399.98,399.98\n",
      "41,14,1014,2,99.96,49.98\n",
      "42,14,502,1,50.0,50.0\n"
     ]
    }
   ],
   "source": [
    "! hadoop fs -head /user/tkm/retail_db/order_items.csv"
   ]
  },
  {
   "cell_type": "code",
   "execution_count": 6,
   "metadata": {},
   "outputs": [],
   "source": [
    "df = spark.read \\\n",
    "    .format(\"csv\") \\\n",
    "        .option(\"inferSchema\",\"true\") \\\n",
    "            .load(\"hdfs://localhost:9000/user/tkm/retail_db/order_items.csv\")\n",
    "        "
   ]
  },
  {
   "cell_type": "code",
   "execution_count": 7,
   "metadata": {},
   "outputs": [
    {
     "name": "stdout",
     "output_type": "stream",
     "text": [
      "+---+---+----+---+------+------+\n",
      "|_c0|_c1| _c2|_c3|   _c4|   _c5|\n",
      "+---+---+----+---+------+------+\n",
      "|  1|  1| 957|  1|299.98|299.98|\n",
      "|  2|  2|1073|  1|199.99|199.99|\n",
      "|  3|  2| 502|  5| 250.0|  50.0|\n",
      "+---+---+----+---+------+------+\n",
      "only showing top 3 rows\n",
      "\n"
     ]
    }
   ],
   "source": [
    "df.show(3)"
   ]
  },
  {
   "cell_type": "code",
   "execution_count": 8,
   "metadata": {},
   "outputs": [],
   "source": [
    "df1 = df.toDF(\"item_id\",\"order_id\",\"product_id\",\"quantity\",\"subtotal\",\"product_price\")"
   ]
  },
  {
   "cell_type": "code",
   "execution_count": 10,
   "metadata": {},
   "outputs": [
    {
     "name": "stdout",
     "output_type": "stream",
     "text": [
      "+-------+--------+----------+--------+--------+-------------+\n",
      "|item_id|order_id|product_id|quantity|subtotal|product_price|\n",
      "+-------+--------+----------+--------+--------+-------------+\n",
      "|      1|       1|       957|       1|  299.98|       299.98|\n",
      "|      2|       2|      1073|       1|  199.99|       199.99|\n",
      "|      3|       2|       502|       5|   250.0|         50.0|\n",
      "+-------+--------+----------+--------+--------+-------------+\n",
      "only showing top 3 rows\n",
      "\n"
     ]
    }
   ],
   "source": [
    "df1.show(3)"
   ]
  },
  {
   "cell_type": "code",
   "execution_count": 11,
   "metadata": {},
   "outputs": [],
   "source": [
    "df2 = df1.drop(\"subtotal\")"
   ]
  },
  {
   "cell_type": "code",
   "execution_count": 14,
   "metadata": {},
   "outputs": [
    {
     "name": "stdout",
     "output_type": "stream",
     "text": [
      "+-------+--------+----------+--------+-------------+\n",
      "|item_id|order_id|product_id|quantity|product_price|\n",
      "+-------+--------+----------+--------+-------------+\n",
      "|      1|       1|       957|       1|       299.98|\n",
      "|      2|       2|      1073|       1|       199.99|\n",
      "|      3|       2|       502|       5|         50.0|\n",
      "+-------+--------+----------+--------+-------------+\n",
      "only showing top 3 rows\n",
      "\n"
     ]
    }
   ],
   "source": [
    "df2.show(3)"
   ]
  },
  {
   "cell_type": "code",
   "execution_count": 16,
   "metadata": {},
   "outputs": [
    {
     "name": "stdout",
     "output_type": "stream",
     "text": [
      "root\n",
      " |-- item_id: integer (nullable = true)\n",
      " |-- order_id: integer (nullable = true)\n",
      " |-- product_id: integer (nullable = true)\n",
      " |-- quantity: integer (nullable = true)\n",
      " |-- product_price: double (nullable = true)\n",
      "\n"
     ]
    }
   ],
   "source": [
    "df2.printSchema()"
   ]
  },
  {
   "cell_type": "code",
   "execution_count": 17,
   "metadata": {},
   "outputs": [],
   "source": [
    "from pyspark.sql.types import *\n",
    "from pyspark.sql.functions import *"
   ]
  },
  {
   "cell_type": "code",
   "execution_count": 18,
   "metadata": {},
   "outputs": [],
   "source": [
    "df3 = df2.withColumn(\"subtotal\",col(\"quantity\")*col(\"product_price\"))\n",
    "\n",
    "#col(\"quantity\") = df2[\"quantity\"] = df2.quantity "
   ]
  },
  {
   "cell_type": "code",
   "execution_count": 22,
   "metadata": {},
   "outputs": [
    {
     "name": "stdout",
     "output_type": "stream",
     "text": [
      "+-------+--------+----------+--------+-------------+--------+\n",
      "|item_id|order_id|product_id|quantity|product_price|subtotal|\n",
      "+-------+--------+----------+--------+-------------+--------+\n",
      "|      1|       1|       957|       1|       299.98|  299.98|\n",
      "|      2|       2|      1073|       1|       199.99|  199.99|\n",
      "|      3|       2|       502|       5|         50.0|   250.0|\n",
      "+-------+--------+----------+--------+-------------+--------+\n",
      "only showing top 3 rows\n",
      "\n"
     ]
    }
   ],
   "source": [
    "df2.withColumn(\"subtotal\",df2[\"quantity\"]*df2[\"product_price\"]).show(3)\n"
   ]
  },
  {
   "cell_type": "code",
   "execution_count": 23,
   "metadata": {},
   "outputs": [
    {
     "name": "stdout",
     "output_type": "stream",
     "text": [
      "+-------+--------+----------+--------+-------------+--------+\n",
      "|item_id|order_id|product_id|quantity|product_price|subtotal|\n",
      "+-------+--------+----------+--------+-------------+--------+\n",
      "|      1|       1|       957|       1|       299.98|  299.98|\n",
      "|      2|       2|      1073|       1|       199.99|  199.99|\n",
      "|      3|       2|       502|       5|         50.0|   250.0|\n",
      "+-------+--------+----------+--------+-------------+--------+\n",
      "only showing top 3 rows\n",
      "\n"
     ]
    }
   ],
   "source": [
    "df2.withColumn(\"subtotal\",df2.quantity*df2.product_price).show(3)"
   ]
  },
  {
   "cell_type": "code",
   "execution_count": 33,
   "metadata": {},
   "outputs": [
    {
     "name": "stdout",
     "output_type": "stream",
     "text": [
      "+-------+--------+----------+--------+-------------+--------+\n",
      "|item_id|order_id|product_id|quantity|product_price|subtotal|\n",
      "+-------+--------+----------+--------+-------------+--------+\n",
      "|      1|       1|       957|       1|       299.98|  299.98|\n",
      "|      2|       2|      1073|       1|       199.99|  199.99|\n",
      "|      3|       2|       502|       5|         50.0|   250.0|\n",
      "+-------+--------+----------+--------+-------------+--------+\n",
      "only showing top 3 rows\n",
      "\n"
     ]
    }
   ],
   "source": [
    "df2.withColumn(\"subtotal\",expr(\"quantity*product_price\")).show(3)"
   ]
  },
  {
   "cell_type": "code",
   "execution_count": 19,
   "metadata": {},
   "outputs": [
    {
     "name": "stdout",
     "output_type": "stream",
     "text": [
      "+-------+--------+----------+--------+-------------+--------+\n",
      "|item_id|order_id|product_id|quantity|product_price|subtotal|\n",
      "+-------+--------+----------+--------+-------------+--------+\n",
      "|      1|       1|       957|       1|       299.98|  299.98|\n",
      "|      2|       2|      1073|       1|       199.99|  199.99|\n",
      "|      3|       2|       502|       5|         50.0|   250.0|\n",
      "+-------+--------+----------+--------+-------------+--------+\n",
      "only showing top 3 rows\n",
      "\n"
     ]
    }
   ],
   "source": [
    "df3.show(3)"
   ]
  },
  {
   "cell_type": "code",
   "execution_count": 24,
   "metadata": {},
   "outputs": [
    {
     "name": "stdout",
     "output_type": "stream",
     "text": [
      "+-------+--------+----------+--------+-------------+------+\n",
      "|item_id|order_id|product_id|quantity|product_price| total|\n",
      "+-------+--------+----------+--------+-------------+------+\n",
      "|      1|       1|       957|       1|       299.98|299.98|\n",
      "|      2|       2|      1073|       1|       199.99|199.99|\n",
      "|      3|       2|       502|       5|         50.0| 250.0|\n",
      "+-------+--------+----------+--------+-------------+------+\n",
      "only showing top 3 rows\n",
      "\n"
     ]
    }
   ],
   "source": [
    "df4 = df3.withColumnRenamed(\"subtotal\",\"total\")\n",
    "df4.show(3)"
   ]
  },
  {
   "cell_type": "code",
   "execution_count": 27,
   "metadata": {},
   "outputs": [
    {
     "name": "stdout",
     "output_type": "stream",
     "text": [
      "+-------+--------+----------+--------+-------------+\n",
      "|item_id|order_id|product_id|quantity|product_price|\n",
      "+-------+--------+----------+--------+-------------+\n",
      "|      1|       1|       957|       1|       299.98|\n",
      "|      2|       2|      1073|       1|       199.99|\n",
      "|      3|       2|       502|       5|         50.0|\n",
      "+-------+--------+----------+--------+-------------+\n",
      "only showing top 3 rows\n",
      "\n"
     ]
    }
   ],
   "source": [
    "df2.select(\"*\").show(3)"
   ]
  },
  {
   "cell_type": "code",
   "execution_count": 29,
   "metadata": {},
   "outputs": [
    {
     "name": "stdout",
     "output_type": "stream",
     "text": [
      "+----------+-------------+\n",
      "|product_id|product_price|\n",
      "+----------+-------------+\n",
      "|       957|       299.98|\n",
      "|      1073|       199.99|\n",
      "|       502|         50.0|\n",
      "+----------+-------------+\n",
      "only showing top 3 rows\n",
      "\n"
     ]
    }
   ],
   "source": [
    "df2.select(\"product_id\",\"product_price\").show(3)"
   ]
  },
  {
   "cell_type": "code",
   "execution_count": 30,
   "metadata": {},
   "outputs": [
    {
     "name": "stdout",
     "output_type": "stream",
     "text": [
      "+-------+--------+----------+--------+-------------+--------+\n",
      "|item_id|order_id|product_id|quantity|product_price|subtotal|\n",
      "+-------+--------+----------+--------+-------------+--------+\n",
      "|      1|       1|       957|       1|       299.98|  299.98|\n",
      "|      2|       2|      1073|       1|       199.99|  199.99|\n",
      "|      3|       2|       502|       5|         50.0|   250.0|\n",
      "+-------+--------+----------+--------+-------------+--------+\n",
      "only showing top 3 rows\n",
      "\n"
     ]
    }
   ],
   "source": [
    "df2.select(\"*\",expr(\"quantity * product_price as subtotal\")).show(3)"
   ]
  },
  {
   "cell_type": "code",
   "execution_count": 31,
   "metadata": {},
   "outputs": [
    {
     "name": "stdout",
     "output_type": "stream",
     "text": [
      "+-------+--------+----------+--------+-------------+--------+\n",
      "|item_id|order_id|product_id|quantity|product_price|subtotal|\n",
      "+-------+--------+----------+--------+-------------+--------+\n",
      "|      1|       1|       957|       1|       299.98|  299.98|\n",
      "|      2|       2|      1073|       1|       199.99|  199.99|\n",
      "|      3|       2|       502|       5|         50.0|   250.0|\n",
      "+-------+--------+----------+--------+-------------+--------+\n",
      "only showing top 3 rows\n",
      "\n"
     ]
    }
   ],
   "source": [
    "df2.selectExpr(\"*\",\"quantity * product_price as subtotal\").show(3)"
   ]
  },
  {
   "cell_type": "code",
   "execution_count": null,
   "metadata": {},
   "outputs": [],
   "source": [
    "raw_df = spark."
   ]
  },
  {
   "cell_type": "code",
   "execution_count": 34,
   "metadata": {},
   "outputs": [
    {
     "name": "stdout",
     "output_type": "stream",
     "text": [
      "1,2,Quest Q64 10 FT. x 10 FT. Slant Leg Instant U,,59.98,http://images.acmesports.sports/Quest+Q64+10+FT.+x+10+FT.+Slant+Leg+Instant+Up+Canopy\n",
      "2,2,Under Armour Men's Highlight MC Football Clea,,129.99,http://images.acmesports.sports/Under+Armour+Men%27s+Highlight+MC+Football+Cleat\n",
      "3,2,Under Armour Men's Renegade D Mid Football Cl,,89.99,http://images.acmesports.sports/Under+Armour+Men%27s+Renegade+D+Mid+Football+Cleat\n",
      "4,2,Under Armour Men's Renegade D Mid Football Cl,,89.99,http://images.acmesports.sports/Under+Armour+Men%27s+Renegade+D+Mid+Football+Cleat\n",
      "5,2,Riddell Youth Revolution Speed Custom Footbal,,199.99,http://images.acmesports.sports/Riddell+Youth+Revolution+Speed+Custom+Football+Helmet\n",
      "6,2,Jordan Men's VI Retro TD Football Cleat,,134.99,http://images.acmesports.sports/Jordan+Men%27s+VI+Retro+TD+Football+Cleat\n",
      "7,2,Schutt Youth Recruit Hybrid Custom Football H,,99.99,http://images.acmesports.sports/Schutt+Youth+Recruit+Hybrid+Custom+Football+Helmet+2014\n",
      "8,2,Nike Men's Vapor Carbon Elite TD Football C\n"
     ]
    }
   ],
   "source": [
    "! hadoop fs -head /user/tkm/retail_db/products.csv"
   ]
  },
  {
   "cell_type": "code",
   "execution_count": 35,
   "metadata": {},
   "outputs": [],
   "source": [
    "raw_df = spark.read \\\n",
    "    .format(\"csv\") \\\n",
    "        .option(\"inferSchema\",\"true\") \\\n",
    "            .load(\"hdfs://localhost:9000/user/tkm/retail_db/products.csv\")"
   ]
  },
  {
   "cell_type": "code",
   "execution_count": 36,
   "metadata": {},
   "outputs": [
    {
     "name": "stdout",
     "output_type": "stream",
     "text": [
      "+---+---+--------------------+----+------+--------------------+\n",
      "|_c0|_c1|                 _c2| _c3|   _c4|                 _c5|\n",
      "+---+---+--------------------+----+------+--------------------+\n",
      "|  1|  2|Quest Q64 10 FT. ...|null| 59.98|http://images.acm...|\n",
      "|  2|  2|Under Armour Men'...|null|129.99|http://images.acm...|\n",
      "|  3|  2|Under Armour Men'...|null| 89.99|http://images.acm...|\n",
      "|  4|  2|Under Armour Men'...|null| 89.99|http://images.acm...|\n",
      "+---+---+--------------------+----+------+--------------------+\n",
      "only showing top 4 rows\n",
      "\n"
     ]
    }
   ],
   "source": [
    "raw_df.show(4)"
   ]
  },
  {
   "cell_type": "code",
   "execution_count": 37,
   "metadata": {},
   "outputs": [
    {
     "name": "stdout",
     "output_type": "stream",
     "text": [
      "+----------+-----------+--------------------+-----------+------+--------------------+\n",
      "|product_id|category_id|        product_name|description| price|               image|\n",
      "+----------+-----------+--------------------+-----------+------+--------------------+\n",
      "|         1|          2|Quest Q64 10 FT. ...|       null| 59.98|http://images.acm...|\n",
      "|         2|          2|Under Armour Men'...|       null|129.99|http://images.acm...|\n",
      "|         3|          2|Under Armour Men'...|       null| 89.99|http://images.acm...|\n",
      "+----------+-----------+--------------------+-----------+------+--------------------+\n",
      "only showing top 3 rows\n",
      "\n"
     ]
    }
   ],
   "source": [
    "product_df = raw_df.toDF(\"product_id\",\"category_id\",\"product_name\",\"description\",\"price\",\"image\")\n",
    "product_df.show(3)"
   ]
  },
  {
   "cell_type": "code",
   "execution_count": 45,
   "metadata": {},
   "outputs": [
    {
     "name": "stdout",
     "output_type": "stream",
     "text": [
      "+----------+-----------+--------------------+-----------+------------------+--------------------+\n",
      "|product_id|category_id|        product_name|description|             price|               image|\n",
      "+----------+-----------+--------------------+-----------+------------------+--------------------+\n",
      "|         1|          2|Quest Q64 10 FT. ...|       null|            71.976|http://images.acm...|\n",
      "|         2|          2|Under Armour Men'...|       null|           155.988|http://images.acm...|\n",
      "|         3|          2|Under Armour Men'...|       null|107.98799999999999|http://images.acm...|\n",
      "+----------+-----------+--------------------+-----------+------------------+--------------------+\n",
      "only showing top 3 rows\n",
      "\n"
     ]
    }
   ],
   "source": [
    "product_df.withColumn(\"price\",expr(\"price*1.2\")).show(3)"
   ]
  },
  {
   "cell_type": "code",
   "execution_count": 46,
   "metadata": {},
   "outputs": [
    {
     "name": "stdout",
     "output_type": "stream",
     "text": [
      "+----------+-----------+--------------------+-----------+------+--------------------+\n",
      "|product_id|category_id|        product_name|description| price|               image|\n",
      "+----------+-----------+--------------------+-----------+------+--------------------+\n",
      "|         1|          2|Quest Q64 10 FT. ...|       null| 59.98|http://images.acm...|\n",
      "|         2|          2|Under Armour Men'...|       null|129.99|http://images.acm...|\n",
      "|         3|          2|Under Armour Men'...|       null| 89.99|http://images.acm...|\n",
      "|         4|          2|Under Armour Men'...|       null| 89.99|http://images.acm...|\n",
      "|         5|          2|Riddell Youth Rev...|       null|199.99|http://images.acm...|\n",
      "|         6|          2|Jordan Men's VI R...|       null|134.99|http://images.acm...|\n",
      "|         7|          2|Schutt Youth Recr...|       null| 99.99|http://images.acm...|\n",
      "|         8|          2|Nike Men's Vapor ...|       null|129.99|http://images.acm...|\n",
      "|         9|          2|Nike Adult Vapor ...|       null|  50.0|http://images.acm...|\n",
      "|        10|          2|Under Armour Men'...|       null|129.99|http://images.acm...|\n",
      "|        11|          2|Fitness Gear 300 ...|       null|209.99|http://images.acm...|\n",
      "|        12|          2|Under Armour Men'...|       null|139.99|http://images.acm...|\n",
      "|        13|          2|Under Armour Men'...|       null| 89.99|http://images.acm...|\n",
      "|        14|          2|Quik Shade Summit...|       null|199.99|http://images.acm...|\n",
      "|        15|          2|Under Armour Kids...|       null| 59.99|http://images.acm...|\n",
      "|        16|          2|Riddell Youth 360...|       null|299.99|http://images.acm...|\n",
      "|        17|          2|Under Armour Men'...|       null|129.99|http://images.acm...|\n",
      "|        18|          2|Reebok Men's Full...|       null| 29.97|http://images.acm...|\n",
      "|        19|          2|Nike Men's Finger...|       null|124.99|http://images.acm...|\n",
      "|        20|          2|Under Armour Men'...|       null|129.99|http://images.acm...|\n",
      "+----------+-----------+--------------------+-----------+------+--------------------+\n",
      "only showing top 20 rows\n",
      "\n"
     ]
    }
   ],
   "source": [
    "product_df.show()"
   ]
  },
  {
   "cell_type": "code",
   "execution_count": 53,
   "metadata": {},
   "outputs": [
    {
     "name": "stdout",
     "output_type": "stream",
     "text": [
      "+----------+-----------+--------------------+-----------+------+--------------------+\n",
      "|product_id|category_id|        product_name|description| price|               image|\n",
      "+----------+-----------+--------------------+-----------+------+--------------------+\n",
      "|         1|          2|Quest Q64 10 FT. ...|       null| 599.8|http://images.acm...|\n",
      "|         2|          2|Under Armour Men'...|       null|1299.9|http://images.acm...|\n",
      "|         3|          2|Under Armour Men'...|       null| 899.9|http://images.acm...|\n",
      "|         4|          2|Under Armour Men'...|       null| 899.9|http://images.acm...|\n",
      "|         5|          2|Riddell Youth Rev...|       null|1999.9|http://images.acm...|\n",
      "+----------+-----------+--------------------+-----------+------+--------------------+\n",
      "only showing top 5 rows\n",
      "\n"
     ]
    }
   ],
   "source": [
    "product_df.withColumn(\"price\",expr(\" price*10 \")).show(5)"
   ]
  },
  {
   "cell_type": "code",
   "execution_count": 51,
   "metadata": {},
   "outputs": [
    {
     "name": "stdout",
     "output_type": "stream",
     "text": [
      "+----------+-----------+--------------------+-----------+------+--------------------+---------+\n",
      "|product_id|category_id|        product_name|description| price|               image|new_price|\n",
      "+----------+-----------+--------------------+-----------+------+--------------------+---------+\n",
      "|         1|          2|Quest Q64 10 FT. ...|       null| 59.98|http://images.acm...|    59.98|\n",
      "|         2|          2|Under Armour Men'...|       null|129.99|http://images.acm...|  12999.0|\n",
      "|         3|          2|Under Armour Men'...|       null| 89.99|http://images.acm...|   8999.0|\n",
      "|         4|          2|Under Armour Men'...|       null| 89.99|http://images.acm...|   8999.0|\n",
      "|         5|          2|Riddell Youth Rev...|       null|199.99|http://images.acm...|   199.99|\n",
      "|         6|          2|Jordan Men's VI R...|       null|134.99|http://images.acm...|   134.99|\n",
      "|         7|          2|Schutt Youth Recr...|       null| 99.99|http://images.acm...|    99.99|\n",
      "|         8|          2|Nike Men's Vapor ...|       null|129.99|http://images.acm...|   1299.9|\n",
      "|         9|          2|Nike Adult Vapor ...|       null|  50.0|http://images.acm...|    500.0|\n",
      "|        10|          2|Under Armour Men'...|       null|129.99|http://images.acm...|  12999.0|\n",
      "+----------+-----------+--------------------+-----------+------+--------------------+---------+\n",
      "only showing top 10 rows\n",
      "\n"
     ]
    }
   ],
   "source": [
    "product_df.withColumn(\"new_price\",\n",
    "                      expr(\"CASE WHEN product_name like '%Nike%' THEN price*10 \\\n",
    "                           WHEN product_name like '%Armour%' THEN price*100 \\\n",
    "                           ELSE price \\\n",
    "                           END\")).show(10)"
   ]
  },
  {
   "cell_type": "code",
   "execution_count": 54,
   "metadata": {},
   "outputs": [
    {
     "name": "stdout",
     "output_type": "stream",
     "text": [
      "+----------+-----------+--------------------+-----------+------+--------------------+---------+\n",
      "|product_id|category_id|        product_name|description| price|               image|new_price|\n",
      "+----------+-----------+--------------------+-----------+------+--------------------+---------+\n",
      "|         1|          2|Quest Q64 10 FT. ...|       null| 59.98|http://images.acm...|    59.98|\n",
      "|         2|          2|Under Armour Men'...|       null|129.99|http://images.acm...|  12999.0|\n",
      "|         3|          2|Under Armour Men'...|       null| 89.99|http://images.acm...|   8999.0|\n",
      "|         4|          2|Under Armour Men'...|       null| 89.99|http://images.acm...|   8999.0|\n",
      "|         5|          2|Riddell Youth Rev...|       null|199.99|http://images.acm...|   199.99|\n",
      "|         6|          2|Jordan Men's VI R...|       null|134.99|http://images.acm...|   134.99|\n",
      "|         7|          2|Schutt Youth Recr...|       null| 99.99|http://images.acm...|    99.99|\n",
      "|         8|          2|Nike Men's Vapor ...|       null|129.99|http://images.acm...|   1299.9|\n",
      "|         9|          2|Nike Adult Vapor ...|       null|  50.0|http://images.acm...|    500.0|\n",
      "|        10|          2|Under Armour Men'...|       null|129.99|http://images.acm...|  12999.0|\n",
      "+----------+-----------+--------------------+-----------+------+--------------------+---------+\n",
      "only showing top 10 rows\n",
      "\n"
     ]
    }
   ],
   "source": [
    "product_df.select(\"*\",\n",
    "                      expr(\"CASE WHEN product_name like '%Nike%' THEN price*10 \\\n",
    "                           WHEN product_name like '%Armour%' THEN price*100 \\\n",
    "                           ELSE price \\\n",
    "                           END \\\n",
    "                            AS new_price\")).show(10)"
   ]
  },
  {
   "cell_type": "code",
   "execution_count": 56,
   "metadata": {},
   "outputs": [
    {
     "name": "stdout",
     "output_type": "stream",
     "text": [
      "+----------+-----------+--------------------+-----------+------+--------------------+---------+\n",
      "|product_id|category_id|        product_name|description| price|               image|new_price|\n",
      "+----------+-----------+--------------------+-----------+------+--------------------+---------+\n",
      "|         1|          2|Quest Q64 10 FT. ...|       null| 59.98|http://images.acm...|    59.98|\n",
      "|         2|          2|Under Armour Men'...|       null|129.99|http://images.acm...|  12999.0|\n",
      "|         3|          2|Under Armour Men'...|       null| 89.99|http://images.acm...|   8999.0|\n",
      "|         4|          2|Under Armour Men'...|       null| 89.99|http://images.acm...|   8999.0|\n",
      "|         5|          2|Riddell Youth Rev...|       null|199.99|http://images.acm...|   199.99|\n",
      "|         6|          2|Jordan Men's VI R...|       null|134.99|http://images.acm...|   134.99|\n",
      "|         7|          2|Schutt Youth Recr...|       null| 99.99|http://images.acm...|    99.99|\n",
      "|         8|          2|Nike Men's Vapor ...|       null|129.99|http://images.acm...|   1299.9|\n",
      "|         9|          2|Nike Adult Vapor ...|       null|  50.0|http://images.acm...|    500.0|\n",
      "|        10|          2|Under Armour Men'...|       null|129.99|http://images.acm...|  12999.0|\n",
      "+----------+-----------+--------------------+-----------+------+--------------------+---------+\n",
      "only showing top 10 rows\n",
      "\n"
     ]
    }
   ],
   "source": [
    "product_df.selectExpr(\"*\",\n",
    "                  \"CASE WHEN product_name like '%Nike%' THEN price*10 \\\n",
    "                    WHEN product_name like '%Armour%' THEN price*100 \\\n",
    "                    ELSE price \\\n",
    "                    END \\\n",
    "                    AS new_price\").show(10)"
   ]
  },
  {
   "cell_type": "code",
   "execution_count": null,
   "metadata": {},
   "outputs": [],
   "source": [
    "spark.stop()"
   ]
  }
 ],
 "metadata": {
  "kernelspec": {
   "display_name": "base",
   "language": "python",
   "name": "python3"
  },
  "language_info": {
   "codemirror_mode": {
    "name": "ipython",
    "version": 3
   },
   "file_extension": ".py",
   "mimetype": "text/x-python",
   "name": "python",
   "nbconvert_exporter": "python",
   "pygments_lexer": "ipython3",
   "version": "3.11.3"
  }
 },
 "nbformat": 4,
 "nbformat_minor": 2
}
