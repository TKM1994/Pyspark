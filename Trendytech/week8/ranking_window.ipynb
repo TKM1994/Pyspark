{
 "cells": [
  {
   "cell_type": "markdown",
   "metadata": {},
   "source": [
    "## usual"
   ]
  },
  {
   "cell_type": "code",
   "execution_count": null,
   "metadata": {},
   "outputs": [],
   "source": [
    "#rank,dense_rank,row_number,ntile,percent_rank,cume_dist,\n",
    "#first_value,last_valu,nth_value\n",
    "#lead,lag\n",
    "#sum(),count(),min(),max(),avg()"
   ]
  },
  {
   "cell_type": "code",
   "execution_count": 1,
   "metadata": {},
   "outputs": [],
   "source": [
    "from pyspark.sql import SparkSession\n",
    "spark = SparkSession.builder.appName(\"window\").getOrCreate()"
   ]
  },
  {
   "cell_type": "markdown",
   "metadata": {},
   "source": [
    "## df"
   ]
  },
  {
   "cell_type": "code",
   "execution_count": 2,
   "metadata": {},
   "outputs": [
    {
     "name": "stdout",
     "output_type": "stream",
     "text": [
      "+-----------+-----------+------------------+--------------+--------------+\n",
      "|    country|week_number|number_of_invoices|total_quantity|invoice_values|\n",
      "+-----------+-----------+------------------+--------------+--------------+\n",
      "|   Portugal|         22|                19|          1525|       4975.32|\n",
      "|   Portugal|         22|                18|          1230|       4975.32|\n",
      "|    Germany|          2|                14|          1680|       6040.99|\n",
      "|    Germany|          2|                15|          1890|       6040.99|\n",
      "|Netherlands|         49|                 5|            28|        103.78|\n",
      "|Netherlands|         49|                 7|            42|        103.78|\n",
      "|      Spain|          4|                16|           730|       1909.05|\n",
      "|      Spain|          4|                15|           680|       1909.05|\n",
      "|Netherlands|         29|                 4|          1723|       3435.96|\n",
      "|Netherlands|         29|                 3|          1543|       3435.96|\n",
      "|    Germany|         25|                 5|          1169|       5154.49|\n",
      "|    Germany|         25|                 4|           987|       5154.49|\n",
      "|     France|         47|                 9|          1644|       3987.62|\n",
      "|     France|         47|                 8|          1456|       3987.62|\n",
      "|      Spain|         49|                11|           657|       2881.72|\n",
      "|      Spain|         49|                10|           590|       2881.72|\n",
      "|     France|         18|                 3|          1882|       9171.42|\n",
      "|     France|         18|                 2|          1673|       9171.42|\n",
      "|    Germany|         42|                18|          1719|       1383.78|\n",
      "|    Germany|         42|                17|          1532|       1383.78|\n",
      "+-----------+-----------+------------------+--------------+--------------+\n",
      "\n"
     ]
    }
   ],
   "source": [
    "# Define schema\n",
    "schema = [\"country\", \"week_number\", \"number_of_invoices\", \"total_quantity\", \"invoice_values\"]\n",
    "\n",
    "# Data for each country (with repeated invoice values for ranking)\n",
    "data = [\n",
    "    (\"Portugal\", 22, 19, 1525, 4975.32), (\"Portugal\", 22, 18, 1230, 4975.32),\n",
    "    (\"Germany\", 2, 14, 1680, 6040.99), (\"Germany\", 2, 15, 1890, 6040.99),\n",
    "    (\"Netherlands\", 49, 5, 28, 103.78), (\"Netherlands\", 49, 7, 42, 103.78),\n",
    "    (\"Spain\", 4, 16, 730, 1909.05), (\"Spain\", 4, 15, 680, 1909.05),\n",
    "    (\"Netherlands\", 29, 4, 1723, 3435.96), (\"Netherlands\", 29, 3, 1543, 3435.96),\n",
    "    (\"Germany\", 25, 5, 1169, 5154.49), (\"Germany\", 25, 4, 987, 5154.49),\n",
    "    (\"France\", 47, 9, 1644, 3987.62), (\"France\", 47, 8, 1456, 3987.62),\n",
    "    (\"Spain\", 49, 11, 657, 2881.72), (\"Spain\", 49, 10, 590, 2881.72),\n",
    "    (\"France\", 18, 3, 1882, 9171.42), (\"France\", 18, 2, 1673, 9171.42),\n",
    "    (\"Germany\", 42, 18, 1719, 1383.78), (\"Germany\", 42, 17, 1532, 1383.78),\n",
    "    \n",
    "]\n",
    "\n",
    "df = spark.createDataFrame(data, schema=schema)\n",
    "\n",
    "df.show()  "
   ]
  },
  {
   "cell_type": "code",
   "execution_count": 5,
   "metadata": {},
   "outputs": [],
   "source": [
    "df.createOrReplaceTempView(\"df_table\")"
   ]
  },
  {
   "cell_type": "code",
   "execution_count": 3,
   "metadata": {},
   "outputs": [
    {
     "name": "stdout",
     "output_type": "stream",
     "text": [
      "+-----------+-----------+------------------+--------------+--------------+\n",
      "|    country|week_number|number_of_invoices|total_quantity|invoice_values|\n",
      "+-----------+-----------+------------------+--------------+--------------+\n",
      "|     France|         18|                 3|          1882|       9171.42|\n",
      "|     France|         47|                 9|          1644|       3987.62|\n",
      "|     France|         18|                 2|          1673|       9171.42|\n",
      "|     France|         47|                 8|          1456|       3987.62|\n",
      "|    Germany|          2|                14|          1680|       6040.99|\n",
      "|    Germany|         25|                 5|          1169|       5154.49|\n",
      "|    Germany|         42|                18|          1719|       1383.78|\n",
      "|    Germany|         25|                 4|           987|       5154.49|\n",
      "|    Germany|          2|                15|          1890|       6040.99|\n",
      "|    Germany|         42|                17|          1532|       1383.78|\n",
      "|Netherlands|         49|                 5|            28|        103.78|\n",
      "|Netherlands|         49|                 7|            42|        103.78|\n",
      "|Netherlands|         29|                 4|          1723|       3435.96|\n",
      "|Netherlands|         29|                 3|          1543|       3435.96|\n",
      "|   Portugal|         22|                19|          1525|       4975.32|\n",
      "|   Portugal|         22|                18|          1230|       4975.32|\n",
      "|      Spain|         49|                11|           657|       2881.72|\n",
      "|      Spain|         49|                10|           590|       2881.72|\n",
      "|      Spain|          4|                16|           730|       1909.05|\n",
      "|      Spain|          4|                15|           680|       1909.05|\n",
      "+-----------+-----------+------------------+--------------+--------------+\n",
      "\n"
     ]
    }
   ],
   "source": [
    "df.orderBy(\"country\").show()"
   ]
  },
  {
   "cell_type": "code",
   "execution_count": 7,
   "metadata": {},
   "outputs": [
    {
     "name": "stdout",
     "output_type": "stream",
     "text": [
      "root\n",
      " |-- country: string (nullable = true)\n",
      " |-- week_number: long (nullable = true)\n",
      " |-- number_of_invoices: long (nullable = true)\n",
      " |-- total_quantity: long (nullable = true)\n",
      " |-- invoice_values: double (nullable = true)\n",
      "\n"
     ]
    }
   ],
   "source": [
    "df.printSchema()"
   ]
  },
  {
   "cell_type": "code",
   "execution_count": 10,
   "metadata": {},
   "outputs": [],
   "source": [
    "from pyspark.sql import Window\n",
    "from pyspark.sql.functions import *"
   ]
  },
  {
   "cell_type": "markdown",
   "metadata": {},
   "source": [
    "## Running Sum"
   ]
  },
  {
   "cell_type": "code",
   "execution_count": 12,
   "metadata": {},
   "outputs": [
    {
     "name": "stdout",
     "output_type": "stream",
     "text": [
      "+-------+-----------+------------------+--------------+--------------+-----------+\n",
      "|country|week_number|number_of_invoices|total_quantity|invoice_values|running_sum|\n",
      "+-------+-----------+------------------+--------------+--------------+-----------+\n",
      "| France|         18|                 3|          1882|       9171.42|     9171.0|\n",
      "| France|         18|                 2|          1673|       9171.42|    18343.0|\n",
      "| France|         47|                 9|          1644|       3987.62|    22330.0|\n",
      "+-------+-----------+------------------+--------------+--------------+-----------+\n",
      "only showing top 3 rows\n",
      "\n"
     ]
    }
   ],
   "source": [
    "window1 = Window.partitionBy(\"country\") \\\n",
    "    .orderBy(\"week_number\") \\\n",
    "        .rowsBetween(Window.unboundedPreceding,Window.currentRow)\n",
    "        \n",
    "df.withColumn(\"running_sum\" , round(sum(\"invoice_values\").over(window1))).show(3)"
   ]
  },
  {
   "cell_type": "code",
   "execution_count": 11,
   "metadata": {},
   "outputs": [
    {
     "name": "stdout",
     "output_type": "stream",
     "text": [
      "+-----------+-----------+------------------+--------------+--------------+-------------+\n",
      "|    country|week_number|number_of_invoices|total_quantity|invoice_values|running_total|\n",
      "+-----------+-----------+------------------+--------------+--------------+-------------+\n",
      "|     France|         18|                 3|          1882|       9171.42|       9171.0|\n",
      "|     France|         18|                 2|          1673|       9171.42|      18343.0|\n",
      "|     France|         47|                 9|          1644|       3987.62|      22330.0|\n",
      "|     France|         47|                 8|          1456|       3987.62|      26318.0|\n",
      "|    Germany|          2|                14|          1680|       6040.99|       6041.0|\n",
      "|    Germany|          2|                15|          1890|       6040.99|      12082.0|\n",
      "|    Germany|         25|                 5|          1169|       5154.49|      17236.0|\n",
      "|    Germany|         25|                 4|           987|       5154.49|      22391.0|\n",
      "|    Germany|         42|                18|          1719|       1383.78|      23775.0|\n",
      "|    Germany|         42|                17|          1532|       1383.78|      25159.0|\n",
      "|Netherlands|         29|                 4|          1723|       3435.96|       3436.0|\n",
      "|Netherlands|         29|                 3|          1543|       3435.96|       6872.0|\n",
      "|Netherlands|         49|                 5|            28|        103.78|       6976.0|\n",
      "|Netherlands|         49|                 7|            42|        103.78|       7079.0|\n",
      "|   Portugal|         22|                19|          1525|       4975.32|       4975.0|\n",
      "|   Portugal|         22|                18|          1230|       4975.32|       9951.0|\n",
      "|      Spain|          4|                16|           730|       1909.05|       1909.0|\n",
      "|      Spain|          4|                15|           680|       1909.05|       3818.0|\n",
      "|      Spain|         49|                11|           657|       2881.72|       6700.0|\n",
      "|      Spain|         49|                10|           590|       2881.72|       9582.0|\n",
      "+-----------+-----------+------------------+--------------+--------------+-------------+\n",
      "\n"
     ]
    }
   ],
   "source": [
    "my_window1 = Window.partitionBy(\"country\") \\\n",
    "                    .orderBy(col(\"week_number\").asc()) \\\n",
    "                    .rowsBetween(Window.unboundedPreceding , Window.currentRow)\n",
    "                    \n",
    "df.withColumn(  \"running_total\" , round(sum(\"invoice_values\").over(my_window1)) ).show()"
   ]
  },
  {
   "cell_type": "code",
   "execution_count": 14,
   "metadata": {},
   "outputs": [
    {
     "name": "stdout",
     "output_type": "stream",
     "text": [
      "+-----------+-----------+------------------+--------------+--------------+------------------+\n",
      "|    country|week_number|number_of_invoices|total_quantity|invoice_values|       running_sum|\n",
      "+-----------+-----------+------------------+--------------+--------------+------------------+\n",
      "|     France|         18|                 3|          1882|       9171.42|           9171.42|\n",
      "|     France|         18|                 2|          1673|       9171.42|          18342.84|\n",
      "|     France|         47|                 9|          1644|       3987.62|          22330.46|\n",
      "|     France|         47|                 8|          1456|       3987.62|26318.079999999998|\n",
      "|    Germany|          2|                14|          1680|       6040.99|           6040.99|\n",
      "|    Germany|          2|                15|          1890|       6040.99|          12081.98|\n",
      "|    Germany|         25|                 5|          1169|       5154.49|          17236.47|\n",
      "|    Germany|         25|                 4|           987|       5154.49|          22390.96|\n",
      "|    Germany|         42|                18|          1719|       1383.78|23774.739999999998|\n",
      "|    Germany|         42|                17|          1532|       1383.78|25158.519999999997|\n",
      "|Netherlands|         29|                 4|          1723|       3435.96|           3435.96|\n",
      "|Netherlands|         29|                 3|          1543|       3435.96|           6871.92|\n",
      "|Netherlands|         49|                 5|            28|        103.78|            6975.7|\n",
      "|Netherlands|         49|                 7|            42|        103.78|           7079.48|\n",
      "|   Portugal|         22|                19|          1525|       4975.32|           4975.32|\n",
      "|   Portugal|         22|                18|          1230|       4975.32|           9950.64|\n",
      "|      Spain|          4|                16|           730|       1909.05|           1909.05|\n",
      "|      Spain|          4|                15|           680|       1909.05|            3818.1|\n",
      "|      Spain|         49|                11|           657|       2881.72|           6699.82|\n",
      "|      Spain|         49|                10|           590|       2881.72| 9581.539999999999|\n",
      "+-----------+-----------+------------------+--------------+--------------+------------------+\n",
      "\n"
     ]
    }
   ],
   "source": [
    "spark.sql(\"\"\"\n",
    "          select * ,\n",
    "          sum(invoice_values) over(partition by country order by week_number asc\n",
    "          rows between unbounded preceding and current row ) as running_sum\n",
    "          from df_table\n",
    "          \"\"\").show()"
   ]
  },
  {
   "cell_type": "markdown",
   "metadata": {},
   "source": [
    "## pyspark way"
   ]
  },
  {
   "cell_type": "code",
   "execution_count": 69,
   "metadata": {},
   "outputs": [
    {
     "name": "stdout",
     "output_type": "stream",
     "text": [
      "+-----------+--------------+---+------+----+------+-------+------+\n",
      "|    country|invoice_values|rnk|dnsrnk|rnum|pctrnk|cumdist|bucket|\n",
      "+-----------+--------------+---+------+----+------+-------+------+\n",
      "|     France|       9171.42|  1|     1|   1|   0.0|    0.5|     1|\n",
      "|     France|       9171.42|  1|     1|   2|   0.0|    0.5|     1|\n",
      "|     France|       3987.62|  3|     2|   3|  0.67|    1.0|     2|\n",
      "|     France|       3987.62|  3|     2|   4|  0.67|    1.0|     2|\n",
      "|    Germany|       6040.99|  1|     1|   1|   0.0|   0.33|     1|\n",
      "|    Germany|       6040.99|  1|     1|   2|   0.0|   0.33|     1|\n",
      "|    Germany|       5154.49|  3|     2|   3|   0.4|   0.67|     1|\n",
      "|    Germany|       5154.49|  3|     2|   4|   0.4|   0.67|     2|\n",
      "|    Germany|       1383.78|  5|     3|   5|   0.8|    1.0|     2|\n",
      "|    Germany|       1383.78|  5|     3|   6|   0.8|    1.0|     2|\n",
      "|Netherlands|       3435.96|  1|     1|   1|   0.0|    0.5|     1|\n",
      "|Netherlands|       3435.96|  1|     1|   2|   0.0|    0.5|     1|\n",
      "|Netherlands|        103.78|  3|     2|   3|  0.67|    1.0|     2|\n",
      "|Netherlands|        103.78|  3|     2|   4|  0.67|    1.0|     2|\n",
      "|   Portugal|       4975.32|  1|     1|   1|   0.0|    1.0|     1|\n",
      "|   Portugal|       4975.32|  1|     1|   2|   0.0|    1.0|     2|\n",
      "|      Spain|       2881.72|  1|     1|   1|   0.0|    0.5|     1|\n",
      "|      Spain|       2881.72|  1|     1|   2|   0.0|    0.5|     1|\n",
      "|      Spain|       1909.05|  3|     2|   3|  0.67|    1.0|     2|\n",
      "|      Spain|       1909.05|  3|     2|   4|  0.67|    1.0|     2|\n",
      "+-----------+--------------+---+------+----+------+-------+------+\n",
      "\n"
     ]
    }
   ],
   "source": [
    "my_window = Window.partitionBy(\"country\") \\\n",
    "                    .orderBy(desc(\"invoice_values\")) \n",
    "                        \n",
    "df.select(\"country\",\"invoice_values\") \\\n",
    ".withColumn(\"rnk\" , rank().over(my_window)) \\\n",
    ".withColumn(\"dnsrnk\" , dense_rank().over(my_window)) \\\n",
    ".withColumn(\"rnum\" , row_number().over(my_window)) \\\n",
    ".withColumn(\"pctrnk\" , round(percent_rank().over(my_window),2)) \\\n",
    ".withColumn(\"cumdist\" , round(cume_dist().over(my_window),2)) \\\n",
    ".withColumn(\"bucket\" , ntile(2).over(my_window)) \\\n",
    ".show()\n"
   ]
  },
  {
   "cell_type": "code",
   "execution_count": 71,
   "metadata": {},
   "outputs": [
    {
     "name": "stdout",
     "output_type": "stream",
     "text": [
      "+-----------+--------------+---+\n",
      "|    country|invoice_values|rnk|\n",
      "+-----------+--------------+---+\n",
      "|     France|       9171.42|  1|\n",
      "|     France|       9171.42|  1|\n",
      "|    Germany|       6040.99|  1|\n",
      "|    Germany|       6040.99|  1|\n",
      "|Netherlands|       3435.96|  1|\n",
      "|Netherlands|       3435.96|  1|\n",
      "|   Portugal|       4975.32|  1|\n",
      "|   Portugal|       4975.32|  1|\n",
      "|      Spain|       2881.72|  1|\n",
      "|      Spain|       2881.72|  1|\n",
      "+-----------+--------------+---+\n",
      "\n"
     ]
    }
   ],
   "source": [
    "my_window = Window.partitionBy(\"country\") \\\n",
    "                    .orderBy(desc(\"invoice_values\")) \n",
    "                        \n",
    "df.select(\"country\",\"invoice_values\") \\\n",
    ".withColumn(\"rnk\" , rank().over(my_window)) \\\n",
    ".where(\"rnk == 1\") \\\n",
    ".show()"
   ]
  },
  {
   "cell_type": "markdown",
   "metadata": {},
   "source": [
    "## SQL"
   ]
  },
  {
   "cell_type": "code",
   "execution_count": 55,
   "metadata": {},
   "outputs": [
    {
     "name": "stdout",
     "output_type": "stream",
     "text": [
      "+-----------+--------------+---+---+-----+------------------+------------------+------+\n",
      "|    country|invoice_values| rn|rnk|dsrnk|            pctrnk|           distrnk|bucket|\n",
      "+-----------+--------------+---+---+-----+------------------+------------------+------+\n",
      "|     France|       9171.42|  1|  1|    1|               0.0|               0.5|     1|\n",
      "|     France|       9171.42|  2|  1|    1|               0.0|               0.5|     1|\n",
      "|     France|       3987.62|  3|  3|    2|0.6666666666666666|               1.0|     2|\n",
      "|     France|       3987.62|  4|  3|    2|0.6666666666666666|               1.0|     2|\n",
      "|    Germany|       6040.99|  1|  1|    1|               0.0|0.3333333333333333|     1|\n",
      "|    Germany|       6040.99|  2|  1|    1|               0.0|0.3333333333333333|     1|\n",
      "|    Germany|       5154.49|  3|  3|    2|               0.4|0.6666666666666666|     1|\n",
      "|    Germany|       5154.49|  4|  3|    2|               0.4|0.6666666666666666|     2|\n",
      "|    Germany|       1383.78|  5|  5|    3|               0.8|               1.0|     2|\n",
      "|    Germany|       1383.78|  6|  5|    3|               0.8|               1.0|     2|\n",
      "|Netherlands|       3435.96|  1|  1|    1|               0.0|               0.5|     1|\n",
      "|Netherlands|       3435.96|  2|  1|    1|               0.0|               0.5|     1|\n",
      "|Netherlands|        103.78|  3|  3|    2|0.6666666666666666|               1.0|     2|\n",
      "|Netherlands|        103.78|  4|  3|    2|0.6666666666666666|               1.0|     2|\n",
      "|   Portugal|       4975.32|  1|  1|    1|               0.0|               1.0|     1|\n",
      "|   Portugal|       4975.32|  2|  1|    1|               0.0|               1.0|     2|\n",
      "|      Spain|       2881.72|  1|  1|    1|               0.0|               0.5|     1|\n",
      "|      Spain|       2881.72|  2|  1|    1|               0.0|               0.5|     1|\n",
      "|      Spain|       1909.05|  3|  3|    2|0.6666666666666666|               1.0|     2|\n",
      "|      Spain|       1909.05|  4|  3|    2|0.6666666666666666|               1.0|     2|\n",
      "+-----------+--------------+---+---+-----+------------------+------------------+------+\n",
      "\n"
     ]
    }
   ],
   "source": [
    "spark.sql(\"\"\"\n",
    "          select country,invoice_values,\n",
    "          row_number() over w as rn,\n",
    "          rank() over w as rnk,\n",
    "          dense_rank() over w as dsrnk,\n",
    "          percent_rank() over w as pctrnk,\n",
    "          cume_dist() over w as distrnk,\n",
    "          ntile(2) over w as bucket\n",
    "          from df_table\n",
    "          window w as (partition by country order by invoice_values desc)\n",
    "          \"\"\").show()"
   ]
  },
  {
   "cell_type": "markdown",
   "metadata": {},
   "source": [
    "## student"
   ]
  },
  {
   "cell_type": "code",
   "execution_count": 54,
   "metadata": {},
   "outputs": [
    {
     "name": "stdout",
     "output_type": "stream",
     "text": [
      "+-------+-----+---+---+-----+------------------+-------+------+\n",
      "|student|score| rn|rnk|dsrnk|            pctrnk|distrnk|bucket|\n",
      "+-------+-----+---+---+-----+------------------+-------+------+\n",
      "|    Eve|  100|  1|  1|    1|               0.0|    0.1|     1|\n",
      "|Charlie|   90|  2|  2|    2|0.1111111111111111|    0.2|     1|\n",
      "|    Bob|   80|  3|  3|    3|0.2222222222222222|    0.3|     1|\n",
      "|  Alice|   70|  4|  4|    4|0.3333333333333333|    0.4|     1|\n",
      "|  David|   60|  5|  5|    5|0.4444444444444444|    0.5|     2|\n",
      "|  Frank|   50|  6|  6|    6|0.5555555555555556|    0.6|     2|\n",
      "|  Grace|   40|  7|  7|    7|0.6666666666666666|    0.7|     2|\n",
      "|  Heidi|   30|  8|  8|    8|0.7777777777777778|    0.8|     3|\n",
      "|   Ivan|   20|  9|  9|    9|0.8888888888888888|    0.9|     3|\n",
      "|   Judy|   10| 10| 10|   10|               1.0|    1.0|     3|\n",
      "+-------+-----+---+---+-----+------------------+-------+------+\n",
      "\n"
     ]
    }
   ],
   "source": [
    "schema = [\"student\",\"score\"]\n",
    "data =[(\"Alice\",70),\n",
    "       (\"Bob\",80),\n",
    "       (\"Charlie\",90),\n",
    "       (\"David\",60),\n",
    "       (\"Eve\",100),\n",
    "       (\"Frank\",50),\n",
    "       (\"Grace\",40),\n",
    "       (\"Heidi\",30),\n",
    "       (\"Ivan\",20),\n",
    "       (\"Judy\",10),\n",
    "       ]\n",
    "student_df = spark.createDataFrame(data , schema = schema)\n",
    "student_df.createOrReplaceTempView(\"student\")\n",
    "\n",
    "spark.sql(\"\"\"\n",
    "          select *,\n",
    "          row_number() over w as rn,\n",
    "          rank() over w as rnk,\n",
    "          dense_rank() over w as dsrnk,\n",
    "          percent_rank() over w as pctrnk,\n",
    "          cume_dist() over w as distrnk,\n",
    "          ntile(3) over w as bucket\n",
    "          from student\n",
    "          window w as ( order by score desc)\n",
    "          \"\"\").show()\n",
    "\n",
    "# percent_rank() gives the percentage of scores that are less than the current score\n",
    "#cume_dist()  is cumulative distribution the portion of scores that are less than or equal to current score"
   ]
  },
  {
   "cell_type": "markdown",
   "metadata": {},
   "source": [
    "## random"
   ]
  },
  {
   "cell_type": "code",
   "execution_count": 72,
   "metadata": {},
   "outputs": [
    {
     "name": "stdout",
     "output_type": "stream",
     "text": [
      "+-----------+-----------+------------------+--------------+--------------+\n",
      "|    country|week_number|number_of_invoices|total_quantity|invoice_values|\n",
      "+-----------+-----------+------------------+--------------+--------------+\n",
      "|   Portugal|         22|                19|          1525|       4975.32|\n",
      "|   Portugal|         22|                18|          1230|       4975.32|\n",
      "|    Germany|          2|                14|          1680|       6040.99|\n",
      "|    Germany|          2|                15|          1890|       6040.99|\n",
      "|Netherlands|         49|                 5|            28|        103.78|\n",
      "|Netherlands|         49|                 7|            42|        103.78|\n",
      "|      Spain|          4|                16|           730|       1909.05|\n",
      "|      Spain|          4|                15|           680|       1909.05|\n",
      "|Netherlands|         29|                 4|          1723|       3435.96|\n",
      "|Netherlands|         29|                 3|          1543|       3435.96|\n",
      "|    Germany|         25|                 5|          1169|       5154.49|\n",
      "|    Germany|         25|                 4|           987|       5154.49|\n",
      "|     France|         47|                 9|          1644|       3987.62|\n",
      "|     France|         47|                 8|          1456|       3987.62|\n",
      "|      Spain|         49|                11|           657|       2881.72|\n",
      "|      Spain|         49|                10|           590|       2881.72|\n",
      "|     France|         18|                 3|          1882|       9171.42|\n",
      "|     France|         18|                 2|          1673|       9171.42|\n",
      "|    Germany|         42|                18|          1719|       1383.78|\n",
      "|    Germany|         42|                17|          1532|       1383.78|\n",
      "+-----------+-----------+------------------+--------------+--------------+\n",
      "\n"
     ]
    }
   ],
   "source": [
    "df.select(\"*\").show()"
   ]
  },
  {
   "cell_type": "code",
   "execution_count": 73,
   "metadata": {},
   "outputs": [
    {
     "ename": "SyntaxError",
     "evalue": "invalid syntax (1790677206.py, line 1)",
     "output_type": "error",
     "traceback": [
      "\u001b[1;36m  Cell \u001b[1;32mIn[73], line 1\u001b[1;36m\u001b[0m\n\u001b[1;33m    df.select(*).show()\u001b[0m\n\u001b[1;37m               ^\u001b[0m\n\u001b[1;31mSyntaxError\u001b[0m\u001b[1;31m:\u001b[0m invalid syntax\n"
     ]
    }
   ],
   "source": [
    "df.select(*).show()"
   ]
  }
 ],
 "metadata": {
  "kernelspec": {
   "display_name": "base",
   "language": "python",
   "name": "python3"
  },
  "language_info": {
   "codemirror_mode": {
    "name": "ipython",
    "version": 3
   },
   "file_extension": ".py",
   "mimetype": "text/x-python",
   "name": "python",
   "nbconvert_exporter": "python",
   "pygments_lexer": "ipython3",
   "version": "3.11.3"
  }
 },
 "nbformat": 4,
 "nbformat_minor": 2
}
