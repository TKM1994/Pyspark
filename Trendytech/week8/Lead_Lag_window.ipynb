{
 "cells": [
  {
   "cell_type": "code",
   "execution_count": 15,
   "metadata": {},
   "outputs": [],
   "source": [
    "from pyspark.sql import SparkSession\n",
    "spark = SparkSession.builder.appName(\"Lead_Lag\").getOrCreate()"
   ]
  },
  {
   "cell_type": "code",
   "execution_count": 16,
   "metadata": {},
   "outputs": [
    {
     "name": "stdout",
     "output_type": "stream",
     "text": [
      "+-----------+-----------+------------------+--------------+--------------+\n",
      "|    country|week_number|number_of_invoices|total_quantity|invoice_values|\n",
      "+-----------+-----------+------------------+--------------+--------------+\n",
      "|   Portugal|         22|                19|          1525|       4975.32|\n",
      "|   Portugal|         22|                18|          1230|       4975.32|\n",
      "|    Germany|          2|                14|          1680|       6040.99|\n",
      "|    Germany|          2|                15|          1890|       6040.99|\n",
      "|Netherlands|         49|                 5|            28|        103.78|\n",
      "|Netherlands|         49|                 7|            42|        103.78|\n",
      "|      Spain|          4|                16|           730|       1909.05|\n",
      "|      Spain|          4|                15|           680|       1909.05|\n",
      "|Netherlands|         29|                 4|          1723|       3435.96|\n",
      "|Netherlands|         29|                 3|          1543|       3435.96|\n",
      "|    Germany|         25|                 5|          1169|       5154.49|\n",
      "|    Germany|         25|                 4|           987|       5154.49|\n",
      "|     France|         47|                 9|          1644|       3987.62|\n",
      "|     France|         47|                 8|          1456|       3987.62|\n",
      "|      Spain|         49|                11|           657|       2881.72|\n",
      "|      Spain|         49|                10|           590|       2881.72|\n",
      "|     France|         18|                 3|          1882|       9171.42|\n",
      "|     France|         18|                 2|          1673|       9171.42|\n",
      "|    Germany|         42|                18|          1719|       1383.78|\n",
      "|    Germany|         42|                17|          1532|       1383.78|\n",
      "+-----------+-----------+------------------+--------------+--------------+\n",
      "\n"
     ]
    }
   ],
   "source": [
    "# Define schema\n",
    "schema = [\"country\", \"week_number\", \"number_of_invoices\", \"total_quantity\", \"invoice_values\"]\n",
    "\n",
    "# Data for each country (with repeated invoice values for ranking)\n",
    "data = [\n",
    "    (\"Portugal\", 22, 19, 1525, 4975.32), (\"Portugal\", 22, 18, 1230, 4975.32),\n",
    "    (\"Germany\", 2, 14, 1680, 6040.99), (\"Germany\", 2, 15, 1890, 6040.99),\n",
    "    (\"Netherlands\", 49, 5, 28, 103.78), (\"Netherlands\", 49, 7, 42, 103.78),\n",
    "    (\"Spain\", 4, 16, 730, 1909.05), (\"Spain\", 4, 15, 680, 1909.05),\n",
    "    (\"Netherlands\", 29, 4, 1723, 3435.96), (\"Netherlands\", 29, 3, 1543, 3435.96),\n",
    "    (\"Germany\", 25, 5, 1169, 5154.49), (\"Germany\", 25, 4, 987, 5154.49),\n",
    "    (\"France\", 47, 9, 1644, 3987.62), (\"France\", 47, 8, 1456, 3987.62),\n",
    "    (\"Spain\", 49, 11, 657, 2881.72), (\"Spain\", 49, 10, 590, 2881.72),\n",
    "    (\"France\", 18, 3, 1882, 9171.42), (\"France\", 18, 2, 1673, 9171.42),\n",
    "    (\"Germany\", 42, 18, 1719, 1383.78), (\"Germany\", 42, 17, 1532, 1383.78),\n",
    "    \n",
    "]\n",
    "\n",
    "df = spark.createDataFrame(data, schema=schema)\n",
    "\n",
    "df.show()  "
   ]
  },
  {
   "cell_type": "code",
   "execution_count": 21,
   "metadata": {},
   "outputs": [],
   "source": [
    "df.createOrReplaceTempView(\"dftable\")"
   ]
  },
  {
   "cell_type": "code",
   "execution_count": 17,
   "metadata": {},
   "outputs": [],
   "source": [
    "from pyspark.sql import Window\n",
    "from pyspark.sql.functions import *"
   ]
  },
  {
   "cell_type": "code",
   "execution_count": 18,
   "metadata": {},
   "outputs": [],
   "source": [
    "my_window = Window.partitionBy(\"country\") \\\n",
    "                    .orderBy(asc(\"week_number\"))"
   ]
  },
  {
   "cell_type": "code",
   "execution_count": 19,
   "metadata": {},
   "outputs": [
    {
     "name": "stdout",
     "output_type": "stream",
     "text": [
      "+-----------+-----------+------------------+--------------+--------------+------------------+\n",
      "|    country|week_number|number_of_invoices|total_quantity|invoice_values|previous_week_sale|\n",
      "+-----------+-----------+------------------+--------------+--------------+------------------+\n",
      "|     France|         18|                 3|          1882|       9171.42|              null|\n",
      "|     France|         18|                 2|          1673|       9171.42|           9171.42|\n",
      "|     France|         47|                 9|          1644|       3987.62|           9171.42|\n",
      "|     France|         47|                 8|          1456|       3987.62|           3987.62|\n",
      "|    Germany|          2|                14|          1680|       6040.99|              null|\n",
      "|    Germany|          2|                15|          1890|       6040.99|           6040.99|\n",
      "|    Germany|         25|                 5|          1169|       5154.49|           6040.99|\n",
      "|    Germany|         25|                 4|           987|       5154.49|           5154.49|\n",
      "|    Germany|         42|                18|          1719|       1383.78|           5154.49|\n",
      "|    Germany|         42|                17|          1532|       1383.78|           1383.78|\n",
      "|Netherlands|         29|                 4|          1723|       3435.96|              null|\n",
      "|Netherlands|         29|                 3|          1543|       3435.96|           3435.96|\n",
      "|Netherlands|         49|                 5|            28|        103.78|           3435.96|\n",
      "|Netherlands|         49|                 7|            42|        103.78|            103.78|\n",
      "|   Portugal|         22|                19|          1525|       4975.32|              null|\n",
      "|   Portugal|         22|                18|          1230|       4975.32|           4975.32|\n",
      "|      Spain|          4|                16|           730|       1909.05|              null|\n",
      "|      Spain|          4|                15|           680|       1909.05|           1909.05|\n",
      "|      Spain|         49|                11|           657|       2881.72|           1909.05|\n",
      "|      Spain|         49|                10|           590|       2881.72|           2881.72|\n",
      "+-----------+-----------+------------------+--------------+--------------+------------------+\n",
      "\n"
     ]
    }
   ],
   "source": [
    "df.withColumn(\"previous_week_sale\" , lag(\"invoice_values\" , 1).over(my_window)).show()"
   ]
  },
  {
   "cell_type": "code",
   "execution_count": 20,
   "metadata": {},
   "outputs": [
    {
     "name": "stdout",
     "output_type": "stream",
     "text": [
      "+-----------+-----------+------------------+--------------+--------------+-------------------+\n",
      "|    country|week_number|number_of_invoices|total_quantity|invoice_values|previous_2week_sale|\n",
      "+-----------+-----------+------------------+--------------+--------------+-------------------+\n",
      "|     France|         18|                 3|          1882|       9171.42|               null|\n",
      "|     France|         18|                 2|          1673|       9171.42|               null|\n",
      "|     France|         47|                 9|          1644|       3987.62|            9171.42|\n",
      "|     France|         47|                 8|          1456|       3987.62|            9171.42|\n",
      "|    Germany|          2|                14|          1680|       6040.99|               null|\n",
      "|    Germany|          2|                15|          1890|       6040.99|               null|\n",
      "|    Germany|         25|                 5|          1169|       5154.49|            6040.99|\n",
      "|    Germany|         25|                 4|           987|       5154.49|            6040.99|\n",
      "|    Germany|         42|                18|          1719|       1383.78|            5154.49|\n",
      "|    Germany|         42|                17|          1532|       1383.78|            5154.49|\n",
      "|Netherlands|         29|                 4|          1723|       3435.96|               null|\n",
      "|Netherlands|         29|                 3|          1543|       3435.96|               null|\n",
      "|Netherlands|         49|                 5|            28|        103.78|            3435.96|\n",
      "|Netherlands|         49|                 7|            42|        103.78|            3435.96|\n",
      "|   Portugal|         22|                19|          1525|       4975.32|               null|\n",
      "|   Portugal|         22|                18|          1230|       4975.32|               null|\n",
      "|      Spain|          4|                16|           730|       1909.05|               null|\n",
      "|      Spain|          4|                15|           680|       1909.05|               null|\n",
      "|      Spain|         49|                11|           657|       2881.72|            1909.05|\n",
      "|      Spain|         49|                10|           590|       2881.72|            1909.05|\n",
      "+-----------+-----------+------------------+--------------+--------------+-------------------+\n",
      "\n"
     ]
    }
   ],
   "source": [
    "df.withColumn(\"previous_2week_sale\" , lag(\"invoice_values\" , 2).over(my_window)).show()"
   ]
  },
  {
   "cell_type": "code",
   "execution_count": 9,
   "metadata": {},
   "outputs": [
    {
     "name": "stdout",
     "output_type": "stream",
     "text": [
      "+-----------+-----------+------------------+--------------+--------------+------------------+\n",
      "|    country|week_number|number_of_invoices|total_quantity|invoice_values|upcoming_week_sale|\n",
      "+-----------+-----------+------------------+--------------+--------------+------------------+\n",
      "|     France|         18|                 3|          1882|       9171.42|           9171.42|\n",
      "|     France|         18|                 2|          1673|       9171.42|           3987.62|\n",
      "|     France|         47|                 9|          1644|       3987.62|           3987.62|\n",
      "|     France|         47|                 8|          1456|       3987.62|              null|\n",
      "|    Germany|          2|                14|          1680|       6040.99|           6040.99|\n",
      "|    Germany|          2|                15|          1890|       6040.99|           5154.49|\n",
      "|    Germany|         25|                 5|          1169|       5154.49|           5154.49|\n",
      "|    Germany|         25|                 4|           987|       5154.49|           1383.78|\n",
      "|    Germany|         42|                18|          1719|       1383.78|           1383.78|\n",
      "|    Germany|         42|                17|          1532|       1383.78|              null|\n",
      "|Netherlands|         29|                 4|          1723|       3435.96|           3435.96|\n",
      "|Netherlands|         29|                 3|          1543|       3435.96|            103.78|\n",
      "|Netherlands|         49|                 5|            28|        103.78|            103.78|\n",
      "|Netherlands|         49|                 7|            42|        103.78|              null|\n",
      "|   Portugal|         22|                19|          1525|       4975.32|           4975.32|\n",
      "|   Portugal|         22|                18|          1230|       4975.32|              null|\n",
      "|      Spain|          4|                16|           730|       1909.05|           1909.05|\n",
      "|      Spain|          4|                15|           680|       1909.05|           2881.72|\n",
      "|      Spain|         49|                11|           657|       2881.72|           2881.72|\n",
      "|      Spain|         49|                10|           590|       2881.72|              null|\n",
      "+-----------+-----------+------------------+--------------+--------------+------------------+\n",
      "\n"
     ]
    }
   ],
   "source": [
    "df.withColumn(\"upcoming_week_sale\" , lead(\"invoice_values\" , 1).over(my_window)).show()"
   ]
  },
  {
   "cell_type": "code",
   "execution_count": 10,
   "metadata": {},
   "outputs": [
    {
     "name": "stdout",
     "output_type": "stream",
     "text": [
      "+-----------+-----------+------------------+--------------+--------------+-------------------+\n",
      "|    country|week_number|number_of_invoices|total_quantity|invoice_values|upcoming_2week_sale|\n",
      "+-----------+-----------+------------------+--------------+--------------+-------------------+\n",
      "|     France|         18|                 3|          1882|       9171.42|            3987.62|\n",
      "|     France|         18|                 2|          1673|       9171.42|            3987.62|\n",
      "|     France|         47|                 9|          1644|       3987.62|               null|\n",
      "|     France|         47|                 8|          1456|       3987.62|               null|\n",
      "|    Germany|          2|                14|          1680|       6040.99|            5154.49|\n",
      "|    Germany|          2|                15|          1890|       6040.99|            5154.49|\n",
      "|    Germany|         25|                 5|          1169|       5154.49|            1383.78|\n",
      "|    Germany|         25|                 4|           987|       5154.49|            1383.78|\n",
      "|    Germany|         42|                18|          1719|       1383.78|               null|\n",
      "|    Germany|         42|                17|          1532|       1383.78|               null|\n",
      "|Netherlands|         29|                 4|          1723|       3435.96|             103.78|\n",
      "|Netherlands|         29|                 3|          1543|       3435.96|             103.78|\n",
      "|Netherlands|         49|                 5|            28|        103.78|               null|\n",
      "|Netherlands|         49|                 7|            42|        103.78|               null|\n",
      "|   Portugal|         22|                19|          1525|       4975.32|               null|\n",
      "|   Portugal|         22|                18|          1230|       4975.32|               null|\n",
      "|      Spain|          4|                16|           730|       1909.05|            2881.72|\n",
      "|      Spain|          4|                15|           680|       1909.05|            2881.72|\n",
      "|      Spain|         49|                11|           657|       2881.72|               null|\n",
      "|      Spain|         49|                10|           590|       2881.72|               null|\n",
      "+-----------+-----------+------------------+--------------+--------------+-------------------+\n",
      "\n"
     ]
    }
   ],
   "source": [
    "df.withColumn(\"upcoming_2week_sale\" , lead(\"invoice_values\" , 2).over(my_window)).show()"
   ]
  },
  {
   "cell_type": "code",
   "execution_count": 28,
   "metadata": {},
   "outputs": [
    {
     "name": "stdout",
     "output_type": "stream",
     "text": [
      "+-----------+-----------+------------------+--------------+--------------+------------------+\n",
      "|    country|week_number|number_of_invoices|total_quantity|invoice_values|upcoming_week_sale|\n",
      "+-----------+-----------+------------------+--------------+--------------+------------------+\n",
      "|     France|         18|                 3|          1882|       9171.42|           9171.42|\n",
      "|     France|         18|                 2|          1673|       9171.42|           3987.62|\n",
      "|     France|         47|                 9|          1644|       3987.62|           3987.62|\n",
      "|     France|         47|                 8|          1456|       3987.62|              null|\n",
      "|    Germany|          2|                14|          1680|       6040.99|           6040.99|\n",
      "|    Germany|          2|                15|          1890|       6040.99|           5154.49|\n",
      "|    Germany|         25|                 5|          1169|       5154.49|           5154.49|\n",
      "|    Germany|         25|                 4|           987|       5154.49|           1383.78|\n",
      "|    Germany|         42|                18|          1719|       1383.78|           1383.78|\n",
      "|    Germany|         42|                17|          1532|       1383.78|              null|\n",
      "|Netherlands|         29|                 4|          1723|       3435.96|           3435.96|\n",
      "|Netherlands|         29|                 3|          1543|       3435.96|            103.78|\n",
      "|Netherlands|         49|                 5|            28|        103.78|            103.78|\n",
      "|Netherlands|         49|                 7|            42|        103.78|              null|\n",
      "|   Portugal|         22|                19|          1525|       4975.32|           4975.32|\n",
      "|   Portugal|         22|                18|          1230|       4975.32|              null|\n",
      "|      Spain|          4|                16|           730|       1909.05|           1909.05|\n",
      "|      Spain|          4|                15|           680|       1909.05|           2881.72|\n",
      "|      Spain|         49|                11|           657|       2881.72|           2881.72|\n",
      "|      Spain|         49|                10|           590|       2881.72|              null|\n",
      "+-----------+-----------+------------------+--------------+--------------+------------------+\n",
      "\n"
     ]
    }
   ],
   "source": [
    "df.withColumn(\"upcoming_week_sale\",\n",
    "expr(\"lead(invoice_values ,1) over(partition by country order by week_number )\")).show()"
   ]
  },
  {
   "cell_type": "code",
   "execution_count": 27,
   "metadata": {},
   "outputs": [
    {
     "name": "stdout",
     "output_type": "stream",
     "text": [
      "+-----------+-----------+------------------+--------------+--------------+--------------+\n",
      "|    country|week_number|number_of_invoices|total_quantity|invoice_values|upcoming_sales|\n",
      "+-----------+-----------+------------------+--------------+--------------+--------------+\n",
      "|     France|         18|                 3|          1882|       9171.42|       9171.42|\n",
      "|     France|         18|                 2|          1673|       9171.42|       3987.62|\n",
      "|     France|         47|                 9|          1644|       3987.62|       3987.62|\n",
      "|     France|         47|                 8|          1456|       3987.62|          null|\n",
      "|    Germany|          2|                14|          1680|       6040.99|       6040.99|\n",
      "|    Germany|          2|                15|          1890|       6040.99|       5154.49|\n",
      "|    Germany|         25|                 5|          1169|       5154.49|       5154.49|\n",
      "|    Germany|         25|                 4|           987|       5154.49|       1383.78|\n",
      "|    Germany|         42|                18|          1719|       1383.78|       1383.78|\n",
      "|    Germany|         42|                17|          1532|       1383.78|          null|\n",
      "|Netherlands|         29|                 4|          1723|       3435.96|       3435.96|\n",
      "|Netherlands|         29|                 3|          1543|       3435.96|        103.78|\n",
      "|Netherlands|         49|                 5|            28|        103.78|        103.78|\n",
      "|Netherlands|         49|                 7|            42|        103.78|          null|\n",
      "|   Portugal|         22|                19|          1525|       4975.32|       4975.32|\n",
      "|   Portugal|         22|                18|          1230|       4975.32|          null|\n",
      "|      Spain|          4|                16|           730|       1909.05|       1909.05|\n",
      "|      Spain|          4|                15|           680|       1909.05|       2881.72|\n",
      "|      Spain|         49|                11|           657|       2881.72|       2881.72|\n",
      "|      Spain|         49|                10|           590|       2881.72|          null|\n",
      "+-----------+-----------+------------------+--------------+--------------+--------------+\n",
      "\n"
     ]
    }
   ],
   "source": [
    "spark.sql(\"\"\"\n",
    "          select *,\n",
    "          lead(invoice_values ,1) over(partition by country order by week_number ) as upcoming_sales\n",
    "          from dftable\n",
    "          \"\"\").show()"
   ]
  },
  {
   "cell_type": "code",
   "execution_count": 11,
   "metadata": {},
   "outputs": [
    {
     "name": "stdout",
     "output_type": "stream",
     "text": [
      "+-----------+-----------+------------------+--------------+--------------+------------------+-----------------+\n",
      "|    country|week_number|number_of_invoices|total_quantity|invoice_values|previous_week_sale|     invoice_diff|\n",
      "+-----------+-----------+------------------+--------------+--------------+------------------+-----------------+\n",
      "|     France|         18|                 3|          1882|       9171.42|              null|             null|\n",
      "|     France|         18|                 2|          1673|       9171.42|           9171.42|              0.0|\n",
      "|     France|         47|                 9|          1644|       3987.62|           9171.42|          -5183.8|\n",
      "|     France|         47|                 8|          1456|       3987.62|           3987.62|              0.0|\n",
      "|    Germany|          2|                14|          1680|       6040.99|              null|             null|\n",
      "|    Germany|          2|                15|          1890|       6040.99|           6040.99|              0.0|\n",
      "|    Germany|         25|                 5|          1169|       5154.49|           6040.99|           -886.5|\n",
      "|    Germany|         25|                 4|           987|       5154.49|           5154.49|              0.0|\n",
      "|    Germany|         42|                18|          1719|       1383.78|           5154.49|         -3770.71|\n",
      "|    Germany|         42|                17|          1532|       1383.78|           1383.78|              0.0|\n",
      "|Netherlands|         29|                 4|          1723|       3435.96|              null|             null|\n",
      "|Netherlands|         29|                 3|          1543|       3435.96|           3435.96|              0.0|\n",
      "|Netherlands|         49|                 5|            28|        103.78|           3435.96|         -3332.18|\n",
      "|Netherlands|         49|                 7|            42|        103.78|            103.78|              0.0|\n",
      "|   Portugal|         22|                19|          1525|       4975.32|              null|             null|\n",
      "|   Portugal|         22|                18|          1230|       4975.32|           4975.32|              0.0|\n",
      "|      Spain|          4|                16|           730|       1909.05|              null|             null|\n",
      "|      Spain|          4|                15|           680|       1909.05|           1909.05|              0.0|\n",
      "|      Spain|         49|                11|           657|       2881.72|           1909.05|972.6699999999998|\n",
      "|      Spain|         49|                10|           590|       2881.72|           2881.72|              0.0|\n",
      "+-----------+-----------+------------------+--------------+--------------+------------------+-----------------+\n",
      "\n"
     ]
    }
   ],
   "source": [
    "results1_df = df.withColumn(\"previous_week_sale\" , lag(\"invoice_values\" , 1).over(my_window))\n",
    "results2_df = results1_df.withColumn(\"invoice_diff\" , expr(\"invoice_values - previous_week_sale\"))\n",
    "results2_df.show()"
   ]
  },
  {
   "cell_type": "code",
   "execution_count": 29,
   "metadata": {},
   "outputs": [
    {
     "name": "stdout",
     "output_type": "stream",
     "text": [
      "+-----------+-----------+------------------+--------------+--------------+------------------+\n",
      "|    country|week_number|number_of_invoices|total_quantity|invoice_values|previous_week_sale|\n",
      "+-----------+-----------+------------------+--------------+--------------+------------------+\n",
      "|     France|         18|                 3|          1882|       9171.42|              null|\n",
      "|     France|         18|                 2|          1673|       9171.42|           9171.42|\n",
      "|     France|         47|                 9|          1644|       3987.62|           9171.42|\n",
      "|     France|         47|                 8|          1456|       3987.62|           3987.62|\n",
      "|    Germany|          2|                14|          1680|       6040.99|              null|\n",
      "|    Germany|          2|                15|          1890|       6040.99|           6040.99|\n",
      "|    Germany|         25|                 5|          1169|       5154.49|           6040.99|\n",
      "|    Germany|         25|                 4|           987|       5154.49|           5154.49|\n",
      "|    Germany|         42|                18|          1719|       1383.78|           5154.49|\n",
      "|    Germany|         42|                17|          1532|       1383.78|           1383.78|\n",
      "|Netherlands|         29|                 4|          1723|       3435.96|              null|\n",
      "|Netherlands|         29|                 3|          1543|       3435.96|           3435.96|\n",
      "|Netherlands|         49|                 5|            28|        103.78|           3435.96|\n",
      "|Netherlands|         49|                 7|            42|        103.78|            103.78|\n",
      "|   Portugal|         22|                19|          1525|       4975.32|              null|\n",
      "|   Portugal|         22|                18|          1230|       4975.32|           4975.32|\n",
      "|      Spain|          4|                16|           730|       1909.05|              null|\n",
      "|      Spain|          4|                15|           680|       1909.05|           1909.05|\n",
      "|      Spain|         49|                11|           657|       2881.72|           1909.05|\n",
      "|      Spain|         49|                10|           590|       2881.72|           2881.72|\n",
      "+-----------+-----------+------------------+--------------+--------------+------------------+\n",
      "\n"
     ]
    }
   ],
   "source": [
    "df.withColumn(\"previous_week_sale\",\n",
    "expr(\"lag(invoice_values ,1) over(partition by country order by week_number )\")).show()"
   ]
  },
  {
   "cell_type": "code",
   "execution_count": 30,
   "metadata": {},
   "outputs": [
    {
     "name": "stdout",
     "output_type": "stream",
     "text": [
      "+-----------+-----------+------------------+--------------+--------------+--------------+\n",
      "|    country|week_number|number_of_invoices|total_quantity|invoice_values|previous_sales|\n",
      "+-----------+-----------+------------------+--------------+--------------+--------------+\n",
      "|     France|         18|                 3|          1882|       9171.42|          null|\n",
      "|     France|         18|                 2|          1673|       9171.42|       9171.42|\n",
      "|     France|         47|                 9|          1644|       3987.62|       9171.42|\n",
      "|     France|         47|                 8|          1456|       3987.62|       3987.62|\n",
      "|    Germany|          2|                14|          1680|       6040.99|          null|\n",
      "|    Germany|          2|                15|          1890|       6040.99|       6040.99|\n",
      "|    Germany|         25|                 5|          1169|       5154.49|       6040.99|\n",
      "|    Germany|         25|                 4|           987|       5154.49|       5154.49|\n",
      "|    Germany|         42|                18|          1719|       1383.78|       5154.49|\n",
      "|    Germany|         42|                17|          1532|       1383.78|       1383.78|\n",
      "|Netherlands|         29|                 4|          1723|       3435.96|          null|\n",
      "|Netherlands|         29|                 3|          1543|       3435.96|       3435.96|\n",
      "|Netherlands|         49|                 5|            28|        103.78|       3435.96|\n",
      "|Netherlands|         49|                 7|            42|        103.78|        103.78|\n",
      "|   Portugal|         22|                19|          1525|       4975.32|          null|\n",
      "|   Portugal|         22|                18|          1230|       4975.32|       4975.32|\n",
      "|      Spain|          4|                16|           730|       1909.05|          null|\n",
      "|      Spain|          4|                15|           680|       1909.05|       1909.05|\n",
      "|      Spain|         49|                11|           657|       2881.72|       1909.05|\n",
      "|      Spain|         49|                10|           590|       2881.72|       2881.72|\n",
      "+-----------+-----------+------------------+--------------+--------------+--------------+\n",
      "\n"
     ]
    }
   ],
   "source": [
    "spark.sql(\"\"\"\n",
    "          select *,\n",
    "          lag(invoice_values ,1) over(partition by country order by week_number ) as previous_sales\n",
    "          from dftable\n",
    "          \"\"\").show()"
   ]
  },
  {
   "cell_type": "code",
   "execution_count": 12,
   "metadata": {},
   "outputs": [
    {
     "name": "stdout",
     "output_type": "stream",
     "text": [
      "+-----------+-----------+------------------+--------------+--------------+--------------+-----------------+\n",
      "|    country|week_number|number_of_invoices|total_quantity|invoice_values|next_week_sale|     invoice_diff|\n",
      "+-----------+-----------+------------------+--------------+--------------+--------------+-----------------+\n",
      "|     France|         18|                 3|          1882|       9171.42|       9171.42|              0.0|\n",
      "|     France|         18|                 2|          1673|       9171.42|       3987.62|          -5183.8|\n",
      "|     France|         47|                 9|          1644|       3987.62|       3987.62|              0.0|\n",
      "|     France|         47|                 8|          1456|       3987.62|          null|             null|\n",
      "|    Germany|          2|                14|          1680|       6040.99|       6040.99|              0.0|\n",
      "|    Germany|          2|                15|          1890|       6040.99|       5154.49|           -886.5|\n",
      "|    Germany|         25|                 5|          1169|       5154.49|       5154.49|              0.0|\n",
      "|    Germany|         25|                 4|           987|       5154.49|       1383.78|         -3770.71|\n",
      "|    Germany|         42|                18|          1719|       1383.78|       1383.78|              0.0|\n",
      "|    Germany|         42|                17|          1532|       1383.78|          null|             null|\n",
      "|Netherlands|         29|                 4|          1723|       3435.96|       3435.96|              0.0|\n",
      "|Netherlands|         29|                 3|          1543|       3435.96|        103.78|         -3332.18|\n",
      "|Netherlands|         49|                 5|            28|        103.78|        103.78|              0.0|\n",
      "|Netherlands|         49|                 7|            42|        103.78|          null|             null|\n",
      "|   Portugal|         22|                19|          1525|       4975.32|       4975.32|              0.0|\n",
      "|   Portugal|         22|                18|          1230|       4975.32|          null|             null|\n",
      "|      Spain|          4|                16|           730|       1909.05|       1909.05|              0.0|\n",
      "|      Spain|          4|                15|           680|       1909.05|       2881.72|972.6699999999998|\n",
      "|      Spain|         49|                11|           657|       2881.72|       2881.72|              0.0|\n",
      "|      Spain|         49|                10|           590|       2881.72|          null|             null|\n",
      "+-----------+-----------+------------------+--------------+--------------+--------------+-----------------+\n",
      "\n"
     ]
    }
   ],
   "source": [
    "results1_df = df.withColumn(\"next_week_sale\" , lead(\"invoice_values\" , 1).over(my_window))\n",
    "results2_df = results1_df.withColumn(\"invoice_diff\" , expr(\"next_week_sale - invoice_values\"))\n",
    "results2_df.show()"
   ]
  },
  {
   "cell_type": "code",
   "execution_count": 14,
   "metadata": {},
   "outputs": [
    {
     "name": "stdout",
     "output_type": "stream",
     "text": [
      "+-----------+-----------+------------------+--------------+--------------+-------------------+\n",
      "|    country|week_number|number_of_invoices|total_quantity|invoice_values|total_invoice_value|\n",
      "+-----------+-----------+------------------+--------------+--------------+-------------------+\n",
      "|     France|         18|                 3|          1882|       9171.42|           18342.84|\n",
      "|     France|         18|                 2|          1673|       9171.42|           18342.84|\n",
      "|     France|         47|                 9|          1644|       3987.62| 26318.079999999998|\n",
      "|     France|         47|                 8|          1456|       3987.62| 26318.079999999998|\n",
      "|    Germany|          2|                14|          1680|       6040.99|           12081.98|\n",
      "|    Germany|          2|                15|          1890|       6040.99|           12081.98|\n",
      "|    Germany|         25|                 5|          1169|       5154.49|           22390.96|\n",
      "|    Germany|         25|                 4|           987|       5154.49|           22390.96|\n",
      "|    Germany|         42|                18|          1719|       1383.78| 25158.519999999997|\n",
      "|    Germany|         42|                17|          1532|       1383.78| 25158.519999999997|\n",
      "|Netherlands|         29|                 4|          1723|       3435.96|            6871.92|\n",
      "|Netherlands|         29|                 3|          1543|       3435.96|            6871.92|\n",
      "|Netherlands|         49|                 5|            28|        103.78|            7079.48|\n",
      "|Netherlands|         49|                 7|            42|        103.78|            7079.48|\n",
      "|   Portugal|         22|                19|          1525|       4975.32|            9950.64|\n",
      "|   Portugal|         22|                18|          1230|       4975.32|            9950.64|\n",
      "|      Spain|          4|                16|           730|       1909.05|             3818.1|\n",
      "|      Spain|          4|                15|           680|       1909.05|             3818.1|\n",
      "|      Spain|         49|                11|           657|       2881.72|  9581.539999999999|\n",
      "|      Spain|         49|                10|           590|       2881.72|  9581.539999999999|\n",
      "+-----------+-----------+------------------+--------------+--------------+-------------------+\n",
      "\n"
     ]
    }
   ],
   "source": [
    "df.withColumn(\"total_invoice_value\" , sum(\"invoice_values\").over(my_window)).show()"
   ]
  }
 ],
 "metadata": {
  "kernelspec": {
   "display_name": "base",
   "language": "python",
   "name": "python3"
  },
  "language_info": {
   "codemirror_mode": {
    "name": "ipython",
    "version": 3
   },
   "file_extension": ".py",
   "mimetype": "text/x-python",
   "name": "python",
   "nbconvert_exporter": "python",
   "pygments_lexer": "ipython3",
   "version": "3.11.3"
  }
 },
 "nbformat": 4,
 "nbformat_minor": 2
}
