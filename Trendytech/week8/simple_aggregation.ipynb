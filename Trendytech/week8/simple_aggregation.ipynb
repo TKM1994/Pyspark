{
 "cells": [
  {
   "cell_type": "code",
   "execution_count": 5,
   "metadata": {},
   "outputs": [],
   "source": [
    "from pyspark.sql import SparkSession\n",
    "spark = SparkSession.builder.appName('simple aggregation').getOrCreate()"
   ]
  },
  {
   "cell_type": "code",
   "execution_count": 6,
   "metadata": {},
   "outputs": [],
   "source": [
    "walmart_df = spark.read.format('csv') \\\n",
    "    .option(\"inferSchema\",\"true\") \\\n",
    "        .option(\"header\",\"true\") \\\n",
    "            .load(r\"C:\\Users\\TARUN\\Desktop\\Pyspark\\Trendytech\\week8\\walmart\")"
   ]
  },
  {
   "cell_type": "code",
   "execution_count": 7,
   "metadata": {},
   "outputs": [
    {
     "name": "stdout",
     "output_type": "stream",
     "text": [
      "+---------+---------+--------+-----------+---------+----------+-------+\n",
      "|InvoiceNo|StockCode|Quantity|InvoiceDate|UnitPrice|CustomerId|Country|\n",
      "+---------+---------+--------+-----------+---------+----------+-------+\n",
      "|  INV0006|     A002|      15| 2023-01-02|    95.43|      1003| Canada|\n",
      "|  INV0007|     A005|       4| 2023-11-17|    30.55|      1005| Canada|\n",
      "|  INV0007|     A002|       5| 2023-07-11|    76.49|      1005| Canada|\n",
      "|  INV0008|     A005|      11| 2023-09-08|     2.93|      1003|Germany|\n",
      "|  INV0009|     A001|       8| 2023-10-18|    94.75|      1001| France|\n",
      "+---------+---------+--------+-----------+---------+----------+-------+\n",
      "only showing top 5 rows\n",
      "\n"
     ]
    }
   ],
   "source": [
    "walmart_df.show(5)"
   ]
  },
  {
   "cell_type": "code",
   "execution_count": 8,
   "metadata": {},
   "outputs": [
    {
     "name": "stdout",
     "output_type": "stream",
     "text": [
      "root\n",
      " |-- InvoiceNo: string (nullable = true)\n",
      " |-- StockCode: string (nullable = true)\n",
      " |-- Quantity: integer (nullable = true)\n",
      " |-- InvoiceDate: date (nullable = true)\n",
      " |-- UnitPrice: double (nullable = true)\n",
      " |-- CustomerId: integer (nullable = true)\n",
      " |-- Country: string (nullable = true)\n",
      "\n"
     ]
    }
   ],
   "source": [
    "walmart_df.printSchema()"
   ]
  },
  {
   "cell_type": "code",
   "execution_count": 10,
   "metadata": {},
   "outputs": [],
   "source": [
    "walmart_df.createOrReplaceTempView(\"walmart\")"
   ]
  },
  {
   "cell_type": "code",
   "execution_count": 11,
   "metadata": {},
   "outputs": [],
   "source": [
    "walmart_pdf = walmart_df.toPandas()"
   ]
  },
  {
   "cell_type": "code",
   "execution_count": 12,
   "metadata": {},
   "outputs": [
    {
     "data": {
      "text/html": [
       "<div>\n",
       "<style scoped>\n",
       "    .dataframe tbody tr th:only-of-type {\n",
       "        vertical-align: middle;\n",
       "    }\n",
       "\n",
       "    .dataframe tbody tr th {\n",
       "        vertical-align: top;\n",
       "    }\n",
       "\n",
       "    .dataframe thead th {\n",
       "        text-align: right;\n",
       "    }\n",
       "</style>\n",
       "<table border=\"1\" class=\"dataframe\">\n",
       "  <thead>\n",
       "    <tr style=\"text-align: right;\">\n",
       "      <th></th>\n",
       "      <th>InvoiceNo</th>\n",
       "      <th>StockCode</th>\n",
       "      <th>Quantity</th>\n",
       "      <th>InvoiceDate</th>\n",
       "      <th>UnitPrice</th>\n",
       "      <th>CustomerId</th>\n",
       "      <th>Country</th>\n",
       "    </tr>\n",
       "  </thead>\n",
       "  <tbody>\n",
       "    <tr>\n",
       "      <th>0</th>\n",
       "      <td>INV0006</td>\n",
       "      <td>A002</td>\n",
       "      <td>15</td>\n",
       "      <td>2023-01-02</td>\n",
       "      <td>95.43</td>\n",
       "      <td>1003</td>\n",
       "      <td>Canada</td>\n",
       "    </tr>\n",
       "    <tr>\n",
       "      <th>1</th>\n",
       "      <td>INV0007</td>\n",
       "      <td>A005</td>\n",
       "      <td>4</td>\n",
       "      <td>2023-11-17</td>\n",
       "      <td>30.55</td>\n",
       "      <td>1005</td>\n",
       "      <td>Canada</td>\n",
       "    </tr>\n",
       "    <tr>\n",
       "      <th>2</th>\n",
       "      <td>INV0007</td>\n",
       "      <td>A002</td>\n",
       "      <td>5</td>\n",
       "      <td>2023-07-11</td>\n",
       "      <td>76.49</td>\n",
       "      <td>1005</td>\n",
       "      <td>Canada</td>\n",
       "    </tr>\n",
       "    <tr>\n",
       "      <th>3</th>\n",
       "      <td>INV0008</td>\n",
       "      <td>A005</td>\n",
       "      <td>11</td>\n",
       "      <td>2023-09-08</td>\n",
       "      <td>2.93</td>\n",
       "      <td>1003</td>\n",
       "      <td>Germany</td>\n",
       "    </tr>\n",
       "    <tr>\n",
       "      <th>4</th>\n",
       "      <td>INV0009</td>\n",
       "      <td>A001</td>\n",
       "      <td>8</td>\n",
       "      <td>2023-10-18</td>\n",
       "      <td>94.75</td>\n",
       "      <td>1001</td>\n",
       "      <td>France</td>\n",
       "    </tr>\n",
       "  </tbody>\n",
       "</table>\n",
       "</div>"
      ],
      "text/plain": [
       "  InvoiceNo StockCode  Quantity InvoiceDate  UnitPrice  CustomerId  Country\n",
       "0   INV0006      A002        15  2023-01-02      95.43        1003   Canada\n",
       "1   INV0007      A005         4  2023-11-17      30.55        1005   Canada\n",
       "2   INV0007      A002         5  2023-07-11      76.49        1005   Canada\n",
       "3   INV0008      A005        11  2023-09-08       2.93        1003  Germany\n",
       "4   INV0009      A001         8  2023-10-18      94.75        1001   France"
      ]
     },
     "execution_count": 12,
     "metadata": {},
     "output_type": "execute_result"
    }
   ],
   "source": [
    "walmart_pdf.head()"
   ]
  },
  {
   "cell_type": "markdown",
   "metadata": {},
   "source": [
    "###### total row count,distinct invoice ,total quantity and avg unit price"
   ]
  },
  {
   "cell_type": "code",
   "execution_count": 15,
   "metadata": {},
   "outputs": [],
   "source": [
    "from pyspark.sql.functions import *"
   ]
  },
  {
   "cell_type": "code",
   "execution_count": 16,
   "metadata": {},
   "outputs": [
    {
     "name": "stdout",
     "output_type": "stream",
     "text": [
      "+---------+\n",
      "|row_count|\n",
      "+---------+\n",
      "|       29|\n",
      "+---------+\n",
      "\n"
     ]
    }
   ],
   "source": [
    "walmart_df.select(count(\"*\").alias(\"row_count\")).show()"
   ]
  },
  {
   "cell_type": "code",
   "execution_count": 18,
   "metadata": {},
   "outputs": [
    {
     "name": "stdout",
     "output_type": "stream",
     "text": [
      "+---------+\n",
      "|row_count|\n",
      "+---------+\n",
      "|       29|\n",
      "+---------+\n",
      "\n"
     ]
    }
   ],
   "source": [
    "walmart_df.select(expr(\"count(*) as row_count\")).show()"
   ]
  },
  {
   "cell_type": "code",
   "execution_count": 19,
   "metadata": {},
   "outputs": [
    {
     "name": "stdout",
     "output_type": "stream",
     "text": [
      "+---------+\n",
      "|row_count|\n",
      "+---------+\n",
      "|       29|\n",
      "+---------+\n",
      "\n"
     ]
    }
   ],
   "source": [
    "walmart_df.selectExpr(\"count(*) as row_count\").show()"
   ]
  },
  {
   "cell_type": "code",
   "execution_count": 20,
   "metadata": {},
   "outputs": [
    {
     "name": "stdout",
     "output_type": "stream",
     "text": [
      "+--------+\n",
      "|count(1)|\n",
      "+--------+\n",
      "|      29|\n",
      "+--------+\n",
      "\n"
     ]
    }
   ],
   "source": [
    "spark.sql(\"select count(*) from walmart\").show()"
   ]
  },
  {
   "cell_type": "code",
   "execution_count": 21,
   "metadata": {},
   "outputs": [
    {
     "data": {
      "text/plain": [
       "InvoiceNo      29\n",
       "StockCode      29\n",
       "Quantity       29\n",
       "InvoiceDate    29\n",
       "UnitPrice      29\n",
       "CustomerId     29\n",
       "Country        29\n",
       "dtype: int64"
      ]
     },
     "execution_count": 21,
     "metadata": {},
     "output_type": "execute_result"
    }
   ],
   "source": [
    "walmart_pdf.count()"
   ]
  },
  {
   "cell_type": "code",
   "execution_count": 25,
   "metadata": {},
   "outputs": [
    {
     "name": "stdout",
     "output_type": "stream",
     "text": [
      "+---------+----------+--------------+--------------+\n",
      "|row_count|CustomerId|total_quantity|avg_unit_price|\n",
      "+---------+----------+--------------+--------------+\n",
      "|       29|         5|           319|         48.53|\n",
      "+---------+----------+--------------+--------------+\n",
      "\n"
     ]
    }
   ],
   "source": [
    "walmart_df.select(\n",
    "                    count(\"*\").alias(\"row_count\"),\n",
    "                    countDistinct(\"CustomerId\").alias(\"CustomerId\"),\n",
    "                    sum(\"Quantity\").alias(\"total_quantity\"),\n",
    "                    round(avg(\"UnitPrice\"),2).alias(\"avg_unit_price\")\n",
    "                ).show()"
   ]
  },
  {
   "cell_type": "code",
   "execution_count": 45,
   "metadata": {},
   "outputs": [
    {
     "name": "stdout",
     "output_type": "stream",
     "text": [
      "+---------+------------+--------------+--------------+\n",
      "|row_count|distinct_cid|total_quantity|avg_unit_price|\n",
      "+---------+------------+--------------+--------------+\n",
      "|       29|           5|           319|         48.53|\n",
      "+---------+------------+--------------+--------------+\n",
      "\n"
     ]
    }
   ],
   "source": [
    "walmart_df.select(expr(\" count(*) as row_count\"),\n",
    "                  expr(\"count(distinct(CustomerId)) as distinct_cid\"),\n",
    "                  expr(\"sum(Quantity) as total_quantity\"),\n",
    "                  expr(\"round(avg(Unitprice),2) as avg_unit_price\")\n",
    "                  ).show()"
   ]
  },
  {
   "cell_type": "code",
   "execution_count": 46,
   "metadata": {},
   "outputs": [
    {
     "name": "stdout",
     "output_type": "stream",
     "text": [
      "+---------+------------+--------------+--------------+\n",
      "|row_count|distinct_cid|total_quantity|avg_unit_price|\n",
      "+---------+------------+--------------+--------------+\n",
      "|       29|           5|           319|         48.53|\n",
      "+---------+------------+--------------+--------------+\n",
      "\n"
     ]
    }
   ],
   "source": [
    "walmart_df.selectExpr(\" count(*) as row_count\",\n",
    "                    \"count(distinct(CustomerId)) as distinct_cid\",\n",
    "                    \"sum(Quantity) as total_quantity\",\n",
    "                    \"round(avg(Unitprice),2) as avg_unit_price\"\n",
    "                    ).show()"
   ]
  },
  {
   "cell_type": "code",
   "execution_count": 44,
   "metadata": {},
   "outputs": [
    {
     "name": "stdout",
     "output_type": "stream",
     "text": [
      "+---------+------------+--------------+--------------+\n",
      "|row_count|distinct_cid|total_quantity|avg_unit_price|\n",
      "+---------+------------+--------------+--------------+\n",
      "|       29|           5|           319|         48.53|\n",
      "+---------+------------+--------------+--------------+\n",
      "\n"
     ]
    }
   ],
   "source": [
    "spark.sql(\"select count(*) as row_count, \\\n",
    "                count(distinct(CustomerId)) as distinct_cid, \\\n",
    "                    sum(Quantity) as total_quantity, \\\n",
    "                        round(avg(Unitprice),2) as avg_unit_price \\\n",
    "                                        from walmart\").show()"
   ]
  },
  {
   "cell_type": "code",
   "execution_count": 47,
   "metadata": {},
   "outputs": [
    {
     "data": {
      "text/html": [
       "<div>\n",
       "<style scoped>\n",
       "    .dataframe tbody tr th:only-of-type {\n",
       "        vertical-align: middle;\n",
       "    }\n",
       "\n",
       "    .dataframe tbody tr th {\n",
       "        vertical-align: top;\n",
       "    }\n",
       "\n",
       "    .dataframe thead th {\n",
       "        text-align: right;\n",
       "    }\n",
       "</style>\n",
       "<table border=\"1\" class=\"dataframe\">\n",
       "  <thead>\n",
       "    <tr style=\"text-align: right;\">\n",
       "      <th></th>\n",
       "      <th>InvoiceNo</th>\n",
       "      <th>StockCode</th>\n",
       "      <th>Quantity</th>\n",
       "      <th>InvoiceDate</th>\n",
       "      <th>UnitPrice</th>\n",
       "      <th>CustomerId</th>\n",
       "      <th>Country</th>\n",
       "    </tr>\n",
       "  </thead>\n",
       "  <tbody>\n",
       "    <tr>\n",
       "      <th>0</th>\n",
       "      <td>INV0006</td>\n",
       "      <td>A002</td>\n",
       "      <td>15</td>\n",
       "      <td>2023-01-02</td>\n",
       "      <td>95.43</td>\n",
       "      <td>1003</td>\n",
       "      <td>Canada</td>\n",
       "    </tr>\n",
       "    <tr>\n",
       "      <th>1</th>\n",
       "      <td>INV0007</td>\n",
       "      <td>A005</td>\n",
       "      <td>4</td>\n",
       "      <td>2023-11-17</td>\n",
       "      <td>30.55</td>\n",
       "      <td>1005</td>\n",
       "      <td>Canada</td>\n",
       "    </tr>\n",
       "  </tbody>\n",
       "</table>\n",
       "</div>"
      ],
      "text/plain": [
       "  InvoiceNo StockCode  Quantity InvoiceDate  UnitPrice  CustomerId Country\n",
       "0   INV0006      A002        15  2023-01-02      95.43        1003  Canada\n",
       "1   INV0007      A005         4  2023-11-17      30.55        1005  Canada"
      ]
     },
     "execution_count": 47,
     "metadata": {},
     "output_type": "execute_result"
    }
   ],
   "source": [
    "walmart_pdf.head(2)"
   ]
  },
  {
   "cell_type": "code",
   "execution_count": 49,
   "metadata": {},
   "outputs": [
    {
     "name": "stdout",
     "output_type": "stream",
     "text": [
      "{'row_count': 29, 'distinct_cid': 5, 'total_quantity': 319, 'avg_unit_price': 48.52655172413793}\n"
     ]
    }
   ],
   "source": [
    "results = {\n",
    "    \"row_count\":len(walmart_pdf),\n",
    "    \"distinct_cid\":walmart_pdf[\"CustomerId\"].nunique(),\n",
    "    \"total_quantity\":walmart_pdf[\"Quantity\"].sum(),\n",
    "    \"avg_unit_price\":walmart_pdf[\"UnitPrice\"].mean()\n",
    "}\n",
    "\n",
    "print(results)"
   ]
  },
  {
   "cell_type": "code",
   "execution_count": 52,
   "metadata": {},
   "outputs": [],
   "source": [
    "spark.stop()"
   ]
  },
  {
   "cell_type": "code",
   "execution_count": null,
   "metadata": {},
   "outputs": [],
   "source": []
  }
 ],
 "metadata": {
  "kernelspec": {
   "display_name": "base",
   "language": "python",
   "name": "python3"
  },
  "language_info": {
   "name": "python",
   "version": "3.11.3"
  }
 },
 "nbformat": 4,
 "nbformat_minor": 2
}
