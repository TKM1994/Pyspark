{
 "cells": [
  {
   "cell_type": "markdown",
   "metadata": {},
   "source": [
    "## Import libraries and Creating SparkSession"
   ]
  },
  {
   "cell_type": "code",
   "execution_count": 1,
   "metadata": {},
   "outputs": [],
   "source": [
    "from pyspark.sql import SparkSession\n",
    "spark = SparkSession.builder.appName(\"Grouping Aggregation\").getOrCreate()"
   ]
  },
  {
   "cell_type": "code",
   "execution_count": 4,
   "metadata": {},
   "outputs": [],
   "source": [
    "from pyspark.sql.functions import *"
   ]
  },
  {
   "cell_type": "markdown",
   "metadata": {},
   "source": [
    "## Loading DataSets"
   ]
  },
  {
   "cell_type": "code",
   "execution_count": 2,
   "metadata": {},
   "outputs": [],
   "source": [
    "orders_df = spark.read.format(\"csv\").option(\"header\",\"true\").option(\"innferSchema\",\"true\") \\\n",
    "                .load(r\"C:\\Users\\TARUN\\Desktop\\Pyspark\\Trendytech\\week8\\walmart\")"
   ]
  },
  {
   "cell_type": "code",
   "execution_count": 3,
   "metadata": {},
   "outputs": [
    {
     "name": "stdout",
     "output_type": "stream",
     "text": [
      "+---------+---------+--------+-----------+---------+----------+-------+\n",
      "|InvoiceNo|StockCode|Quantity|InvoiceDate|UnitPrice|CustomerId|Country|\n",
      "+---------+---------+--------+-----------+---------+----------+-------+\n",
      "|  INV0006|     A002|      15| 2023-01-02|    95.43|      1003| Canada|\n",
      "|  INV0007|     A005|       4| 2023-11-17|    30.55|      1005| Canada|\n",
      "|  INV0007|     A002|       5| 2023-07-11|    76.49|      1005| Canada|\n",
      "+---------+---------+--------+-----------+---------+----------+-------+\n",
      "only showing top 3 rows\n",
      "\n"
     ]
    }
   ],
   "source": [
    "orders_df.show(3)"
   ]
  },
  {
   "cell_type": "markdown",
   "metadata": {},
   "source": [
    "## Programatic Way"
   ]
  },
  {
   "cell_type": "code",
   "execution_count": 7,
   "metadata": {},
   "outputs": [
    {
     "name": "stdout",
     "output_type": "stream",
     "text": [
      "+-------+---------+--------------+-------+\n",
      "|Country|InvoiceNo|total_quantity| amount|\n",
      "+-------+---------+--------------+-------+\n",
      "| Canada|  INV0010|          17.0| 729.13|\n",
      "| Canada|  INV0006|          15.0|1431.45|\n",
      "| Canada|  INV0009|          18.0| 246.78|\n",
      "| Canada|  INV0007|           9.0| 504.65|\n",
      "| Canada|  INV0004|           7.0| 192.01|\n",
      "| Canada|  INV0003|          13.0| 475.02|\n",
      "| Canada|  INV0001|           9.0|  207.9|\n",
      "| France|  INV0010|          10.0|  995.2|\n",
      "| France|  INV0009|           8.0|  758.0|\n",
      "| France|  INV0004|          10.0|  856.8|\n",
      "| France|  INV0003|           1.0|  20.68|\n",
      "| France|  INV0006|          29.0|1093.92|\n",
      "|Germany|  INV0008|          11.0|  32.23|\n",
      "|Germany|  INV0004|          33.0|1562.94|\n",
      "|Germany|  INV0005|          25.0| 831.24|\n",
      "|     UK|  INV0002|          14.0|   55.3|\n",
      "|     UK|  INV0003|          15.0|  428.1|\n",
      "|     UK|  INV0006|           3.0| 258.75|\n",
      "|     UK|  INV0005|          30.0|1984.84|\n",
      "|    USA|  INV0004|          20.0| 1163.2|\n",
      "+-------+---------+--------------+-------+\n",
      "only showing top 20 rows\n",
      "\n"
     ]
    }
   ],
   "source": [
    "orders_df \\\n",
    ".groupBy(\"Country\",\"InvoiceNo\") \\\n",
    ".agg(sum(\"Quantity\").alias(\"total_quantity\"),  round(sum(expr(\"Quantity * UnitPrice\")),2).alias(\"amount\")) \\\n",
    ".sort(\"Country\") \\\n",
    ".show()"
   ]
  },
  {
   "cell_type": "code",
   "execution_count": 23,
   "metadata": {},
   "outputs": [
    {
     "name": "stdout",
     "output_type": "stream",
     "text": [
      "+-------+---------+--------------+-------+\n",
      "|Country|InvoiceNo|total_quantity| amount|\n",
      "+-------+---------+--------------+-------+\n",
      "|    USA|  INV0004|          20.0| 1163.2|\n",
      "|    USA|  INV0003|          13.0| 288.47|\n",
      "|    USA|  INV0006|           9.0| 775.98|\n",
      "|     UK|  INV0002|          14.0|   55.3|\n",
      "|     UK|  INV0003|          15.0|  428.1|\n",
      "|     UK|  INV0006|           3.0| 258.75|\n",
      "|     UK|  INV0005|          30.0|1984.84|\n",
      "|Germany|  INV0008|          11.0|  32.23|\n",
      "|Germany|  INV0004|          33.0|1562.94|\n",
      "|Germany|  INV0005|          25.0| 831.24|\n",
      "| France|  INV0010|          10.0|  995.2|\n",
      "| France|  INV0009|           8.0|  758.0|\n",
      "| France|  INV0004|          10.0|  856.8|\n",
      "| France|  INV0003|           1.0|  20.68|\n",
      "| France|  INV0006|          29.0|1093.92|\n",
      "| Canada|  INV0010|          17.0| 729.13|\n",
      "| Canada|  INV0006|          15.0|1431.45|\n",
      "| Canada|  INV0009|          18.0| 246.78|\n",
      "| Canada|  INV0007|           9.0| 504.65|\n",
      "| Canada|  INV0004|           7.0| 192.01|\n",
      "+-------+---------+--------------+-------+\n",
      "only showing top 20 rows\n",
      "\n"
     ]
    }
   ],
   "source": [
    "orders_df \\\n",
    ".groupBy(\"Country\",\"InvoiceNo\") \\\n",
    ".agg(sum(\"Quantity\").alias(\"total_quantity\"),  round(sum(expr(\"Quantity * UnitPrice\")),2).alias(\"amount\")) \\\n",
    ".sort(col(\"Country\").desc()) \\\n",
    ".show()"
   ]
  },
  {
   "cell_type": "code",
   "execution_count": 24,
   "metadata": {},
   "outputs": [
    {
     "name": "stdout",
     "output_type": "stream",
     "text": [
      "+-------+---------+-------+--------------+\n",
      "|Country|InvoiceNo| amount|total_quantity|\n",
      "+-------+---------+-------+--------------+\n",
      "|    USA|  INV0004| 1163.2|          20.0|\n",
      "|    USA|  INV0003| 288.47|          13.0|\n",
      "|    USA|  INV0006| 775.98|           9.0|\n",
      "|     UK|  INV0002|   55.3|          14.0|\n",
      "|     UK|  INV0003|  428.1|          15.0|\n",
      "|     UK|  INV0006| 258.75|           3.0|\n",
      "|     UK|  INV0005|1984.84|          30.0|\n",
      "|Germany|  INV0008|  32.23|          11.0|\n",
      "|Germany|  INV0004|1562.94|          33.0|\n",
      "|Germany|  INV0005| 831.24|          25.0|\n",
      "| France|  INV0010|  995.2|          10.0|\n",
      "| France|  INV0009|  758.0|           8.0|\n",
      "| France|  INV0004|  856.8|          10.0|\n",
      "| France|  INV0003|  20.68|           1.0|\n",
      "| France|  INV0006|1093.92|          29.0|\n",
      "| Canada|  INV0010| 729.13|          17.0|\n",
      "| Canada|  INV0006|1431.45|          15.0|\n",
      "| Canada|  INV0009| 246.78|          18.0|\n",
      "| Canada|  INV0007| 504.65|           9.0|\n",
      "| Canada|  INV0004| 192.01|           7.0|\n",
      "+-------+---------+-------+--------------+\n",
      "only showing top 20 rows\n",
      "\n"
     ]
    }
   ],
   "source": [
    "orders_df \\\n",
    ".groupBy(\"Country\",\"InvoiceNo\") \\\n",
    ".agg(sum(\"Quantity\").alias(\"total_quantity\"),  round(sum(expr(\"Quantity * UnitPrice\")),2).alias(\"amount\")) \\\n",
    ".sort(col(\"Country\").desc()) \\\n",
    ".select(\"Country\",\"InvoiceNo\",\"amount\",\"total_quantity\") \\\n",
    ".show()"
   ]
  },
  {
   "cell_type": "markdown",
   "metadata": {},
   "source": [
    "## Expr Way"
   ]
  },
  {
   "cell_type": "code",
   "execution_count": 9,
   "metadata": {},
   "outputs": [
    {
     "name": "stdout",
     "output_type": "stream",
     "text": [
      "+-------+---------+--------------+-------+\n",
      "|Country|InvoiceNo|total_quantity| amount|\n",
      "+-------+---------+--------------+-------+\n",
      "| Canada|  INV0010|          17.0| 729.13|\n",
      "| Canada|  INV0006|          15.0|1431.45|\n",
      "| Canada|  INV0009|          18.0| 246.78|\n",
      "| Canada|  INV0007|           9.0| 504.65|\n",
      "| Canada|  INV0004|           7.0| 192.01|\n",
      "| Canada|  INV0003|          13.0| 475.02|\n",
      "| Canada|  INV0001|           9.0|  207.9|\n",
      "| France|  INV0010|          10.0|  995.2|\n",
      "| France|  INV0009|           8.0|  758.0|\n",
      "| France|  INV0004|          10.0|  856.8|\n",
      "| France|  INV0003|           1.0|  20.68|\n",
      "| France|  INV0006|          29.0|1093.92|\n",
      "|Germany|  INV0008|          11.0|  32.23|\n",
      "|Germany|  INV0004|          33.0|1562.94|\n",
      "|Germany|  INV0005|          25.0| 831.24|\n",
      "|     UK|  INV0002|          14.0|   55.3|\n",
      "|     UK|  INV0003|          15.0|  428.1|\n",
      "|     UK|  INV0006|           3.0| 258.75|\n",
      "|     UK|  INV0005|          30.0|1984.84|\n",
      "|    USA|  INV0004|          20.0| 1163.2|\n",
      "+-------+---------+--------------+-------+\n",
      "only showing top 20 rows\n",
      "\n"
     ]
    }
   ],
   "source": [
    "orders_df \\\n",
    ".groupBy(\"Country\",\"InvoiceNo\") \\\n",
    ".agg(expr(\"sum(Quantity) as total_quantity\"), expr(\"round(sum(Quantity * UnitPrice),2) as amount\")) \\\n",
    ".sort(\"Country\") \\\n",
    ".show()"
   ]
  },
  {
   "cell_type": "code",
   "execution_count": 17,
   "metadata": {},
   "outputs": [
    {
     "name": "stdout",
     "output_type": "stream",
     "text": [
      "+-------+---------+--------------+-------+\n",
      "|Country|InvoiceNo|total_quantity| amount|\n",
      "+-------+---------+--------------+-------+\n",
      "|    USA|  INV0004|          20.0| 1163.2|\n",
      "|    USA|  INV0003|          13.0| 288.47|\n",
      "|    USA|  INV0006|           9.0| 775.98|\n",
      "|     UK|  INV0002|          14.0|   55.3|\n",
      "|     UK|  INV0003|          15.0|  428.1|\n",
      "|     UK|  INV0006|           3.0| 258.75|\n",
      "|     UK|  INV0005|          30.0|1984.84|\n",
      "|Germany|  INV0008|          11.0|  32.23|\n",
      "|Germany|  INV0004|          33.0|1562.94|\n",
      "|Germany|  INV0005|          25.0| 831.24|\n",
      "| France|  INV0010|          10.0|  995.2|\n",
      "| France|  INV0009|           8.0|  758.0|\n",
      "| France|  INV0004|          10.0|  856.8|\n",
      "| France|  INV0003|           1.0|  20.68|\n",
      "| France|  INV0006|          29.0|1093.92|\n",
      "| Canada|  INV0010|          17.0| 729.13|\n",
      "| Canada|  INV0006|          15.0|1431.45|\n",
      "| Canada|  INV0009|          18.0| 246.78|\n",
      "| Canada|  INV0007|           9.0| 504.65|\n",
      "| Canada|  INV0004|           7.0| 192.01|\n",
      "+-------+---------+--------------+-------+\n",
      "only showing top 20 rows\n",
      "\n"
     ]
    }
   ],
   "source": [
    "orders_df \\\n",
    ".groupBy(\"Country\",\"InvoiceNo\") \\\n",
    ".agg(expr(\"sum(Quantity) as total_quantity\"), expr(\"round(sum(Quantity * UnitPrice),2) as amount\")) \\\n",
    ".sort(col(\"Country\").desc()) \\\n",
    ".show()"
   ]
  },
  {
   "cell_type": "code",
   "execution_count": 18,
   "metadata": {},
   "outputs": [
    {
     "name": "stdout",
     "output_type": "stream",
     "text": [
      "+-------+---------+--------------+-------+\n",
      "|Country|InvoiceNo|total_quantity| amount|\n",
      "+-------+---------+--------------+-------+\n",
      "|    USA|  INV0004|          20.0| 1163.2|\n",
      "|    USA|  INV0003|          13.0| 288.47|\n",
      "|    USA|  INV0006|           9.0| 775.98|\n",
      "|     UK|  INV0002|          14.0|   55.3|\n",
      "|     UK|  INV0003|          15.0|  428.1|\n",
      "|     UK|  INV0006|           3.0| 258.75|\n",
      "|     UK|  INV0005|          30.0|1984.84|\n",
      "|Germany|  INV0008|          11.0|  32.23|\n",
      "|Germany|  INV0004|          33.0|1562.94|\n",
      "|Germany|  INV0005|          25.0| 831.24|\n",
      "| France|  INV0010|          10.0|  995.2|\n",
      "| France|  INV0009|           8.0|  758.0|\n",
      "| France|  INV0004|          10.0|  856.8|\n",
      "| France|  INV0003|           1.0|  20.68|\n",
      "| France|  INV0006|          29.0|1093.92|\n",
      "| Canada|  INV0010|          17.0| 729.13|\n",
      "| Canada|  INV0006|          15.0|1431.45|\n",
      "| Canada|  INV0009|          18.0| 246.78|\n",
      "| Canada|  INV0007|           9.0| 504.65|\n",
      "| Canada|  INV0004|           7.0| 192.01|\n",
      "+-------+---------+--------------+-------+\n",
      "only showing top 20 rows\n",
      "\n"
     ]
    }
   ],
   "source": [
    "orders_df \\\n",
    ".groupBy(\"Country\",\"InvoiceNo\") \\\n",
    ".agg(expr(\"sum(Quantity) as total_quantity\"), expr(\"round(sum(Quantity * UnitPrice),2) as amount\")) \\\n",
    ".orderBy(col(\"Country\").desc()) \\\n",
    ".show()"
   ]
  },
  {
   "cell_type": "code",
   "execution_count": 25,
   "metadata": {},
   "outputs": [
    {
     "name": "stdout",
     "output_type": "stream",
     "text": [
      "+-------+---------+-------+--------------+\n",
      "|Country|InvoiceNo| amount|total_quantity|\n",
      "+-------+---------+-------+--------------+\n",
      "|    USA|  INV0004| 1163.2|          20.0|\n",
      "|    USA|  INV0003| 288.47|          13.0|\n",
      "|    USA|  INV0006| 775.98|           9.0|\n",
      "|     UK|  INV0002|   55.3|          14.0|\n",
      "|     UK|  INV0003|  428.1|          15.0|\n",
      "|     UK|  INV0006| 258.75|           3.0|\n",
      "|     UK|  INV0005|1984.84|          30.0|\n",
      "|Germany|  INV0008|  32.23|          11.0|\n",
      "|Germany|  INV0004|1562.94|          33.0|\n",
      "|Germany|  INV0005| 831.24|          25.0|\n",
      "| France|  INV0010|  995.2|          10.0|\n",
      "| France|  INV0009|  758.0|           8.0|\n",
      "| France|  INV0004|  856.8|          10.0|\n",
      "| France|  INV0003|  20.68|           1.0|\n",
      "| France|  INV0006|1093.92|          29.0|\n",
      "| Canada|  INV0010| 729.13|          17.0|\n",
      "| Canada|  INV0006|1431.45|          15.0|\n",
      "| Canada|  INV0009| 246.78|          18.0|\n",
      "| Canada|  INV0007| 504.65|           9.0|\n",
      "| Canada|  INV0004| 192.01|           7.0|\n",
      "+-------+---------+-------+--------------+\n",
      "only showing top 20 rows\n",
      "\n"
     ]
    }
   ],
   "source": [
    "\n",
    "orders_df \\\n",
    ".groupBy(\"Country\",\"InvoiceNo\") \\\n",
    ".agg(expr(\"sum(Quantity) as total_quantity\"), expr(\"round(sum(Quantity * UnitPrice),2) as amount\")) \\\n",
    ".orderBy(col(\"Country\").desc()) \\\n",
    ".select(\"Country\",\"InvoiceNo\",\"amount\",\"total_quantity\") \\\n",
    ".show()"
   ]
  },
  {
   "cell_type": "markdown",
   "metadata": {},
   "source": [
    "## SQL Way"
   ]
  },
  {
   "cell_type": "code",
   "execution_count": 10,
   "metadata": {},
   "outputs": [],
   "source": [
    "orders_df.createOrReplaceTempView(\"orders\")"
   ]
  },
  {
   "cell_type": "code",
   "execution_count": 13,
   "metadata": {},
   "outputs": [
    {
     "name": "stdout",
     "output_type": "stream",
     "text": [
      "+-------+---------+--------------+-------+\n",
      "|Country|InvoiceNo|total_quantity| amount|\n",
      "+-------+---------+--------------+-------+\n",
      "| Canada|  INV0010|          17.0| 729.13|\n",
      "| Canada|  INV0006|          15.0|1431.45|\n",
      "| Canada|  INV0009|          18.0| 246.78|\n",
      "| Canada|  INV0007|           9.0| 504.65|\n",
      "| Canada|  INV0004|           7.0| 192.01|\n",
      "| Canada|  INV0003|          13.0| 475.02|\n",
      "| Canada|  INV0001|           9.0|  207.9|\n",
      "| France|  INV0010|          10.0|  995.2|\n",
      "| France|  INV0009|           8.0|  758.0|\n",
      "| France|  INV0004|          10.0|  856.8|\n",
      "| France|  INV0003|           1.0|  20.68|\n",
      "| France|  INV0006|          29.0|1093.92|\n",
      "|Germany|  INV0008|          11.0|  32.23|\n",
      "|Germany|  INV0004|          33.0|1562.94|\n",
      "|Germany|  INV0005|          25.0| 831.24|\n",
      "|     UK|  INV0002|          14.0|   55.3|\n",
      "|     UK|  INV0003|          15.0|  428.1|\n",
      "|     UK|  INV0006|           3.0| 258.75|\n",
      "|     UK|  INV0005|          30.0|1984.84|\n",
      "|    USA|  INV0004|          20.0| 1163.2|\n",
      "+-------+---------+--------------+-------+\n",
      "only showing top 20 rows\n",
      "\n"
     ]
    }
   ],
   "source": [
    "spark.sql(\"\"\"\n",
    "          select Country ,\n",
    "          InvoiceNo,\n",
    "          sum(Quantity) as total_quantity,\n",
    "          round(sum(Quantity*UnitPrice),2) as amount\n",
    "          from orders\n",
    "          group by Country,InvoiceNo\n",
    "          order by Country asc\n",
    "          \"\"\") \\\n",
    "    .show()"
   ]
  },
  {
   "cell_type": "code",
   "execution_count": 31,
   "metadata": {},
   "outputs": [
    {
     "name": "stdout",
     "output_type": "stream",
     "text": [
      "+-------+---------+--------------+-------+\n",
      "|Country|InvoiceNo|total_quantity| amount|\n",
      "+-------+---------+--------------+-------+\n",
      "|     UK|  INV0002|          14.0|   55.3|\n",
      "|     UK|  INV0003|          15.0|  428.1|\n",
      "|     UK|  INV0005|          30.0|1984.84|\n",
      "+-------+---------+--------------+-------+\n",
      "\n"
     ]
    }
   ],
   "source": [
    "spark.sql(\"\"\"\n",
    "          with cte as(\n",
    "                    select Country ,\n",
    "                    InvoiceNo,\n",
    "                    sum(Quantity) as total_quantity,\n",
    "                    round(sum(Quantity*UnitPrice),2) as amount\n",
    "                    from orders\n",
    "                    group by Country,InvoiceNo\n",
    "                    order by Country asc\n",
    "                      ),\n",
    "              cte1 as(\n",
    "                  select * from cte where Country = 'UK'\n",
    "                      )\n",
    "          select * from cte1 where total_quantity > 3.0\n",
    "          \n",
    "          \"\"\") \\\n",
    "    .show()"
   ]
  },
  {
   "cell_type": "code",
   "execution_count": null,
   "metadata": {},
   "outputs": [],
   "source": []
  }
 ],
 "metadata": {
  "kernelspec": {
   "display_name": "base",
   "language": "python",
   "name": "python3"
  },
  "language_info": {
   "codemirror_mode": {
    "name": "ipython",
    "version": 3
   },
   "file_extension": ".py",
   "mimetype": "text/x-python",
   "name": "python",
   "nbconvert_exporter": "python",
   "pygments_lexer": "ipython3",
   "version": "3.11.3"
  }
 },
 "nbformat": 4,
 "nbformat_minor": 2
}
