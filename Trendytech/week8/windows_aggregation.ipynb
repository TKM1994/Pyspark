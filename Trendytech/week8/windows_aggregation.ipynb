{
 "cells": [
  {
   "cell_type": "markdown",
   "metadata": {},
   "source": [
    "## usual"
   ]
  },
  {
   "cell_type": "code",
   "execution_count": 1,
   "metadata": {},
   "outputs": [],
   "source": [
    "from pyspark.sql import SparkSession\n",
    "spark = SparkSession.builder.appName(\"windows_aggregation\").getOrCreate()"
   ]
  },
  {
   "cell_type": "code",
   "execution_count": 2,
   "metadata": {},
   "outputs": [
    {
     "name": "stdout",
     "output_type": "stream",
     "text": [
      "+-----------+-----------+------------------+--------------+--------------+\n",
      "|    country|week_number|number_of_invoices|total_quantity|invoice_values|\n",
      "+-----------+-----------+------------------+--------------+--------------+\n",
      "|Netherlands|         26|                13|          1105|       1695.64|\n",
      "|      Spain|         47|                17|           924|       3397.66|\n",
      "|    Germany|         33|                 9|            46|        229.47|\n",
      "+-----------+-----------+------------------+--------------+--------------+\n",
      "only showing top 3 rows\n",
      "\n"
     ]
    }
   ],
   "source": [
    "df = spark.read.format(\"csv\").option(\"header\",\"true\").option(\"inferSchema\",\"true\") \\\n",
    "    .load(r\"C:\\Users\\TARUN\\Desktop\\Pyspark\\Trendytech\\week8\\window\")\n",
    "    \n",
    "df.show(3)"
   ]
  },
  {
   "cell_type": "code",
   "execution_count": 4,
   "metadata": {},
   "outputs": [
    {
     "name": "stdout",
     "output_type": "stream",
     "text": [
      "root\n",
      " |-- country: string (nullable = true)\n",
      " |-- week_number: integer (nullable = true)\n",
      " |-- number_of_invoices: integer (nullable = true)\n",
      " |-- total_quantity: integer (nullable = true)\n",
      " |-- invoice_values: double (nullable = true)\n",
      "\n"
     ]
    }
   ],
   "source": [
    "df.printSchema()"
   ]
  },
  {
   "cell_type": "code",
   "execution_count": 12,
   "metadata": {},
   "outputs": [],
   "source": [
    "df.createOrReplaceTempView(\"df_table\")"
   ]
  },
  {
   "cell_type": "code",
   "execution_count": 7,
   "metadata": {},
   "outputs": [],
   "source": [
    "# running Sum\n",
    "from pyspark.sql import Window\n",
    "from pyspark.sql.functions import *"
   ]
  },
  {
   "cell_type": "markdown",
   "metadata": {},
   "source": [
    "## windows programming"
   ]
  },
  {
   "cell_type": "code",
   "execution_count": 10,
   "metadata": {},
   "outputs": [
    {
     "name": "stdout",
     "output_type": "stream",
     "text": [
      "+-------+-----------+------------------+--------------+--------------+-------------+\n",
      "|country|week_number|number_of_invoices|total_quantity|invoice_values|running_total|\n",
      "+-------+-----------+------------------+--------------+--------------+-------------+\n",
      "| France|          3|                17|          1424|       6539.15|       6539.0|\n",
      "| France|          3|                 4|           470|        307.28|       6846.0|\n",
      "| France|          6|                14|           320|       1595.44|       8442.0|\n",
      "| France|          7|                14|           899|        3877.5|      12319.0|\n",
      "| France|         12|                 4|          1661|       7977.64|      20297.0|\n",
      "| France|         15|                14|          1584|       3020.55|      23318.0|\n",
      "| France|         17|                 2|           179|        468.48|      23786.0|\n",
      "| France|         18|                11|           428|       1599.14|      25385.0|\n",
      "| France|         18|                 3|          1882|       9171.42|      34557.0|\n",
      "| France|         18|                16|           780|        716.96|      35274.0|\n",
      "| France|         21|                19|          1510|       6432.08|      41706.0|\n",
      "| France|         23|                16|           151|        304.81|      42010.0|\n",
      "| France|         24|                 3|          1399|       4738.12|      46749.0|\n",
      "| France|         25|                 7|            71|        238.38|      46987.0|\n",
      "| France|         26|                 7|          1652|       5358.37|      52345.0|\n",
      "| France|         27|                14|          1127|       2185.71|      54531.0|\n",
      "| France|         27|                18|           523|       1524.91|      56056.0|\n",
      "| France|         30|                12|           686|       1802.55|      57858.0|\n",
      "| France|         30|                 3|          1784|       2716.07|      60575.0|\n",
      "| France|         31|                11|          1452|       7115.88|      67690.0|\n",
      "+-------+-----------+------------------+--------------+--------------+-------------+\n",
      "only showing top 20 rows\n",
      "\n"
     ]
    }
   ],
   "source": [
    "my_window1 = Window.partitionBy(\"Country\") \\\n",
    "                    .orderBy(col(\"week_number\").asc()) \\\n",
    "                    .rowsBetween(Window.unboundedPreceding , Window.currentRow)\n",
    "                    \n",
    "df.withColumn(  \"running_total\" , round(sum(\"invoice_values\").over(my_window1)) ).show()"
   ]
  },
  {
   "cell_type": "code",
   "execution_count": 16,
   "metadata": {},
   "outputs": [
    {
     "name": "stdout",
     "output_type": "stream",
     "text": [
      "+-------+-----------+------------------+--------------+--------------+-------------+\n",
      "|country|week_number|number_of_invoices|total_quantity|invoice_values|running_total|\n",
      "+-------+-----------+------------------+--------------+--------------+-------------+\n",
      "| France|          3|                17|          1424|       6539.15|       6846.0|\n",
      "| France|          3|                 4|           470|        307.28|       6846.0|\n",
      "| France|          6|                14|           320|       1595.44|       8442.0|\n",
      "| France|          7|                14|           899|        3877.5|      12319.0|\n",
      "| France|         12|                 4|          1661|       7977.64|      20297.0|\n",
      "| France|         15|                14|          1584|       3020.55|      23318.0|\n",
      "| France|         17|                 2|           179|        468.48|      23786.0|\n",
      "| France|         18|                11|           428|       1599.14|      35274.0|\n",
      "| France|         18|                 3|          1882|       9171.42|      35274.0|\n",
      "| France|         18|                16|           780|        716.96|      35274.0|\n",
      "| France|         21|                19|          1510|       6432.08|      41706.0|\n",
      "| France|         23|                16|           151|        304.81|      42010.0|\n",
      "| France|         24|                 3|          1399|       4738.12|      46749.0|\n",
      "| France|         25|                 7|            71|        238.38|      46987.0|\n",
      "| France|         26|                 7|          1652|       5358.37|      52345.0|\n",
      "| France|         27|                14|          1127|       2185.71|      56056.0|\n",
      "| France|         27|                18|           523|       1524.91|      56056.0|\n",
      "| France|         30|                12|           686|       1802.55|      60575.0|\n",
      "| France|         30|                 3|          1784|       2716.07|      60575.0|\n",
      "| France|         31|                11|          1452|       7115.88|      67690.0|\n",
      "+-------+-----------+------------------+--------------+--------------+-------------+\n",
      "only showing top 20 rows\n",
      "\n"
     ]
    }
   ],
   "source": [
    "my_window1 = Window.partitionBy(\"Country\") \\\n",
    "                    .orderBy(col(\"week_number\").asc()) \\\n",
    "                    \n",
    "df.withColumn(  \"running_total\" , round(sum(\"invoice_values\").over(my_window1)) ).show()"
   ]
  },
  {
   "cell_type": "markdown",
   "metadata": {},
   "source": [
    "## windows SQL"
   ]
  },
  {
   "cell_type": "code",
   "execution_count": 15,
   "metadata": {},
   "outputs": [
    {
     "name": "stdout",
     "output_type": "stream",
     "text": [
      "+-------+-----------+------------------+--------------+--------------+-----------+\n",
      "|country|week_number|number_of_invoices|total_quantity|invoice_values|running_sum|\n",
      "+-------+-----------+------------------+--------------+--------------+-----------+\n",
      "| France|         52|                 4|          1511|        950.36|      950.0|\n",
      "| France|         51|                 4|           592|       2905.93|     3856.0|\n",
      "| France|         48|                 4|           977|       2260.87|     6117.0|\n",
      "| France|         47|                 9|          1644|       3987.62|    10105.0|\n",
      "| France|         47|                 2|          1907|        968.93|    11074.0|\n",
      "| France|         47|                 7|          1240|        720.77|    11794.0|\n",
      "| France|         45|                13|           107|         55.98|    11850.0|\n",
      "| France|         45|                17|           663|        737.53|    12588.0|\n",
      "| France|         42|                 1|           428|       1558.82|    14147.0|\n",
      "| France|         36|                17|           120|        576.86|    14724.0|\n",
      "| France|         35|                18|          1137|       1957.27|    16681.0|\n",
      "| France|         34|                17|          1949|        3869.9|    20551.0|\n",
      "| France|         31|                11|          1452|       7115.88|    27667.0|\n",
      "| France|         30|                12|           686|       1802.55|    29469.0|\n",
      "| France|         30|                 3|          1784|       2716.07|    32185.0|\n",
      "| France|         27|                14|          1127|       2185.71|    34371.0|\n",
      "| France|         27|                18|           523|       1524.91|    35896.0|\n",
      "| France|         26|                 7|          1652|       5358.37|    41254.0|\n",
      "| France|         25|                 7|            71|        238.38|    41493.0|\n",
      "| France|         24|                 3|          1399|       4738.12|    46231.0|\n",
      "+-------+-----------+------------------+--------------+--------------+-----------+\n",
      "only showing top 20 rows\n",
      "\n"
     ]
    }
   ],
   "source": [
    "spark.sql(\"\"\"\n",
    "    select *,\n",
    "    round(\n",
    "    sum(invoice_values)\n",
    "    over(partition by country order by week_number desc rows between unbounded preceding and current row ))\n",
    "    as running_sum\n",
    "    from df_table\n",
    "          \"\"\").show()"
   ]
  },
  {
   "cell_type": "code",
   "execution_count": 17,
   "metadata": {},
   "outputs": [
    {
     "name": "stdout",
     "output_type": "stream",
     "text": [
      "+-------+-----------+------------------+--------------+--------------+-----------+\n",
      "|country|week_number|number_of_invoices|total_quantity|invoice_values|running_sum|\n",
      "+-------+-----------+------------------+--------------+--------------+-----------+\n",
      "| France|         52|                 4|          1511|        950.36|      950.0|\n",
      "| France|         51|                 4|           592|       2905.93|     3856.0|\n",
      "| France|         48|                 4|           977|       2260.87|     6117.0|\n",
      "| France|         47|                 9|          1644|       3987.62|    11794.0|\n",
      "| France|         47|                 2|          1907|        968.93|    11794.0|\n",
      "| France|         47|                 7|          1240|        720.77|    11794.0|\n",
      "| France|         45|                13|           107|         55.98|    12588.0|\n",
      "| France|         45|                17|           663|        737.53|    12588.0|\n",
      "| France|         42|                 1|           428|       1558.82|    14147.0|\n",
      "| France|         36|                17|           120|        576.86|    14724.0|\n",
      "| France|         35|                18|          1137|       1957.27|    16681.0|\n",
      "| France|         34|                17|          1949|        3869.9|    20551.0|\n",
      "| France|         31|                11|          1452|       7115.88|    27667.0|\n",
      "| France|         30|                12|           686|       1802.55|    32185.0|\n",
      "| France|         30|                 3|          1784|       2716.07|    32185.0|\n",
      "| France|         27|                14|          1127|       2185.71|    35896.0|\n",
      "| France|         27|                18|           523|       1524.91|    35896.0|\n",
      "| France|         26|                 7|          1652|       5358.37|    41254.0|\n",
      "| France|         25|                 7|            71|        238.38|    41493.0|\n",
      "| France|         24|                 3|          1399|       4738.12|    46231.0|\n",
      "+-------+-----------+------------------+--------------+--------------+-----------+\n",
      "only showing top 20 rows\n",
      "\n"
     ]
    }
   ],
   "source": [
    "spark.sql(\"\"\"\n",
    "    select *,\n",
    "    round(\n",
    "    sum(invoice_values)\n",
    "    over(partition by country order by week_number desc  ))\n",
    "    as running_sum\n",
    "    from df_table\n",
    "          \"\"\").show()"
   ]
  },
  {
   "cell_type": "markdown",
   "metadata": {},
   "source": [
    "## windows programming variety"
   ]
  },
  {
   "cell_type": "markdown",
   "metadata": {},
   "source": [
    "####### always remember frame is pointed to current row and we have to play accordingly in rows between ()function\n",
    "by default it is unbounded preceeding and current row"
   ]
  },
  {
   "cell_type": "code",
   "execution_count": 18,
   "metadata": {},
   "outputs": [
    {
     "name": "stdout",
     "output_type": "stream",
     "text": [
      "+-------+-----------+------------------+--------------+--------------+-------------+\n",
      "|country|week_number|number_of_invoices|total_quantity|invoice_values|running_total|\n",
      "+-------+-----------+------------------+--------------+--------------+-------------+\n",
      "| France|          3|                17|          1424|       6539.15|       6539.0|\n",
      "| France|          3|                 4|           470|        307.28|       6846.0|\n",
      "| France|          6|                14|           320|       1595.44|       8442.0|\n",
      "| France|          7|                14|           899|        3877.5|      12319.0|\n",
      "| France|         12|                 4|          1661|       7977.64|      13758.0|\n",
      "| France|         15|                14|          1584|       3020.55|      16471.0|\n",
      "| France|         17|                 2|           179|        468.48|      15344.0|\n",
      "| France|         18|                11|           428|       1599.14|      13066.0|\n",
      "| France|         18|                 3|          1882|       9171.42|      14260.0|\n",
      "| France|         18|                16|           780|        716.96|      11956.0|\n",
      "| France|         21|                19|          1510|       6432.08|      17920.0|\n",
      "| France|         23|                16|           151|        304.81|      16625.0|\n",
      "| France|         24|                 3|          1399|       4738.12|      12192.0|\n",
      "| France|         25|                 7|            71|        238.38|      11713.0|\n",
      "| France|         26|                 7|          1652|       5358.37|      10640.0|\n",
      "| France|         27|                14|          1127|       2185.71|      12521.0|\n",
      "| France|         27|                18|           523|       1524.91|       9307.0|\n",
      "| France|         30|                12|           686|       1802.55|      10872.0|\n",
      "| France|         30|                 3|          1784|       2716.07|       8229.0|\n",
      "| France|         31|                11|          1452|       7115.88|      13159.0|\n",
      "+-------+-----------+------------------+--------------+--------------+-------------+\n",
      "only showing top 20 rows\n",
      "\n"
     ]
    }
   ],
   "source": [
    "my_window1 = Window.partitionBy(\"Country\") \\\n",
    "                    .orderBy(col(\"week_number\").asc()) \\\n",
    "                    .rowsBetween(-3 , Window.currentRow)\n",
    "                    \n",
    "df.withColumn(  \"running_total\" , round(sum(\"invoice_values\").over(my_window1)) ).show()"
   ]
  },
  {
   "cell_type": "code",
   "execution_count": 19,
   "metadata": {},
   "outputs": [
    {
     "name": "stdout",
     "output_type": "stream",
     "text": [
      "+-------+-----------+------------------+--------------+--------------+-------------+\n",
      "|country|week_number|number_of_invoices|total_quantity|invoice_values|running_total|\n",
      "+-------+-----------+------------------+--------------+--------------+-------------+\n",
      "| France|          3|                17|          1424|       6539.15|       8442.0|\n",
      "| France|          3|                 4|           470|        307.28|       5780.0|\n",
      "| France|          6|                14|           320|       1595.44|      13451.0|\n",
      "| France|          7|                14|           899|        3877.5|      14876.0|\n",
      "| France|         12|                 4|          1661|       7977.64|      11467.0|\n",
      "| France|         15|                14|          1584|       3020.55|       5088.0|\n",
      "| France|         17|                 2|           179|        468.48|      11239.0|\n",
      "| France|         18|                11|           428|       1599.14|      11488.0|\n",
      "| France|         18|                 3|          1882|       9171.42|      16320.0|\n",
      "| France|         18|                16|           780|        716.96|       7454.0|\n",
      "| France|         21|                19|          1510|       6432.08|      11475.0|\n",
      "| France|         23|                16|           151|        304.81|       5281.0|\n",
      "| France|         24|                 3|          1399|       4738.12|      10335.0|\n",
      "| France|         25|                 7|            71|        238.38|       7782.0|\n",
      "| France|         26|                 7|          1652|       5358.37|       9069.0|\n",
      "| France|         27|                14|          1127|       2185.71|       5513.0|\n",
      "| France|         27|                18|           523|       1524.91|       6044.0|\n",
      "| France|         30|                12|           686|       1802.55|      11635.0|\n",
      "| France|         30|                 3|          1784|       2716.07|      13702.0|\n",
      "| France|         31|                11|          1452|       7115.88|      12943.0|\n",
      "+-------+-----------+------------------+--------------+--------------+-------------+\n",
      "only showing top 20 rows\n",
      "\n"
     ]
    }
   ],
   "source": [
    "my_window1 = Window.partitionBy(\"Country\") \\\n",
    "                    .orderBy(col(\"week_number\").asc()) \\\n",
    "                    .rowsBetween(Window.currentRow,2)\n",
    "                    \n",
    "df.withColumn(  \"running_total\" , round(sum(\"invoice_values\").over(my_window1)) ).show()"
   ]
  },
  {
   "cell_type": "code",
   "execution_count": 21,
   "metadata": {},
   "outputs": [
    {
     "name": "stdout",
     "output_type": "stream",
     "text": [
      "+-------+-----------+------------------+--------------+--------------+-------------+\n",
      "|country|week_number|number_of_invoices|total_quantity|invoice_values|running_total|\n",
      "+-------+-----------+------------------+--------------+--------------+-------------+\n",
      "| France|          3|                17|          1424|       6539.15|       6846.0|\n",
      "| France|          3|                 4|           470|        307.28|       8442.0|\n",
      "| France|          6|                14|           320|       1595.44|       5780.0|\n",
      "| France|          7|                14|           899|        3877.5|      13451.0|\n",
      "| France|         12|                 4|          1661|       7977.64|      14876.0|\n",
      "| France|         15|                14|          1584|       3020.55|      11467.0|\n",
      "| France|         17|                 2|           179|        468.48|       5088.0|\n",
      "| France|         18|                11|           428|       1599.14|      11239.0|\n",
      "| France|         18|                 3|          1882|       9171.42|      11488.0|\n",
      "| France|         18|                16|           780|        716.96|      16320.0|\n",
      "| France|         21|                19|          1510|       6432.08|       7454.0|\n",
      "| France|         23|                16|           151|        304.81|      11475.0|\n",
      "| France|         24|                 3|          1399|       4738.12|       5281.0|\n",
      "| France|         25|                 7|            71|        238.38|      10335.0|\n",
      "| France|         26|                 7|          1652|       5358.37|       7782.0|\n",
      "| France|         27|                14|          1127|       2185.71|       9069.0|\n",
      "| France|         27|                18|           523|       1524.91|       5513.0|\n",
      "| France|         30|                12|           686|       1802.55|       6044.0|\n",
      "| France|         30|                 3|          1784|       2716.07|      11635.0|\n",
      "| France|         31|                11|          1452|       7115.88|      13702.0|\n",
      "+-------+-----------+------------------+--------------+--------------+-------------+\n",
      "only showing top 20 rows\n",
      "\n"
     ]
    }
   ],
   "source": [
    "my_window1 = Window.partitionBy(\"Country\") \\\n",
    "                    .orderBy(col(\"week_number\").asc()) \\\n",
    "                    .rowsBetween(-1,1)\n",
    "                    \n",
    "df.withColumn(  \"running_total\" , round(sum(\"invoice_values\").over(my_window1)) ).show()"
   ]
  },
  {
   "cell_type": "code",
   "execution_count": 22,
   "metadata": {},
   "outputs": [
    {
     "name": "stdout",
     "output_type": "stream",
     "text": [
      "+-------+-----------+------------------+--------------+--------------+-------------+\n",
      "|country|week_number|number_of_invoices|total_quantity|invoice_values|running_total|\n",
      "+-------+-----------+------------------+--------------+--------------+-------------+\n",
      "| France|          3|                17|          1424|       6539.15|         null|\n",
      "| France|          3|                 4|           470|        307.28|       6539.0|\n",
      "| France|          6|                14|           320|       1595.44|       6846.0|\n",
      "| France|          7|                14|           899|        3877.5|       1903.0|\n",
      "| France|         12|                 4|          1661|       7977.64|       5473.0|\n",
      "| France|         15|                14|          1584|       3020.55|      11855.0|\n",
      "| France|         17|                 2|           179|        468.48|      10998.0|\n",
      "| France|         18|                11|           428|       1599.14|       3489.0|\n",
      "| France|         18|                 3|          1882|       9171.42|       2068.0|\n",
      "| France|         18|                16|           780|        716.96|      10771.0|\n",
      "| France|         21|                19|          1510|       6432.08|       9888.0|\n",
      "| France|         23|                16|           151|        304.81|       7149.0|\n",
      "| France|         24|                 3|          1399|       4738.12|       6737.0|\n",
      "| France|         25|                 7|            71|        238.38|       5043.0|\n",
      "| France|         26|                 7|          1652|       5358.37|       4977.0|\n",
      "| France|         27|                14|          1127|       2185.71|       5597.0|\n",
      "| France|         27|                18|           523|       1524.91|       7544.0|\n",
      "| France|         30|                12|           686|       1802.55|       3711.0|\n",
      "| France|         30|                 3|          1784|       2716.07|       3327.0|\n",
      "| France|         31|                11|          1452|       7115.88|       4519.0|\n",
      "+-------+-----------+------------------+--------------+--------------+-------------+\n",
      "only showing top 20 rows\n",
      "\n"
     ]
    }
   ],
   "source": [
    "my_window1 = Window.partitionBy(\"Country\") \\\n",
    "                    .orderBy(col(\"week_number\").asc()) \\\n",
    "                    .rowsBetween(-2,-1)\n",
    "                    \n",
    "df.withColumn(  \"running_total\" , round(sum(\"invoice_values\").over(my_window1)) ).show()"
   ]
  },
  {
   "cell_type": "code",
   "execution_count": 23,
   "metadata": {},
   "outputs": [
    {
     "name": "stdout",
     "output_type": "stream",
     "text": [
      "+-------+-----------+------------------+--------------+--------------+-------------+\n",
      "|country|week_number|number_of_invoices|total_quantity|invoice_values|running_total|\n",
      "+-------+-----------+------------------+--------------+--------------+-------------+\n",
      "| France|          3|                17|          1424|       6539.15|       1903.0|\n",
      "| France|          3|                 4|           470|        307.28|       5473.0|\n",
      "| France|          6|                14|           320|       1595.44|      11855.0|\n",
      "| France|          7|                14|           899|        3877.5|      10998.0|\n",
      "| France|         12|                 4|          1661|       7977.64|       3489.0|\n",
      "| France|         15|                14|          1584|       3020.55|       2068.0|\n",
      "| France|         17|                 2|           179|        468.48|      10771.0|\n",
      "| France|         18|                11|           428|       1599.14|       9888.0|\n",
      "| France|         18|                 3|          1882|       9171.42|       7149.0|\n",
      "| France|         18|                16|           780|        716.96|       6737.0|\n",
      "| France|         21|                19|          1510|       6432.08|       5043.0|\n",
      "| France|         23|                16|           151|        304.81|       4977.0|\n",
      "| France|         24|                 3|          1399|       4738.12|       5597.0|\n",
      "| France|         25|                 7|            71|        238.38|       7544.0|\n",
      "| France|         26|                 7|          1652|       5358.37|       3711.0|\n",
      "| France|         27|                14|          1127|       2185.71|       3327.0|\n",
      "| France|         27|                18|           523|       1524.91|       4519.0|\n",
      "| France|         30|                12|           686|       1802.55|       9832.0|\n",
      "| France|         30|                 3|          1784|       2716.07|      10986.0|\n",
      "| France|         31|                11|          1452|       7115.88|       5827.0|\n",
      "+-------+-----------+------------------+--------------+--------------+-------------+\n",
      "only showing top 20 rows\n",
      "\n"
     ]
    }
   ],
   "source": [
    "my_window1 = Window.partitionBy(\"Country\") \\\n",
    "                    .orderBy(col(\"week_number\").asc()) \\\n",
    "                    .rowsBetween(1,2)\n",
    "                    \n",
    "df.withColumn(  \"running_total\" , round(sum(\"invoice_values\").over(my_window1)) ).show()"
   ]
  },
  {
   "cell_type": "code",
   "execution_count": 30,
   "metadata": {},
   "outputs": [
    {
     "name": "stdout",
     "output_type": "stream",
     "text": [
      "+-------+-----------+------------------+--------------+--------------+-------------+\n",
      "|country|week_number|number_of_invoices|total_quantity|invoice_values|running_total|\n",
      "+-------+-----------+------------------+--------------+--------------+-------------+\n",
      "| France|          3|                17|          1424|       6539.15|      88241.0|\n",
      "| France|          3|                 4|           470|        307.28|      88241.0|\n",
      "| France|          6|                14|           320|       1595.44|      88241.0|\n",
      "| France|          7|                14|           899|        3877.5|      88241.0|\n",
      "| France|         12|                 4|          1661|       7977.64|      88241.0|\n",
      "| France|         15|                14|          1584|       3020.55|      88241.0|\n",
      "| France|         17|                 2|           179|        468.48|      88241.0|\n",
      "| France|         18|                11|           428|       1599.14|      88241.0|\n",
      "| France|         18|                 3|          1882|       9171.42|      88241.0|\n",
      "| France|         18|                16|           780|        716.96|      88241.0|\n",
      "| France|         21|                19|          1510|       6432.08|      88241.0|\n",
      "| France|         23|                16|           151|        304.81|      88241.0|\n",
      "| France|         24|                 3|          1399|       4738.12|      88241.0|\n",
      "| France|         25|                 7|            71|        238.38|      88241.0|\n",
      "| France|         26|                 7|          1652|       5358.37|      88241.0|\n",
      "| France|         27|                14|          1127|       2185.71|      88241.0|\n",
      "| France|         27|                18|           523|       1524.91|      88241.0|\n",
      "| France|         30|                12|           686|       1802.55|      88241.0|\n",
      "| France|         30|                 3|          1784|       2716.07|      88241.0|\n",
      "| France|         31|                11|          1452|       7115.88|      88241.0|\n",
      "+-------+-----------+------------------+--------------+--------------+-------------+\n",
      "only showing top 20 rows\n",
      "\n"
     ]
    }
   ],
   "source": [
    "my_window1 = Window.partitionBy(\"Country\") \\\n",
    "                    .orderBy(col(\"week_number\").asc()) \\\n",
    "                    .rowsBetween(Window.unboundedPreceding , Window.unboundedFollowing)\n",
    "                    \n",
    "df.withColumn(  \"running_total\" , round(sum(\"invoice_values\").over(my_window1)) ).show()"
   ]
  },
  {
   "cell_type": "markdown",
   "metadata": {},
   "source": [
    "## windows sql variety"
   ]
  },
  {
   "cell_type": "code",
   "execution_count": 24,
   "metadata": {},
   "outputs": [
    {
     "name": "stdout",
     "output_type": "stream",
     "text": [
      "+-------+-----------+------------------+--------------+--------------+-----------+\n",
      "|country|week_number|number_of_invoices|total_quantity|invoice_values|running_sum|\n",
      "+-------+-----------+------------------+--------------+--------------+-----------+\n",
      "| France|         52|                 4|          1511|        950.36|      950.0|\n",
      "| France|         51|                 4|           592|       2905.93|     3856.0|\n",
      "| France|         48|                 4|           977|       2260.87|     6117.0|\n",
      "| France|         47|                 9|          1644|       3987.62|     9154.0|\n",
      "| France|         47|                 2|          1907|        968.93|     7217.0|\n",
      "| France|         47|                 7|          1240|        720.77|     5677.0|\n",
      "| France|         45|                13|           107|         55.98|     1746.0|\n",
      "| France|         45|                17|           663|        737.53|     1514.0|\n",
      "| France|         42|                 1|           428|       1558.82|     2352.0|\n",
      "| France|         36|                17|           120|        576.86|     2873.0|\n",
      "| France|         35|                18|          1137|       1957.27|     4093.0|\n",
      "| France|         34|                17|          1949|        3869.9|     6404.0|\n",
      "| France|         31|                11|          1452|       7115.88|    12943.0|\n",
      "| France|         30|                12|           686|       1802.55|    12788.0|\n",
      "| France|         30|                 3|          1784|       2716.07|    11635.0|\n",
      "| France|         27|                14|          1127|       2185.71|     6704.0|\n",
      "| France|         27|                18|           523|       1524.91|     6427.0|\n",
      "| France|         26|                 7|          1652|       5358.37|     9069.0|\n",
      "| France|         25|                 7|            71|        238.38|     7122.0|\n",
      "| France|         24|                 3|          1399|       4738.12|    10335.0|\n",
      "+-------+-----------+------------------+--------------+--------------+-----------+\n",
      "only showing top 20 rows\n",
      "\n"
     ]
    }
   ],
   "source": [
    "spark.sql(\"\"\"\n",
    "    select *,\n",
    "    round(\n",
    "    sum(invoice_values)\n",
    "    over(partition by country order by week_number desc rows between 2 preceding and current row ))\n",
    "    as running_sum\n",
    "    from df_table\n",
    "          \"\"\").show()"
   ]
  },
  {
   "cell_type": "code",
   "execution_count": 25,
   "metadata": {},
   "outputs": [
    {
     "name": "stdout",
     "output_type": "stream",
     "text": [
      "+-------+-----------+------------------+--------------+--------------+-----------+\n",
      "|country|week_number|number_of_invoices|total_quantity|invoice_values|running_sum|\n",
      "+-------+-----------+------------------+--------------+--------------+-----------+\n",
      "| France|         52|                 4|          1511|        950.36|     3856.0|\n",
      "| France|         51|                 4|           592|       2905.93|     5167.0|\n",
      "| France|         48|                 4|           977|       2260.87|     6248.0|\n",
      "| France|         47|                 9|          1644|       3987.62|     4957.0|\n",
      "| France|         47|                 2|          1907|        968.93|     1690.0|\n",
      "| France|         47|                 7|          1240|        720.77|      777.0|\n",
      "| France|         45|                13|           107|         55.98|      794.0|\n",
      "| France|         45|                17|           663|        737.53|     2296.0|\n",
      "| France|         42|                 1|           428|       1558.82|     2136.0|\n",
      "| France|         36|                17|           120|        576.86|     2534.0|\n",
      "| France|         35|                18|          1137|       1957.27|     5827.0|\n",
      "| France|         34|                17|          1949|        3869.9|    10986.0|\n",
      "| France|         31|                11|          1452|       7115.88|     8918.0|\n",
      "| France|         30|                12|           686|       1802.55|     4519.0|\n",
      "| France|         30|                 3|          1784|       2716.07|     4902.0|\n",
      "| France|         27|                14|          1127|       2185.71|     3711.0|\n",
      "| France|         27|                18|           523|       1524.91|     6883.0|\n",
      "| France|         26|                 7|          1652|       5358.37|     5597.0|\n",
      "| France|         25|                 7|            71|        238.38|     4977.0|\n",
      "| France|         24|                 3|          1399|       4738.12|     5043.0|\n",
      "+-------+-----------+------------------+--------------+--------------+-----------+\n",
      "only showing top 20 rows\n",
      "\n"
     ]
    }
   ],
   "source": [
    "spark.sql(\"\"\"\n",
    "    select *,\n",
    "    round(\n",
    "    sum(invoice_values)\n",
    "    over(partition by country order by week_number desc rows between  current row and 1 following))\n",
    "    as running_sum\n",
    "    from df_table\n",
    "          \"\"\").show()"
   ]
  },
  {
   "cell_type": "code",
   "execution_count": 26,
   "metadata": {},
   "outputs": [
    {
     "name": "stdout",
     "output_type": "stream",
     "text": [
      "+-------+-----------+------------------+--------------+--------------+-----------+\n",
      "|country|week_number|number_of_invoices|total_quantity|invoice_values|running_sum|\n",
      "+-------+-----------+------------------+--------------+--------------+-----------+\n",
      "| France|         52|                 4|          1511|        950.36|       null|\n",
      "| France|         51|                 4|           592|       2905.93|      950.0|\n",
      "| France|         48|                 4|           977|       2260.87|     3856.0|\n",
      "| France|         47|                 9|          1644|       3987.62|     5167.0|\n",
      "| France|         47|                 2|          1907|        968.93|     6248.0|\n",
      "| France|         47|                 7|          1240|        720.77|     4957.0|\n",
      "| France|         45|                13|           107|         55.98|     1690.0|\n",
      "| France|         45|                17|           663|        737.53|      777.0|\n",
      "| France|         42|                 1|           428|       1558.82|      794.0|\n",
      "| France|         36|                17|           120|        576.86|     2296.0|\n",
      "| France|         35|                18|          1137|       1957.27|     2136.0|\n",
      "| France|         34|                17|          1949|        3869.9|     2534.0|\n",
      "| France|         31|                11|          1452|       7115.88|     5827.0|\n",
      "| France|         30|                12|           686|       1802.55|    10986.0|\n",
      "| France|         30|                 3|          1784|       2716.07|     8918.0|\n",
      "| France|         27|                14|          1127|       2185.71|     4519.0|\n",
      "| France|         27|                18|           523|       1524.91|     4902.0|\n",
      "| France|         26|                 7|          1652|       5358.37|     3711.0|\n",
      "| France|         25|                 7|            71|        238.38|     6883.0|\n",
      "| France|         24|                 3|          1399|       4738.12|     5597.0|\n",
      "+-------+-----------+------------------+--------------+--------------+-----------+\n",
      "only showing top 20 rows\n",
      "\n"
     ]
    }
   ],
   "source": [
    "spark.sql(\"\"\"\n",
    "    select *,\n",
    "    round(\n",
    "    sum(invoice_values)\n",
    "    over(partition by country order by week_number desc rows between 2 preceding and 1 preceding ))\n",
    "    as running_sum\n",
    "    from df_table\n",
    "          \"\"\").show()"
   ]
  },
  {
   "cell_type": "code",
   "execution_count": 27,
   "metadata": {},
   "outputs": [
    {
     "name": "stdout",
     "output_type": "stream",
     "text": [
      "+-------+-----------+------------------+--------------+--------------+-----------+\n",
      "|country|week_number|number_of_invoices|total_quantity|invoice_values|running_sum|\n",
      "+-------+-----------+------------------+--------------+--------------+-----------+\n",
      "| France|         52|                 4|          1511|        950.36|     5167.0|\n",
      "| France|         51|                 4|           592|       2905.93|     6248.0|\n",
      "| France|         48|                 4|           977|       2260.87|     4957.0|\n",
      "| France|         47|                 9|          1644|       3987.62|     1690.0|\n",
      "| France|         47|                 2|          1907|        968.93|      777.0|\n",
      "| France|         47|                 7|          1240|        720.77|      794.0|\n",
      "| France|         45|                13|           107|         55.98|     2296.0|\n",
      "| France|         45|                17|           663|        737.53|     2136.0|\n",
      "| France|         42|                 1|           428|       1558.82|     2534.0|\n",
      "| France|         36|                17|           120|        576.86|     5827.0|\n",
      "| France|         35|                18|          1137|       1957.27|    10986.0|\n",
      "| France|         34|                17|          1949|        3869.9|     8918.0|\n",
      "| France|         31|                11|          1452|       7115.88|     4519.0|\n",
      "| France|         30|                12|           686|       1802.55|     4902.0|\n",
      "| France|         30|                 3|          1784|       2716.07|     3711.0|\n",
      "| France|         27|                14|          1127|       2185.71|     6883.0|\n",
      "| France|         27|                18|           523|       1524.91|     5597.0|\n",
      "| France|         26|                 7|          1652|       5358.37|     4977.0|\n",
      "| France|         25|                 7|            71|        238.38|     5043.0|\n",
      "| France|         24|                 3|          1399|       4738.12|     6737.0|\n",
      "+-------+-----------+------------------+--------------+--------------+-----------+\n",
      "only showing top 20 rows\n",
      "\n"
     ]
    }
   ],
   "source": [
    "spark.sql(\"\"\"\n",
    "    select *,\n",
    "    round(\n",
    "    sum(invoice_values)\n",
    "    over(partition by country order by week_number desc rows between 1 following and 2 following ))\n",
    "    as running_sum\n",
    "    from df_table\n",
    "          \"\"\").show()"
   ]
  },
  {
   "cell_type": "code",
   "execution_count": 28,
   "metadata": {},
   "outputs": [
    {
     "name": "stdout",
     "output_type": "stream",
     "text": [
      "+-------+-----------+------------------+--------------+--------------+-----------+\n",
      "|country|week_number|number_of_invoices|total_quantity|invoice_values|running_sum|\n",
      "+-------+-----------+------------------+--------------+--------------+-----------+\n",
      "| France|         52|                 4|          1511|        950.36|    88241.0|\n",
      "| France|         51|                 4|           592|       2905.93|    88241.0|\n",
      "| France|         48|                 4|           977|       2260.87|    88241.0|\n",
      "| France|         47|                 9|          1644|       3987.62|    88241.0|\n",
      "| France|         47|                 2|          1907|        968.93|    88241.0|\n",
      "| France|         47|                 7|          1240|        720.77|    88241.0|\n",
      "| France|         45|                13|           107|         55.98|    88241.0|\n",
      "| France|         45|                17|           663|        737.53|    88241.0|\n",
      "| France|         42|                 1|           428|       1558.82|    88241.0|\n",
      "| France|         36|                17|           120|        576.86|    88241.0|\n",
      "| France|         35|                18|          1137|       1957.27|    88241.0|\n",
      "| France|         34|                17|          1949|        3869.9|    88241.0|\n",
      "| France|         31|                11|          1452|       7115.88|    88241.0|\n",
      "| France|         30|                12|           686|       1802.55|    88241.0|\n",
      "| France|         30|                 3|          1784|       2716.07|    88241.0|\n",
      "| France|         27|                14|          1127|       2185.71|    88241.0|\n",
      "| France|         27|                18|           523|       1524.91|    88241.0|\n",
      "| France|         26|                 7|          1652|       5358.37|    88241.0|\n",
      "| France|         25|                 7|            71|        238.38|    88241.0|\n",
      "| France|         24|                 3|          1399|       4738.12|    88241.0|\n",
      "+-------+-----------+------------------+--------------+--------------+-----------+\n",
      "only showing top 20 rows\n",
      "\n"
     ]
    }
   ],
   "source": [
    "spark.sql(\"\"\"\n",
    "    select *,\n",
    "    round(\n",
    "    sum(invoice_values)\n",
    "    over(partition by country order by week_number desc rows between unbounded preceding and unbounded following ))\n",
    "    as running_sum\n",
    "    from df_table\n",
    "          \"\"\").show()"
   ]
  }
 ],
 "metadata": {
  "kernelspec": {
   "display_name": "base",
   "language": "python",
   "name": "python3"
  },
  "language_info": {
   "codemirror_mode": {
    "name": "ipython",
    "version": 3
   },
   "file_extension": ".py",
   "mimetype": "text/x-python",
   "name": "python",
   "nbconvert_exporter": "python",
   "pygments_lexer": "ipython3",
   "version": "3.11.3"
  }
 },
 "nbformat": 4,
 "nbformat_minor": 2
}
