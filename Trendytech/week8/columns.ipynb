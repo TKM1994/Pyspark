{
 "cells": [
  {
   "cell_type": "code",
   "execution_count": 1,
   "metadata": {},
   "outputs": [],
   "source": [
    "from pyspark.sql import SparkSession\n",
    "spark = SparkSession.builder.appName(\"column\").getOrCreate()"
   ]
  },
  {
   "cell_type": "code",
   "execution_count": 3,
   "metadata": {},
   "outputs": [],
   "source": [
    "orders_df = spark.read.format(\"csv\") \\\n",
    "    .option(\"inferSchema\",\"true\") \\\n",
    "        .option(\"header\",\"true\") \\\n",
    "            .load(r\"C:\\Users\\TARUN\\Desktop\\Pyspark\\Trendytech\\data\\orders1.csv\")"
   ]
  },
  {
   "cell_type": "code",
   "execution_count": 4,
   "metadata": {},
   "outputs": [
    {
     "name": "stdout",
     "output_type": "stream",
     "text": [
      "+--------+-------------------+-----------------+---------------+\n",
      "|order_id|         order_date|order_customer_id|   order_status|\n",
      "+--------+-------------------+-----------------+---------------+\n",
      "|       1|2013-07-25 00:00:00|            11599|         CLOSED|\n",
      "|       2|2013-07-25 00:00:00|              256|PENDING_PAYMENT|\n",
      "|       3|2013-07-25 00:00:00|            12111|       COMPLETE|\n",
      "+--------+-------------------+-----------------+---------------+\n",
      "only showing top 3 rows\n",
      "\n"
     ]
    }
   ],
   "source": [
    "orders_df.show(3)"
   ]
  },
  {
   "cell_type": "code",
   "execution_count": 5,
   "metadata": {},
   "outputs": [
    {
     "name": "stdout",
     "output_type": "stream",
     "text": [
      "+--------+\n",
      "|order_id|\n",
      "+--------+\n",
      "|       1|\n",
      "|       2|\n",
      "+--------+\n",
      "only showing top 2 rows\n",
      "\n"
     ]
    }
   ],
   "source": [
    "orders_df.select(\"order_id\").show(2)"
   ]
  },
  {
   "cell_type": "code",
   "execution_count": 7,
   "metadata": {},
   "outputs": [
    {
     "name": "stdout",
     "output_type": "stream",
     "text": [
      "+--------+\n",
      "|order_id|\n",
      "+--------+\n",
      "|       1|\n",
      "|       2|\n",
      "+--------+\n",
      "only showing top 2 rows\n",
      "\n"
     ]
    }
   ],
   "source": [
    "orders_df.select(orders_df.order_id).show(2)"
   ]
  },
  {
   "cell_type": "code",
   "execution_count": 8,
   "metadata": {},
   "outputs": [
    {
     "name": "stdout",
     "output_type": "stream",
     "text": [
      "+--------+\n",
      "|order_id|\n",
      "+--------+\n",
      "|       1|\n",
      "|       2|\n",
      "+--------+\n",
      "only showing top 2 rows\n",
      "\n"
     ]
    }
   ],
   "source": [
    "orders_df.select(orders_df['order_id']).show(2)"
   ]
  },
  {
   "cell_type": "code",
   "execution_count": 11,
   "metadata": {},
   "outputs": [],
   "source": [
    "from pyspark.sql.functions import *"
   ]
  },
  {
   "cell_type": "code",
   "execution_count": 14,
   "metadata": {},
   "outputs": [
    {
     "name": "stdout",
     "output_type": "stream",
     "text": [
      "+--------+\n",
      "|order_id|\n",
      "+--------+\n",
      "|       1|\n",
      "|       2|\n",
      "+--------+\n",
      "only showing top 2 rows\n",
      "\n"
     ]
    }
   ],
   "source": [
    "orders_df.select(expr(\"order_id\")).show(2)"
   ]
  },
  {
   "cell_type": "code",
   "execution_count": 15,
   "metadata": {},
   "outputs": [
    {
     "name": "stdout",
     "output_type": "stream",
     "text": [
      "+--------+\n",
      "|order_id|\n",
      "+--------+\n",
      "|       1|\n",
      "|       2|\n",
      "+--------+\n",
      "only showing top 2 rows\n",
      "\n"
     ]
    }
   ],
   "source": [
    "orders_df.selectExpr(\"order_id\").show(2)"
   ]
  },
  {
   "cell_type": "code",
   "execution_count": 16,
   "metadata": {},
   "outputs": [
    {
     "name": "stdout",
     "output_type": "stream",
     "text": [
      "+--------+\n",
      "|order_id|\n",
      "+--------+\n",
      "|       1|\n",
      "|       2|\n",
      "+--------+\n",
      "only showing top 2 rows\n",
      "\n"
     ]
    }
   ],
   "source": [
    "orders_df.select(col(\"order_id\")).show(2)"
   ]
  },
  {
   "cell_type": "code",
   "execution_count": 17,
   "metadata": {},
   "outputs": [
    {
     "name": "stdout",
     "output_type": "stream",
     "text": [
      "+--------+\n",
      "|order_id|\n",
      "+--------+\n",
      "|       1|\n",
      "|       2|\n",
      "+--------+\n",
      "only showing top 2 rows\n",
      "\n"
     ]
    }
   ],
   "source": [
    "orders_df.select(column(\"order_id\")).show(2)"
   ]
  },
  {
   "cell_type": "code",
   "execution_count": 19,
   "metadata": {},
   "outputs": [
    {
     "name": "stdout",
     "output_type": "stream",
     "text": [
      "+--------+-------------------+-----------------+---------------+\n",
      "|order_id|         order_date|order_customer_id|   order_status|\n",
      "+--------+-------------------+-----------------+---------------+\n",
      "|       1|2013-07-25 00:00:00|            11599|         CLOSED|\n",
      "|       2|2013-07-25 00:00:00|              256|PENDING_PAYMENT|\n",
      "|       3|2013-07-25 00:00:00|            12111|       COMPLETE|\n",
      "+--------+-------------------+-----------------+---------------+\n",
      "only showing top 3 rows\n",
      "\n"
     ]
    }
   ],
   "source": [
    "orders_df.select('order_id',orders_df['order_date'],expr(\"order_customer_id\"),col(\"order_status\")).show(3)"
   ]
  },
  {
   "cell_type": "code",
   "execution_count": 22,
   "metadata": {},
   "outputs": [
    {
     "name": "stdout",
     "output_type": "stream",
     "text": [
      "+--------+------+\n",
      "|order_id|new_id|\n",
      "+--------+------+\n",
      "|       1|     2|\n",
      "|       2|     3|\n",
      "+--------+------+\n",
      "only showing top 2 rows\n",
      "\n"
     ]
    }
   ],
   "source": [
    "orders_df.select('order_id' ,(col('order_id') + 1).alias('new_id')).show(2)"
   ]
  },
  {
   "cell_type": "code",
   "execution_count": 25,
   "metadata": {},
   "outputs": [
    {
     "name": "stdout",
     "output_type": "stream",
     "text": [
      "+--------+------+\n",
      "|order_id|new_id|\n",
      "+--------+------+\n",
      "|       1|     2|\n",
      "|       2|     3|\n",
      "+--------+------+\n",
      "only showing top 2 rows\n",
      "\n"
     ]
    }
   ],
   "source": [
    "orders_df.select('order_id' ,(column('order_id') + 1).alias('new_id')).show(2)"
   ]
  },
  {
   "cell_type": "code",
   "execution_count": 24,
   "metadata": {},
   "outputs": [
    {
     "name": "stdout",
     "output_type": "stream",
     "text": [
      "+--------+------+\n",
      "|order_id|new_id|\n",
      "+--------+------+\n",
      "|       1|     2|\n",
      "|       2|     3|\n",
      "+--------+------+\n",
      "only showing top 2 rows\n",
      "\n"
     ]
    }
   ],
   "source": [
    "orders_df.select(\"order_id\", expr(\"order_id + 1  as new_id\")).show(2)"
   ]
  },
  {
   "cell_type": "code",
   "execution_count": 26,
   "metadata": {},
   "outputs": [
    {
     "name": "stderr",
     "output_type": "stream",
     "text": [
      "C:\\spark-3.4.3-bin-hadoop3\\python\\pyspark\\sql\\pandas\\conversion.py:251: FutureWarning: Passing unit-less datetime64 dtype to .astype is deprecated and will raise in a future version. Pass 'datetime64[ns]' instead\n",
      "  series = series.astype(t, copy=False)\n"
     ]
    }
   ],
   "source": [
    "pands_df = orders_df.toPandas()"
   ]
  },
  {
   "cell_type": "code",
   "execution_count": 28,
   "metadata": {},
   "outputs": [
    {
     "data": {
      "text/html": [
       "<div>\n",
       "<style scoped>\n",
       "    .dataframe tbody tr th:only-of-type {\n",
       "        vertical-align: middle;\n",
       "    }\n",
       "\n",
       "    .dataframe tbody tr th {\n",
       "        vertical-align: top;\n",
       "    }\n",
       "\n",
       "    .dataframe thead th {\n",
       "        text-align: right;\n",
       "    }\n",
       "</style>\n",
       "<table border=\"1\" class=\"dataframe\">\n",
       "  <thead>\n",
       "    <tr style=\"text-align: right;\">\n",
       "      <th></th>\n",
       "      <th>order_id</th>\n",
       "      <th>order_date</th>\n",
       "      <th>order_customer_id</th>\n",
       "      <th>order_status</th>\n",
       "    </tr>\n",
       "  </thead>\n",
       "  <tbody>\n",
       "    <tr>\n",
       "      <th>0</th>\n",
       "      <td>1</td>\n",
       "      <td>2013-07-25</td>\n",
       "      <td>11599</td>\n",
       "      <td>CLOSED</td>\n",
       "    </tr>\n",
       "    <tr>\n",
       "      <th>1</th>\n",
       "      <td>2</td>\n",
       "      <td>2013-07-25</td>\n",
       "      <td>256</td>\n",
       "      <td>PENDING_PAYMENT</td>\n",
       "    </tr>\n",
       "    <tr>\n",
       "      <th>2</th>\n",
       "      <td>3</td>\n",
       "      <td>2013-07-25</td>\n",
       "      <td>12111</td>\n",
       "      <td>COMPLETE</td>\n",
       "    </tr>\n",
       "  </tbody>\n",
       "</table>\n",
       "</div>"
      ],
      "text/plain": [
       "   order_id order_date  order_customer_id     order_status\n",
       "0         1 2013-07-25              11599           CLOSED\n",
       "1         2 2013-07-25                256  PENDING_PAYMENT\n",
       "2         3 2013-07-25              12111         COMPLETE"
      ]
     },
     "execution_count": 28,
     "metadata": {},
     "output_type": "execute_result"
    }
   ],
   "source": [
    "pands_df.head(3)"
   ]
  },
  {
   "cell_type": "code",
   "execution_count": 29,
   "metadata": {},
   "outputs": [
    {
     "data": {
      "text/plain": [
       "0    1\n",
       "1    2\n",
       "Name: order_id, dtype: int32"
      ]
     },
     "execution_count": 29,
     "metadata": {},
     "output_type": "execute_result"
    }
   ],
   "source": [
    "pands_df.order_id.head(2)"
   ]
  },
  {
   "cell_type": "code",
   "execution_count": 30,
   "metadata": {},
   "outputs": [
    {
     "data": {
      "text/plain": [
       "0    1\n",
       "1    2\n",
       "Name: order_id, dtype: int32"
      ]
     },
     "execution_count": 30,
     "metadata": {},
     "output_type": "execute_result"
    }
   ],
   "source": [
    "pands_df['order_id'].head(2)"
   ]
  },
  {
   "cell_type": "code",
   "execution_count": 31,
   "metadata": {},
   "outputs": [
    {
     "data": {
      "text/html": [
       "<div>\n",
       "<style scoped>\n",
       "    .dataframe tbody tr th:only-of-type {\n",
       "        vertical-align: middle;\n",
       "    }\n",
       "\n",
       "    .dataframe tbody tr th {\n",
       "        vertical-align: top;\n",
       "    }\n",
       "\n",
       "    .dataframe thead th {\n",
       "        text-align: right;\n",
       "    }\n",
       "</style>\n",
       "<table border=\"1\" class=\"dataframe\">\n",
       "  <thead>\n",
       "    <tr style=\"text-align: right;\">\n",
       "      <th></th>\n",
       "      <th>order_id</th>\n",
       "      <th>order_status</th>\n",
       "    </tr>\n",
       "  </thead>\n",
       "  <tbody>\n",
       "    <tr>\n",
       "      <th>0</th>\n",
       "      <td>1</td>\n",
       "      <td>CLOSED</td>\n",
       "    </tr>\n",
       "    <tr>\n",
       "      <th>1</th>\n",
       "      <td>2</td>\n",
       "      <td>PENDING_PAYMENT</td>\n",
       "    </tr>\n",
       "  </tbody>\n",
       "</table>\n",
       "</div>"
      ],
      "text/plain": [
       "   order_id     order_status\n",
       "0         1           CLOSED\n",
       "1         2  PENDING_PAYMENT"
      ]
     },
     "execution_count": 31,
     "metadata": {},
     "output_type": "execute_result"
    }
   ],
   "source": [
    "pands_df[['order_id',\"order_status\"]].head(2)"
   ]
  },
  {
   "cell_type": "code",
   "execution_count": 32,
   "metadata": {},
   "outputs": [],
   "source": [
    "orders_df.createOrReplaceTempView(\"orders\")"
   ]
  },
  {
   "cell_type": "code",
   "execution_count": 34,
   "metadata": {},
   "outputs": [
    {
     "name": "stdout",
     "output_type": "stream",
     "text": [
      "+--------+-------------------+-----------------+---------------+\n",
      "|order_id|         order_date|order_customer_id|   order_status|\n",
      "+--------+-------------------+-----------------+---------------+\n",
      "|       1|2013-07-25 00:00:00|            11599|         CLOSED|\n",
      "|       2|2013-07-25 00:00:00|              256|PENDING_PAYMENT|\n",
      "+--------+-------------------+-----------------+---------------+\n",
      "\n"
     ]
    }
   ],
   "source": [
    "spark.sql(\"select * from orders limit 2\").show()"
   ]
  },
  {
   "cell_type": "code",
   "execution_count": 35,
   "metadata": {},
   "outputs": [
    {
     "name": "stdout",
     "output_type": "stream",
     "text": [
      "+--------+\n",
      "|order_id|\n",
      "+--------+\n",
      "|       1|\n",
      "|       2|\n",
      "+--------+\n",
      "\n"
     ]
    }
   ],
   "source": [
    "spark.sql(\"select order_id from orders limit 2\").show()"
   ]
  },
  {
   "cell_type": "code",
   "execution_count": 39,
   "metadata": {},
   "outputs": [
    {
     "name": "stdout",
     "output_type": "stream",
     "text": [
      "+--------+-------------------+-------------------+-----------------+-----------------+---------------+\n",
      "|order_id|         order_date|         order_date|order_customer_id|order_customer_id|   order_status|\n",
      "+--------+-------------------+-------------------+-----------------+-----------------+---------------+\n",
      "|       2|2013-07-25 00:00:00|2013-07-25 00:00:00|              256|              256|PENDING_PAYMENT|\n",
      "|       9|2013-07-25 00:00:00|2013-07-25 00:00:00|             5657|             5657|PENDING_PAYMENT|\n",
      "|      10|2013-07-25 00:00:00|2013-07-25 00:00:00|             5648|             5648|PENDING_PAYMENT|\n",
      "|      13|2013-07-25 00:00:00|2013-07-25 00:00:00|             9149|             9149|PENDING_PAYMENT|\n",
      "|      16|2013-07-25 00:00:00|2013-07-25 00:00:00|             7276|             7276|PENDING_PAYMENT|\n",
      "|      19|2013-07-25 00:00:00|2013-07-25 00:00:00|             9488|             9488|PENDING_PAYMENT|\n",
      "|      21|2013-07-25 00:00:00|2013-07-25 00:00:00|             2711|             2711|        PENDING|\n",
      "|      23|2013-07-25 00:00:00|2013-07-25 00:00:00|             4367|             4367|PENDING_PAYMENT|\n",
      "|      27|2013-07-25 00:00:00|2013-07-25 00:00:00|             3241|             3241|PENDING_PAYMENT|\n",
      "|      30|2013-07-25 00:00:00|2013-07-25 00:00:00|            10039|            10039|PENDING_PAYMENT|\n",
      "|      33|2013-07-25 00:00:00|2013-07-25 00:00:00|             5793|             5793|PENDING_PAYMENT|\n",
      "|      36|2013-07-25 00:00:00|2013-07-25 00:00:00|             5649|             5649|        PENDING|\n",
      "|      39|2013-07-25 00:00:00|2013-07-25 00:00:00|             8214|             8214|        PENDING|\n",
      "|      40|2013-07-25 00:00:00|2013-07-25 00:00:00|            12092|            12092|PENDING_PAYMENT|\n",
      "|      41|2013-07-25 00:00:00|2013-07-25 00:00:00|             8136|             8136|PENDING_PAYMENT|\n",
      "|      42|2013-07-25 00:00:00|2013-07-25 00:00:00|             9776|             9776|        PENDING|\n",
      "|      43|2013-07-25 00:00:00|2013-07-25 00:00:00|             7776|             7776|PENDING_PAYMENT|\n",
      "|      44|2013-07-25 00:00:00|2013-07-25 00:00:00|            10500|            10500|        PENDING|\n",
      "|      47|2013-07-25 00:00:00|2013-07-25 00:00:00|             8487|             8487|PENDING_PAYMENT|\n",
      "|      49|2013-07-25 00:00:00|2013-07-25 00:00:00|             1871|             1871|        PENDING|\n",
      "+--------+-------------------+-------------------+-----------------+-----------------+---------------+\n",
      "only showing top 20 rows\n",
      "\n"
     ]
    }
   ],
   "source": [
    "orders_df.select(\"order_id\",\n",
    "                 orders_df.order_date,\n",
    "                 orders_df['order_date'],\n",
    "                 column('order_customer_id'),\n",
    "                 col('order_customer_id'),\n",
    "                 expr(\"order_status\")\n",
    "                 ).where(\"order_status like 'PENDING%'\").show()"
   ]
  },
  {
   "cell_type": "code",
   "execution_count": 38,
   "metadata": {},
   "outputs": [
    {
     "name": "stdout",
     "output_type": "stream",
     "text": [
      "+--------+-------------------+-------------------+-----------------+-----------------+---------------+\n",
      "|order_id|         order_date|         order_date|order_customer_id|order_customer_id|   order_status|\n",
      "+--------+-------------------+-------------------+-----------------+-----------------+---------------+\n",
      "|       2|2013-07-25 00:00:00|2013-07-25 00:00:00|              256|              256|PENDING_PAYMENT|\n",
      "|       9|2013-07-25 00:00:00|2013-07-25 00:00:00|             5657|             5657|PENDING_PAYMENT|\n",
      "|      10|2013-07-25 00:00:00|2013-07-25 00:00:00|             5648|             5648|PENDING_PAYMENT|\n",
      "|      13|2013-07-25 00:00:00|2013-07-25 00:00:00|             9149|             9149|PENDING_PAYMENT|\n",
      "|      16|2013-07-25 00:00:00|2013-07-25 00:00:00|             7276|             7276|PENDING_PAYMENT|\n",
      "|      19|2013-07-25 00:00:00|2013-07-25 00:00:00|             9488|             9488|PENDING_PAYMENT|\n",
      "|      21|2013-07-25 00:00:00|2013-07-25 00:00:00|             2711|             2711|        PENDING|\n",
      "|      23|2013-07-25 00:00:00|2013-07-25 00:00:00|             4367|             4367|PENDING_PAYMENT|\n",
      "|      27|2013-07-25 00:00:00|2013-07-25 00:00:00|             3241|             3241|PENDING_PAYMENT|\n",
      "|      30|2013-07-25 00:00:00|2013-07-25 00:00:00|            10039|            10039|PENDING_PAYMENT|\n",
      "|      33|2013-07-25 00:00:00|2013-07-25 00:00:00|             5793|             5793|PENDING_PAYMENT|\n",
      "|      36|2013-07-25 00:00:00|2013-07-25 00:00:00|             5649|             5649|        PENDING|\n",
      "|      39|2013-07-25 00:00:00|2013-07-25 00:00:00|             8214|             8214|        PENDING|\n",
      "|      40|2013-07-25 00:00:00|2013-07-25 00:00:00|            12092|            12092|PENDING_PAYMENT|\n",
      "|      41|2013-07-25 00:00:00|2013-07-25 00:00:00|             8136|             8136|PENDING_PAYMENT|\n",
      "|      42|2013-07-25 00:00:00|2013-07-25 00:00:00|             9776|             9776|        PENDING|\n",
      "|      43|2013-07-25 00:00:00|2013-07-25 00:00:00|             7776|             7776|PENDING_PAYMENT|\n",
      "|      44|2013-07-25 00:00:00|2013-07-25 00:00:00|            10500|            10500|        PENDING|\n",
      "|      47|2013-07-25 00:00:00|2013-07-25 00:00:00|             8487|             8487|PENDING_PAYMENT|\n",
      "|      49|2013-07-25 00:00:00|2013-07-25 00:00:00|             1871|             1871|        PENDING|\n",
      "+--------+-------------------+-------------------+-----------------+-----------------+---------------+\n",
      "only showing top 20 rows\n",
      "\n"
     ]
    }
   ],
   "source": [
    "orders_df.select(\"order_id\",\n",
    "                 orders_df.order_date,\n",
    "                 orders_df['order_date'],\n",
    "                 column('order_customer_id'),\n",
    "                 col('order_customer_id'),\n",
    "                 expr(\"order_status\")\n",
    "                 ).where(col('order_status').like('PENDING%')).show()"
   ]
  },
  {
   "cell_type": "code",
   "execution_count": 40,
   "metadata": {},
   "outputs": [
    {
     "name": "stdout",
     "output_type": "stream",
     "text": [
      "+--------+-----------------+---------------+\n",
      "|order_id|order_customer_id|   order_status|\n",
      "+--------+-----------------+---------------+\n",
      "|       2|              256|PENDING_PAYMENT|\n",
      "|       9|             5657|PENDING_PAYMENT|\n",
      "|      10|             5648|PENDING_PAYMENT|\n",
      "|      13|             9149|PENDING_PAYMENT|\n",
      "|      16|             7276|PENDING_PAYMENT|\n",
      "|      19|             9488|PENDING_PAYMENT|\n",
      "|      21|             2711|        PENDING|\n",
      "|      23|             4367|PENDING_PAYMENT|\n",
      "|      27|             3241|PENDING_PAYMENT|\n",
      "|      30|            10039|PENDING_PAYMENT|\n",
      "|      33|             5793|PENDING_PAYMENT|\n",
      "|      36|             5649|        PENDING|\n",
      "|      39|             8214|        PENDING|\n",
      "|      40|            12092|PENDING_PAYMENT|\n",
      "|      41|             8136|PENDING_PAYMENT|\n",
      "|      42|             9776|        PENDING|\n",
      "|      43|             7776|PENDING_PAYMENT|\n",
      "|      44|            10500|        PENDING|\n",
      "|      47|             8487|PENDING_PAYMENT|\n",
      "|      49|             1871|        PENDING|\n",
      "+--------+-----------------+---------------+\n",
      "only showing top 20 rows\n",
      "\n"
     ]
    }
   ],
   "source": [
    "orders_df.select(\"order_id\",\n",
    "                 'order_customer_id',\n",
    "                 \"order_status\"\n",
    "                 ).where(col('order_status').like('PENDING%')).show()"
   ]
  },
  {
   "cell_type": "code",
   "execution_count": 41,
   "metadata": {},
   "outputs": [],
   "source": [
    "spark.stop()"
   ]
  }
 ],
 "metadata": {
  "kernelspec": {
   "display_name": "base",
   "language": "python",
   "name": "python3"
  },
  "language_info": {
   "codemirror_mode": {
    "name": "ipython",
    "version": 3
   },
   "file_extension": ".py",
   "mimetype": "text/x-python",
   "name": "python",
   "nbconvert_exporter": "python",
   "pygments_lexer": "ipython3",
   "version": "3.11.3"
  }
 },
 "nbformat": 4,
 "nbformat_minor": 2
}
