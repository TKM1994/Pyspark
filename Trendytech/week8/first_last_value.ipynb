{
 "cells": [
  {
   "cell_type": "code",
   "execution_count": 1,
   "metadata": {},
   "outputs": [],
   "source": [
    "from pyspark.sql import SparkSession\n",
    "# Initialize a Spark session\n",
    "spark = SparkSession.builder.appName(\"WindowFunctionsExample\").getOrCreate()"
   ]
  },
  {
   "cell_type": "code",
   "execution_count": 8,
   "metadata": {},
   "outputs": [
    {
     "name": "stdout",
     "output_type": "stream",
     "text": [
      "+-----------+-----------+------------------+--------------+--------------+\n",
      "|    country|week_number|number_of_invoices|total_quantity|invoice_values|\n",
      "+-----------+-----------+------------------+--------------+--------------+\n",
      "|   Portugal|         22|                19|          1525|       4975.32|\n",
      "|   Portugal|         22|                18|          1230|       4975.32|\n",
      "|    Germany|          2|                14|          1680|       6040.99|\n",
      "|    Germany|          2|                15|          1890|       6040.99|\n",
      "|Netherlands|         49|                 5|            28|        103.78|\n",
      "|Netherlands|         49|                 7|            42|        103.78|\n",
      "|      Spain|          4|                16|           730|       1909.05|\n",
      "|      Spain|          4|                15|           680|       1909.05|\n",
      "|Netherlands|         29|                 4|          1723|       3435.96|\n",
      "|Netherlands|         29|                 3|          1543|       3435.96|\n",
      "|    Germany|         25|                 5|          1169|       5154.49|\n",
      "|    Germany|         25|                 4|           987|       5154.49|\n",
      "|     France|         47|                 9|          1644|       3987.62|\n",
      "|     France|         47|                 8|          1456|       3987.62|\n",
      "|      Spain|         49|                11|           657|       2881.72|\n",
      "|      Spain|         49|                10|           590|       2881.72|\n",
      "|     France|         18|                 3|          1882|       9171.42|\n",
      "|     France|         18|                 2|          1673|       9171.42|\n",
      "|    Germany|         42|                18|          1719|       1383.78|\n",
      "|    Germany|         42|                17|          1532|       1383.78|\n",
      "+-----------+-----------+------------------+--------------+--------------+\n",
      "\n"
     ]
    }
   ],
   "source": [
    "# Define schema\n",
    "schema = [\"country\", \"week_number\", \"number_of_invoices\", \"total_quantity\", \"invoice_values\"]\n",
    "\n",
    "# Data for each country (with repeated invoice values for ranking)\n",
    "data = [\n",
    "    (\"Portugal\", 22, 19, 1525, 4975.32), (\"Portugal\", 22, 18, 1230, 4975.32),\n",
    "    (\"Germany\", 2, 14, 1680, 6040.99), (\"Germany\", 2, 15, 1890, 6040.99),\n",
    "    (\"Netherlands\", 49, 5, 28, 103.78), (\"Netherlands\", 49, 7, 42, 103.78),\n",
    "    (\"Spain\", 4, 16, 730, 1909.05), (\"Spain\", 4, 15, 680, 1909.05),\n",
    "    (\"Netherlands\", 29, 4, 1723, 3435.96), (\"Netherlands\", 29, 3, 1543, 3435.96),\n",
    "    (\"Germany\", 25, 5, 1169, 5154.49), (\"Germany\", 25, 4, 987, 5154.49),\n",
    "    (\"France\", 47, 9, 1644, 3987.62), (\"France\", 47, 8, 1456, 3987.62),\n",
    "    (\"Spain\", 49, 11, 657, 2881.72), (\"Spain\", 49, 10, 590, 2881.72),\n",
    "    (\"France\", 18, 3, 1882, 9171.42), (\"France\", 18, 2, 1673, 9171.42),\n",
    "    (\"Germany\", 42, 18, 1719, 1383.78), (\"Germany\", 42, 17, 1532, 1383.78),\n",
    "    \n",
    "]\n",
    "\n",
    "df = spark.createDataFrame(data, schema=schema)\n",
    "\n",
    "df.show()  "
   ]
  },
  {
   "cell_type": "code",
   "execution_count": 13,
   "metadata": {},
   "outputs": [],
   "source": [
    "from pyspark.sql.window import Window\n",
    "from pyspark.sql.functions import *\n"
   ]
  },
  {
   "cell_type": "code",
   "execution_count": 14,
   "metadata": {},
   "outputs": [],
   "source": [
    "# Define window specification\n",
    "my_window = Window.partitionBy(\"country\") \\\n",
    "            .orderBy(asc(\"week_number\"))"
   ]
  },
  {
   "cell_type": "code",
   "execution_count": 17,
   "metadata": {},
   "outputs": [
    {
     "name": "stdout",
     "output_type": "stream",
     "text": [
      "+-----------+-----------+------------------+--------------+--------------+-----------+\n",
      "|    country|week_number|number_of_invoices|total_quantity|invoice_values|first_value|\n",
      "+-----------+-----------+------------------+--------------+--------------+-----------+\n",
      "|     France|         18|                 3|          1882|       9171.42|    9171.42|\n",
      "|     France|         18|                 2|          1673|       9171.42|    9171.42|\n",
      "|     France|         47|                 9|          1644|       3987.62|    9171.42|\n",
      "|     France|         47|                 8|          1456|       3987.62|    9171.42|\n",
      "|    Germany|          2|                14|          1680|       6040.99|    6040.99|\n",
      "|    Germany|          2|                15|          1890|       6040.99|    6040.99|\n",
      "|    Germany|         25|                 5|          1169|       5154.49|    6040.99|\n",
      "|    Germany|         25|                 4|           987|       5154.49|    6040.99|\n",
      "|    Germany|         42|                18|          1719|       1383.78|    6040.99|\n",
      "|    Germany|         42|                17|          1532|       1383.78|    6040.99|\n",
      "|Netherlands|         29|                 4|          1723|       3435.96|    3435.96|\n",
      "|Netherlands|         29|                 3|          1543|       3435.96|    3435.96|\n",
      "|Netherlands|         49|                 5|            28|        103.78|    3435.96|\n",
      "|Netherlands|         49|                 7|            42|        103.78|    3435.96|\n",
      "|   Portugal|         22|                19|          1525|       4975.32|    4975.32|\n",
      "|   Portugal|         22|                18|          1230|       4975.32|    4975.32|\n",
      "|      Spain|          4|                16|           730|       1909.05|    1909.05|\n",
      "|      Spain|          4|                15|           680|       1909.05|    1909.05|\n",
      "|      Spain|         49|                11|           657|       2881.72|    1909.05|\n",
      "|      Spain|         49|                10|           590|       2881.72|    1909.05|\n",
      "+-----------+-----------+------------------+--------------+--------------+-----------+\n",
      "\n"
     ]
    }
   ],
   "source": [
    "df.withColumn(\"first_value\",nth_value(\"invoice_values\",1).over(my_window)).show()"
   ]
  },
  {
   "cell_type": "code",
   "execution_count": 20,
   "metadata": {},
   "outputs": [
    {
     "name": "stdout",
     "output_type": "stream",
     "text": [
      "+-----------+-----------+------------------+--------------+--------------+-----------+\n",
      "|    country|week_number|number_of_invoices|total_quantity|invoice_values|nth_value_2|\n",
      "+-----------+-----------+------------------+--------------+--------------+-----------+\n",
      "|     France|         18|                 3|          1882|       9171.42|       null|\n",
      "|     France|         18|                 2|          1673|       9171.42|       null|\n",
      "|     France|         47|                 9|          1644|       3987.62|    3987.62|\n",
      "|     France|         47|                 8|          1456|       3987.62|    3987.62|\n",
      "|    Germany|          2|                14|          1680|       6040.99|       null|\n",
      "|    Germany|          2|                15|          1890|       6040.99|       null|\n",
      "|    Germany|         25|                 5|          1169|       5154.49|    5154.49|\n",
      "|    Germany|         25|                 4|           987|       5154.49|    5154.49|\n",
      "|    Germany|         42|                18|          1719|       1383.78|    5154.49|\n",
      "|    Germany|         42|                17|          1532|       1383.78|    5154.49|\n",
      "|Netherlands|         29|                 4|          1723|       3435.96|       null|\n",
      "|Netherlands|         29|                 3|          1543|       3435.96|       null|\n",
      "|Netherlands|         49|                 5|            28|        103.78|     103.78|\n",
      "|Netherlands|         49|                 7|            42|        103.78|     103.78|\n",
      "|   Portugal|         22|                19|          1525|       4975.32|       null|\n",
      "|   Portugal|         22|                18|          1230|       4975.32|       null|\n",
      "|      Spain|          4|                16|           730|       1909.05|       null|\n",
      "|      Spain|          4|                15|           680|       1909.05|       null|\n",
      "|      Spain|         49|                11|           657|       2881.72|    2881.72|\n",
      "|      Spain|         49|                10|           590|       2881.72|    2881.72|\n",
      "+-----------+-----------+------------------+--------------+--------------+-----------+\n",
      "\n"
     ]
    }
   ],
   "source": [
    "my_window = Window.partitionBy(\"country\") \\\n",
    "            .orderBy(asc(\"week_number\"))\n",
    "df.withColumn(\"nth_value_2\",nth_value(\"invoice_values\",3).over(my_window)).show()"
   ]
  },
  {
   "cell_type": "code",
   "execution_count": 21,
   "metadata": {},
   "outputs": [
    {
     "name": "stdout",
     "output_type": "stream",
     "text": [
      "+-----------+-----------+------------------+--------------+--------------+-----------+\n",
      "|    country|week_number|number_of_invoices|total_quantity|invoice_values|nth_value_2|\n",
      "+-----------+-----------+------------------+--------------+--------------+-----------+\n",
      "|     France|         18|                 3|          1882|       9171.42|    3987.62|\n",
      "|     France|         18|                 2|          1673|       9171.42|    3987.62|\n",
      "|     France|         47|                 9|          1644|       3987.62|    3987.62|\n",
      "|     France|         47|                 8|          1456|       3987.62|    3987.62|\n",
      "|    Germany|          2|                14|          1680|       6040.99|    5154.49|\n",
      "|    Germany|          2|                15|          1890|       6040.99|    5154.49|\n",
      "|    Germany|         25|                 5|          1169|       5154.49|    5154.49|\n",
      "|    Germany|         25|                 4|           987|       5154.49|    5154.49|\n",
      "|    Germany|         42|                18|          1719|       1383.78|    5154.49|\n",
      "|    Germany|         42|                17|          1532|       1383.78|    5154.49|\n",
      "|Netherlands|         29|                 4|          1723|       3435.96|     103.78|\n",
      "|Netherlands|         29|                 3|          1543|       3435.96|     103.78|\n",
      "|Netherlands|         49|                 5|            28|        103.78|     103.78|\n",
      "|Netherlands|         49|                 7|            42|        103.78|     103.78|\n",
      "|   Portugal|         22|                19|          1525|       4975.32|       null|\n",
      "|   Portugal|         22|                18|          1230|       4975.32|       null|\n",
      "|      Spain|          4|                16|           730|       1909.05|    2881.72|\n",
      "|      Spain|          4|                15|           680|       1909.05|    2881.72|\n",
      "|      Spain|         49|                11|           657|       2881.72|    2881.72|\n",
      "|      Spain|         49|                10|           590|       2881.72|    2881.72|\n",
      "+-----------+-----------+------------------+--------------+--------------+-----------+\n",
      "\n"
     ]
    }
   ],
   "source": [
    "my_window = Window.partitionBy(\"country\") \\\n",
    "            .orderBy(asc(\"week_number\")) \\\n",
    "                .rowsBetween(Window.unboundedPreceding, Window.unboundedFollowing)\n",
    "df.withColumn(\"nth_value_2\",nth_value(\"invoice_values\",3).over(my_window)).show()"
   ]
  },
  {
   "cell_type": "code",
   "execution_count": 26,
   "metadata": {},
   "outputs": [
    {
     "name": "stdout",
     "output_type": "stream",
     "text": [
      "+-----------+-----------+------------------+--------------+--------------+-----------+\n",
      "|    country|week_number|number_of_invoices|total_quantity|invoice_values|first_value|\n",
      "+-----------+-----------+------------------+--------------+--------------+-----------+\n",
      "|     France|         18|                 3|          1882|       9171.42|    9171.42|\n",
      "|     France|         18|                 2|          1673|       9171.42|    9171.42|\n",
      "|     France|         47|                 9|          1644|       3987.62|    9171.42|\n",
      "|     France|         47|                 8|          1456|       3987.62|    9171.42|\n",
      "|    Germany|          2|                14|          1680|       6040.99|    6040.99|\n",
      "|    Germany|          2|                15|          1890|       6040.99|    6040.99|\n",
      "|    Germany|         25|                 5|          1169|       5154.49|    6040.99|\n",
      "|    Germany|         25|                 4|           987|       5154.49|    6040.99|\n",
      "|    Germany|         42|                18|          1719|       1383.78|    6040.99|\n",
      "|    Germany|         42|                17|          1532|       1383.78|    6040.99|\n",
      "|Netherlands|         29|                 4|          1723|       3435.96|    3435.96|\n",
      "|Netherlands|         29|                 3|          1543|       3435.96|    3435.96|\n",
      "|Netherlands|         49|                 5|            28|        103.78|    3435.96|\n",
      "|Netherlands|         49|                 7|            42|        103.78|    3435.96|\n",
      "|   Portugal|         22|                19|          1525|       4975.32|    4975.32|\n",
      "|   Portugal|         22|                18|          1230|       4975.32|    4975.32|\n",
      "|      Spain|          4|                16|           730|       1909.05|    1909.05|\n",
      "|      Spain|          4|                15|           680|       1909.05|    1909.05|\n",
      "|      Spain|         49|                11|           657|       2881.72|    1909.05|\n",
      "|      Spain|         49|                10|           590|       2881.72|    1909.05|\n",
      "+-----------+-----------+------------------+--------------+--------------+-----------+\n",
      "\n"
     ]
    }
   ],
   "source": [
    "df.withColumn(\"first_value\",\n",
    "              expr(\"first_value(invoice_values) over(partition by country order by week_number)\")).show()"
   ]
  },
  {
   "cell_type": "code",
   "execution_count": 28,
   "metadata": {},
   "outputs": [
    {
     "name": "stdout",
     "output_type": "stream",
     "text": [
      "+-----------+-----------+------------------+--------------+--------------+----------+\n",
      "|    country|week_number|number_of_invoices|total_quantity|invoice_values|last_value|\n",
      "+-----------+-----------+------------------+--------------+--------------+----------+\n",
      "|     France|         18|                 3|          1882|       9171.42|   3987.62|\n",
      "|     France|         18|                 2|          1673|       9171.42|   3987.62|\n",
      "|     France|         47|                 9|          1644|       3987.62|   3987.62|\n",
      "|     France|         47|                 8|          1456|       3987.62|   3987.62|\n",
      "|    Germany|          2|                14|          1680|       6040.99|   1383.78|\n",
      "|    Germany|          2|                15|          1890|       6040.99|   1383.78|\n",
      "|    Germany|         25|                 5|          1169|       5154.49|   1383.78|\n",
      "|    Germany|         25|                 4|           987|       5154.49|   1383.78|\n",
      "|    Germany|         42|                18|          1719|       1383.78|   1383.78|\n",
      "|    Germany|         42|                17|          1532|       1383.78|   1383.78|\n",
      "|Netherlands|         29|                 4|          1723|       3435.96|    103.78|\n",
      "|Netherlands|         29|                 3|          1543|       3435.96|    103.78|\n",
      "|Netherlands|         49|                 5|            28|        103.78|    103.78|\n",
      "|Netherlands|         49|                 7|            42|        103.78|    103.78|\n",
      "|   Portugal|         22|                19|          1525|       4975.32|   4975.32|\n",
      "|   Portugal|         22|                18|          1230|       4975.32|   4975.32|\n",
      "|      Spain|          4|                16|           730|       1909.05|   2881.72|\n",
      "|      Spain|          4|                15|           680|       1909.05|   2881.72|\n",
      "|      Spain|         49|                11|           657|       2881.72|   2881.72|\n",
      "|      Spain|         49|                10|           590|       2881.72|   2881.72|\n",
      "+-----------+-----------+------------------+--------------+--------------+----------+\n",
      "\n"
     ]
    }
   ],
   "source": [
    "df.withColumn(\"last_value\",expr(\" last_value(invoice_values) \\\n",
    "over(partition by country order by week_number rows between unbounded preceding and unbounded following)\")) \\\n",
    "    .show()"
   ]
  },
  {
   "cell_type": "code",
   "execution_count": 29,
   "metadata": {},
   "outputs": [
    {
     "name": "stdout",
     "output_type": "stream",
     "text": [
      "+-----------+-----------+------------------+--------------+--------------+----------+\n",
      "|    country|week_number|number_of_invoices|total_quantity|invoice_values|nth_value3|\n",
      "+-----------+-----------+------------------+--------------+--------------+----------+\n",
      "|     France|         18|                 3|          1882|       9171.42|   3987.62|\n",
      "|     France|         18|                 2|          1673|       9171.42|   3987.62|\n",
      "|     France|         47|                 9|          1644|       3987.62|   3987.62|\n",
      "|     France|         47|                 8|          1456|       3987.62|   3987.62|\n",
      "|    Germany|          2|                14|          1680|       6040.99|   5154.49|\n",
      "|    Germany|          2|                15|          1890|       6040.99|   5154.49|\n",
      "|    Germany|         25|                 5|          1169|       5154.49|   5154.49|\n",
      "|    Germany|         25|                 4|           987|       5154.49|   5154.49|\n",
      "|    Germany|         42|                18|          1719|       1383.78|   5154.49|\n",
      "|    Germany|         42|                17|          1532|       1383.78|   5154.49|\n",
      "|Netherlands|         29|                 4|          1723|       3435.96|    103.78|\n",
      "|Netherlands|         29|                 3|          1543|       3435.96|    103.78|\n",
      "|Netherlands|         49|                 5|            28|        103.78|    103.78|\n",
      "|Netherlands|         49|                 7|            42|        103.78|    103.78|\n",
      "|   Portugal|         22|                19|          1525|       4975.32|      null|\n",
      "|   Portugal|         22|                18|          1230|       4975.32|      null|\n",
      "|      Spain|          4|                16|           730|       1909.05|   2881.72|\n",
      "|      Spain|          4|                15|           680|       1909.05|   2881.72|\n",
      "|      Spain|         49|                11|           657|       2881.72|   2881.72|\n",
      "|      Spain|         49|                10|           590|       2881.72|   2881.72|\n",
      "+-----------+-----------+------------------+--------------+--------------+----------+\n",
      "\n"
     ]
    }
   ],
   "source": [
    "df.withColumn(\"nth_value3\",expr(\" nth_value(invoice_values,3) \\\n",
    "over(partition by country order by week_number rows between unbounded preceding and unbounded following)\")) \\\n",
    "    .show()"
   ]
  },
  {
   "cell_type": "code",
   "execution_count": 30,
   "metadata": {},
   "outputs": [],
   "source": [
    "df.createOrReplaceTempView(\"df_table\")"
   ]
  },
  {
   "cell_type": "code",
   "execution_count": 34,
   "metadata": {},
   "outputs": [
    {
     "name": "stdout",
     "output_type": "stream",
     "text": [
      "+-----------+-----------+--------------+--------+--------+--------+\n",
      "|    country|week_number|invoice_values|fstvalue|lstvalue|nthvalue|\n",
      "+-----------+-----------+--------------+--------+--------+--------+\n",
      "|     France|         18|       9171.42| 9171.42| 3987.62| 9171.42|\n",
      "|     France|         18|       9171.42| 9171.42| 3987.62| 9171.42|\n",
      "|     France|         47|       3987.62| 9171.42| 3987.62| 9171.42|\n",
      "|     France|         47|       3987.62| 9171.42| 3987.62| 9171.42|\n",
      "|    Germany|          2|       6040.99| 6040.99| 1383.78| 6040.99|\n",
      "|    Germany|          2|       6040.99| 6040.99| 1383.78| 6040.99|\n",
      "|    Germany|         25|       5154.49| 6040.99| 1383.78| 6040.99|\n",
      "|    Germany|         25|       5154.49| 6040.99| 1383.78| 6040.99|\n",
      "|    Germany|         42|       1383.78| 6040.99| 1383.78| 6040.99|\n",
      "|    Germany|         42|       1383.78| 6040.99| 1383.78| 6040.99|\n",
      "|Netherlands|         29|       3435.96| 3435.96|  103.78| 3435.96|\n",
      "|Netherlands|         29|       3435.96| 3435.96|  103.78| 3435.96|\n",
      "|Netherlands|         49|        103.78| 3435.96|  103.78| 3435.96|\n",
      "|Netherlands|         49|        103.78| 3435.96|  103.78| 3435.96|\n",
      "|   Portugal|         22|       4975.32| 4975.32| 4975.32| 4975.32|\n",
      "|   Portugal|         22|       4975.32| 4975.32| 4975.32| 4975.32|\n",
      "|      Spain|          4|       1909.05| 1909.05| 2881.72| 1909.05|\n",
      "|      Spain|          4|       1909.05| 1909.05| 2881.72| 1909.05|\n",
      "|      Spain|         49|       2881.72| 1909.05| 2881.72| 1909.05|\n",
      "|      Spain|         49|       2881.72| 1909.05| 2881.72| 1909.05|\n",
      "+-----------+-----------+--------------+--------+--------+--------+\n",
      "\n"
     ]
    }
   ],
   "source": [
    "spark.sql(\"\"\"\n",
    "select country ,week_number ,invoice_values,\n",
    "first_value(invoice_values) over(partition by country order by week_number ) as fstvalue,\n",
    "last_value(invoice_values) over(partition by country order by week_number \n",
    "                                rows between unbounded preceding and unbounded following ) as lstvalue,\n",
    "nth_value(invoice_values , 2) over(partition by country order by week_number \n",
    "                                rows between unbounded preceding and unbounded following ) as nthvalue\n",
    "from df_table\n",
    "          \"\"\").show()"
   ]
  }
 ],
 "metadata": {
  "kernelspec": {
   "display_name": "base",
   "language": "python",
   "name": "python3"
  },
  "language_info": {
   "codemirror_mode": {
    "name": "ipython",
    "version": 3
   },
   "file_extension": ".py",
   "mimetype": "text/x-python",
   "name": "python",
   "nbconvert_exporter": "python",
   "pygments_lexer": "ipython3",
   "version": "3.11.3"
  }
 },
 "nbformat": 4,
 "nbformat_minor": 2
}
